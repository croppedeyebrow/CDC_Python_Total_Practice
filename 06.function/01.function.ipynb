{
 "cells": [
  {
   "cell_type": "code",
   "execution_count": null,
   "metadata": {},
   "outputs": [],
   "source": [
    "def easy_Recipe(a,b):\n",
    "    print(f\"{a}와{b}를 이용해서 맛있는 요리를 시작합니다.\") \n",
    "    result = a+b +'볶음밥'\n",
    "    print(\"요리완료\")\n",
    "    return result\n",
    "\n",
    "print(easy_Recipe('계란','김치'))\n",
    "print('-------------------')\n",
    "print(easy_Recipe('참치','김치'))"
   ]
  },
  {
   "cell_type": "code",
   "execution_count": 8,
   "metadata": {},
   "outputs": [
    {
     "name": "stdout",
     "output_type": "stream",
     "text": [
      "팀의 게임 평균 골드 획득량을 계산합니다. \n",
      "계산완료\n",
      "15000.0\n"
     ]
    }
   ],
   "source": [
    "def cal_average_gold(a,b,c):\n",
    "    print(\"팀의 게임 평균 골드 획득량을 계산합니다. \")\n",
    "    result = (a+b+c)/len([a,b,c])\n",
    "    print(\"계산완료\")\n",
    "    return result\n",
    "\n",
    "\n",
    "print(cal_average_gold(12000,15000,18000))"
   ]
  },
  {
   "cell_type": "code",
   "execution_count": 9,
   "metadata": {},
   "outputs": [
    {
     "name": "stdout",
     "output_type": "stream",
     "text": [
      "플레이어의 KDA를 계산합니다.\n",
      "계산완료\n",
      "8.5\n"
     ]
    }
   ],
   "source": [
    "def cal_kda(k,d,a):\n",
    "   print(\"플레이어의 KDA를 계산합니다.\") \n",
    "   result = (k+a)/d\n",
    "   print(\"계산완료\")\n",
    "   return result\n",
    "\n",
    "\n",
    "print(cal_kda(10,2,7))\n"
   ]
  }
 ],
 "metadata": {
  "kernelspec": {
   "display_name": "pyenv311",
   "language": "python",
   "name": "python3"
  },
  "language_info": {
   "codemirror_mode": {
    "name": "ipython",
    "version": 3
   },
   "file_extension": ".py",
   "mimetype": "text/x-python",
   "name": "python",
   "nbconvert_exporter": "python",
   "pygments_lexer": "ipython3",
   "version": "3.11.5"
  }
 },
 "nbformat": 4,
 "nbformat_minor": 2
}
