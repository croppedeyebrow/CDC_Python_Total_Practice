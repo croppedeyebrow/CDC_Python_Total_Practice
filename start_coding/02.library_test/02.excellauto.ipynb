{
 "cells": [
  {
   "cell_type": "code",
   "execution_count": 1,
   "metadata": {},
   "outputs": [
    {
     "name": "stdout",
     "output_type": "stream",
     "text": [
      "Collecting xlwingsNote: you may need to restart the kernel to use updated packages.\n",
      "\n",
      "  Downloading xlwings-0.31.4-cp311-cp311-win_amd64.whl.metadata (5.3 kB)\n",
      "Requirement already satisfied: pywin32>=224 in c:\\users\\leejaesung\\.conda\\envs\\pyenv311\\lib\\site-packages (from xlwings) (306)\n",
      "Downloading xlwings-0.31.4-cp311-cp311-win_amd64.whl (1.7 MB)\n",
      "   ---------------------------------------- 0.0/1.7 MB ? eta -:--:--\n",
      "   ---------------------------------------- 0.0/1.7 MB ? eta -:--:--\n",
      "   --------- ------------------------------ 0.4/1.7 MB 5.9 MB/s eta 0:00:01\n",
      "   -------------------------- ------------- 1.1/1.7 MB 9.9 MB/s eta 0:00:01\n",
      "   ---------------------------------------- 1.7/1.7 MB 10.6 MB/s eta 0:00:00\n",
      "Installing collected packages: xlwings\n",
      "Successfully installed xlwings-0.31.4\n"
     ]
    }
   ],
   "source": [
    "pip install xlwings"
   ]
  },
  {
   "cell_type": "code",
   "execution_count": 3,
   "metadata": {},
   "outputs": [],
   "source": [
    "import xlwings as xw\n",
    "\n",
    "wb = xw.Book()"
   ]
  },
  {
   "cell_type": "code",
   "execution_count": 5,
   "metadata": {},
   "outputs": [],
   "source": [
    "ws = wb.sheets['Sheet1']"
   ]
  },
  {
   "cell_type": "code",
   "execution_count": 6,
   "metadata": {},
   "outputs": [],
   "source": [
    "ws.range('A1').value = 'AK47-sks'"
   ]
  },
  {
   "cell_type": "code",
   "execution_count": 7,
   "metadata": {},
   "outputs": [],
   "source": [
    "ws.range('A2').value = [\"k2\", \"k3\", \"k4\"]  # list"
   ]
  },
  {
   "cell_type": "code",
   "execution_count": 11,
   "metadata": {},
   "outputs": [],
   "source": [
    "ws.range('A2:B2').copy() # copy the range A2:B2"
   ]
  },
  {
   "cell_type": "code",
   "execution_count": 12,
   "metadata": {},
   "outputs": [],
   "source": [
    "ws.range('A3').paste() # paste the copied range"
   ]
  },
  {
   "cell_type": "code",
   "execution_count": 14,
   "metadata": {},
   "outputs": [],
   "source": [
    "wb.save('gun.xlsx') # save the file"
   ]
  },
  {
   "cell_type": "code",
   "execution_count": 15,
   "metadata": {},
   "outputs": [],
   "source": [
    "xw.apps.active.kill()"
   ]
  }
 ],
 "metadata": {
  "kernelspec": {
   "display_name": "pyenv311",
   "language": "python",
   "name": "python3"
  },
  "language_info": {
   "codemirror_mode": {
    "name": "ipython",
    "version": 3
   },
   "file_extension": ".py",
   "mimetype": "text/x-python",
   "name": "python",
   "nbconvert_exporter": "python",
   "pygments_lexer": "ipython3",
   "version": "3.11.5"
  }
 },
 "nbformat": 4,
 "nbformat_minor": 2
}
