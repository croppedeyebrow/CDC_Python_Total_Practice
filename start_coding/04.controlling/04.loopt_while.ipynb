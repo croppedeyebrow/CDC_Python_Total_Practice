{
 "cells": [
  {
   "cell_type": "code",
   "execution_count": 1,
   "metadata": {},
   "outputs": [
    {
     "name": "stdout",
     "output_type": "stream",
     "text": [
      "아우\n",
      "아우\n",
      "아우\n"
     ]
    }
   ],
   "source": [
    "i=0\n",
    "\n",
    "while i < 3:\n",
    "    print(\"아우\")\n",
    "    i += 1"
   ]
  },
  {
   "cell_type": "code",
   "execution_count": 7,
   "metadata": {},
   "outputs": [
    {
     "name": "stdout",
     "output_type": "stream",
     "text": [
      "5 * 1 = 5\n",
      "5 * 2 = 10\n",
      "5 * 3 = 15\n",
      "5 * 4 = 20\n",
      "5 * 5 = 25\n",
      "5 * 6 = 30\n",
      "5 * 7 = 35\n",
      "5 * 8 = 40\n",
      "5 * 9 = 45\n"
     ]
    }
   ],
   "source": [
    "gogo_number = input(\"몇 단을 출력할까요? : \")\n",
    "\n",
    "i=1\n",
    "\n",
    "while i < 10:\n",
    "    print(gogo_number, \"*\", i, \"=\", int(gogo_number) * i)\n",
    "    i += 1"
   ]
  },
  {
   "cell_type": "code",
   "execution_count": 8,
   "metadata": {},
   "outputs": [
    {
     "name": "stdout",
     "output_type": "stream",
     "text": [
      "5 * 1 = 5\n",
      "5 * 2 = 10\n",
      "5 * 3 = 15\n",
      "5 * 4 = 20\n",
      "5 * 5 = 25\n",
      "5 * 6 = 30\n",
      "5 * 7 = 35\n",
      "5 * 8 = 40\n",
      "5 * 9 = 45\n"
     ]
    }
   ],
   "source": [
    "gogo_number = input(\"몇 단을 출력할까요? : \")\n",
    "\n",
    "for i in range(1, 10):\n",
    "    print(gogo_number, \"*\", i, \"=\", int(gogo_number) * i)\n",
    "    "
   ]
  },
  {
   "cell_type": "code",
   "execution_count": 13,
   "metadata": {},
   "outputs": [
    {
     "name": "stdout",
     "output_type": "stream",
     "text": [
      "로그인 실패\n",
      "로그인 실패\n",
      "로그인 실패\n",
      "로그인 성공\n"
     ]
    }
   ],
   "source": [
    "correct_password = \"1234\"\n",
    "\n",
    "\n",
    "while input_password != correct_password:\n",
    "    print(\"로그인 실패\")\n",
    "    input_password = input(\"비밀번호를 입력하세요 : \")\n",
    "    if input_password == correct_password:\n",
    "        print(\"로그인 성공\")\n",
    "        break\n",
    "        "
   ]
  },
  {
   "cell_type": "code",
   "execution_count": 14,
   "metadata": {},
   "outputs": [
    {
     "name": "stdout",
     "output_type": "stream",
     "text": [
      "로그인 실패\n",
      "로그인 실패\n",
      "로그인 실패\n",
      "로그인 성공\n"
     ]
    }
   ],
   "source": [
    "correct_password = \"1234\"\n",
    "\n",
    "\n",
    "while True:\n",
    "    input_password = input(\"비밀번호를 입력하세요 : \")\n",
    "    if input_password == correct_password:\n",
    "        print(\"로그인 성공\")\n",
    "        break\n",
    "    else:\n",
    "        print(\"로그인 실패\")"
   ]
  }
 ],
 "metadata": {
  "kernelspec": {
   "display_name": "pyenv311",
   "language": "python",
   "name": "python3"
  },
  "language_info": {
   "codemirror_mode": {
    "name": "ipython",
    "version": 3
   },
   "file_extension": ".py",
   "mimetype": "text/x-python",
   "name": "python",
   "nbconvert_exporter": "python",
   "pygments_lexer": "ipython3",
   "version": "3.11.5"
  }
 },
 "nbformat": 4,
 "nbformat_minor": 2
}
