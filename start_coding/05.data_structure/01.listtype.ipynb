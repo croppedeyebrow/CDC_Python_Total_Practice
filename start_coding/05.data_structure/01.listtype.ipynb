{
 "cells": [
  {
   "cell_type": "code",
   "execution_count": 1,
   "metadata": {},
   "outputs": [
    {
     "data": {
      "text/plain": [
       "'현대오토에버'"
      ]
     },
     "execution_count": 1,
     "metadata": {},
     "output_type": "execute_result"
    }
   ],
   "source": [
    "company_list=[\"삼성전자\",\"삼성바이오로직스\",\"현대오토에버\"]\n",
    "\n",
    "company_list[0] #삼성전자\n",
    "company_list[1] #삼성바이오로직스\n",
    "company_list[2] #현대오토에버\n",
    "\n"
   ]
  },
  {
   "cell_type": "code",
   "execution_count": 3,
   "metadata": {},
   "outputs": [
    {
     "name": "stdout",
     "output_type": "stream",
     "text": [
      "['sk하이닉스', '화이자', '테슬라']\n"
     ]
    }
   ],
   "source": [
    "company_list=[\"삼성전자\",\"삼성바이오로직스\",\"현대오토에버\"]\n",
    "\n",
    "company_list[0] = \"sk하이닉스\" \n",
    "company_list[1] = \"화이자\"\n",
    "company_list[2] = \"테슬라\" \n",
    "\n",
    "print(company_list)"
   ]
  },
  {
   "cell_type": "code",
   "execution_count": 4,
   "metadata": {},
   "outputs": [
    {
     "name": "stdout",
     "output_type": "stream",
     "text": [
      "['삼성전자', '삼성바이오로직스', '현대오토에버', 'sk하이닉스']\n"
     ]
    }
   ],
   "source": [
    "company_list=[\"삼성전자\",\"삼성바이오로직스\",\"현대오토에버\"]\n",
    "\n",
    "company_list.append(\"sk하이닉스\")\n",
    "\n",
    "print(company_list)"
   ]
  },
  {
   "cell_type": "code",
   "execution_count": 5,
   "metadata": {},
   "outputs": [
    {
     "name": "stdout",
     "output_type": "stream",
     "text": [
      "['삼성전자', '현대오토에버', 'sk하이닉스']\n"
     ]
    }
   ],
   "source": [
    "company_list=[\"삼성전자\",\"삼성바이오로직스\",\"현대오토에버\", \"sk하이닉스\"]\n",
    "\n",
    "del company_list[1]\n",
    "\n",
    "print(company_list)"
   ]
  },
  {
   "cell_type": "code",
   "execution_count": 6,
   "metadata": {},
   "outputs": [
    {
     "data": {
      "text/plain": [
       "4"
      ]
     },
     "execution_count": 6,
     "metadata": {},
     "output_type": "execute_result"
    }
   ],
   "source": [
    "company_list=[\"삼성전자\",\"삼성바이오로직스\",\"현대오토에버\", \"sk하이닉스\"]\n",
    "\n",
    "len(company_list)"
   ]
  },
  {
   "cell_type": "code",
   "execution_count": 7,
   "metadata": {},
   "outputs": [
    {
     "data": {
      "text/plain": [
       "[1, 2, 3]"
      ]
     },
     "execution_count": 7,
     "metadata": {},
     "output_type": "execute_result"
    }
   ],
   "source": [
    "num_list=[1,2,3,4,5,6,7,8]\n",
    "\n",
    "num_list[0:3]"
   ]
  },
  {
   "cell_type": "code",
   "execution_count": 8,
   "metadata": {},
   "outputs": [
    {
     "name": "stdout",
     "output_type": "stream",
     "text": [
      "AK47을(를) 확인했습니다.\n",
      "종료\n",
      "군용대검을(를) 확인했습니다.\n",
      "종료\n",
      "3뚝을(를) 확인했습니다.\n",
      "종료\n"
     ]
    }
   ],
   "source": [
    "inventory = [\"AK47\", \"군용대검\",\"3뚝\"]\n",
    "\n",
    "for item in inventory:\n",
    "    print(item + \"을(를) 확인했습니다.\")\n",
    "    print(\"종료\")"
   ]
  },
  {
   "cell_type": "code",
   "execution_count": 10,
   "metadata": {},
   "outputs": [
    {
     "name": "stdout",
     "output_type": "stream",
     "text": [
      "웨어하우스\n",
      "보물상자\n"
     ]
    }
   ],
   "source": [
    "game_map = [\n",
    "    [\"웨어하우스\",\"포친키\",\"3보급\"],\n",
    "    [\"스킨\",\"보물상자\",\"포션\"],\n",
    "    [\"붕대\",\"총기\",\"드랍템\"]  \n",
    "]\n",
    "\n",
    "print(game_map[0][0] )\n",
    "print(game_map[1][1] )"
   ]
  },
  {
   "cell_type": "code",
   "execution_count": 11,
   "metadata": {},
   "outputs": [
    {
     "name": "stdout",
     "output_type": "stream",
     "text": [
      "200\n"
     ]
    }
   ],
   "source": [
    "player_scores = [120, 150, 180, 200, 170]\n",
    "\n",
    "max_score = max(player_scores)\n",
    "\n",
    "print(max_score)"
   ]
  },
  {
   "cell_type": "code",
   "execution_count": 14,
   "metadata": {},
   "outputs": [
    {
     "name": "stdout",
     "output_type": "stream",
     "text": [
      "200\n"
     ]
    }
   ],
   "source": [
    "player_scores = [120, 150, 180, 200, 170]\n",
    "max_score = 0\n",
    "\n",
    "for i in player_scores:\n",
    "    if i > max_score:\n",
    "        max_score = i\n",
    "print(max_score)\n",
    "        "
   ]
  },
  {
   "cell_type": "code",
   "execution_count": 15,
   "metadata": {},
   "outputs": [
    {
     "name": "stdout",
     "output_type": "stream",
     "text": [
      "6\n",
      "3\n",
      "6\n",
      "15\n"
     ]
    }
   ],
   "source": [
    "item_rooms = [\n",
    "    [3,1,2],\n",
    "    [2,0,1],\n",
    "    [1,3,2]\n",
    "]\n",
    "\n",
    "#모든 방을 순회(for문사용)하면서 리스트의 합 출력\n",
    "total = 0\n",
    "\n",
    "for i in item_rooms:\n",
    "    print(sum(i))\n",
    "    total += sum(i)\n",
    "    \n",
    "print(total)"
   ]
  }
 ],
 "metadata": {
  "kernelspec": {
   "display_name": "pyenv311",
   "language": "python",
   "name": "python3"
  },
  "language_info": {
   "codemirror_mode": {
    "name": "ipython",
    "version": 3
   },
   "file_extension": ".py",
   "mimetype": "text/x-python",
   "name": "python",
   "nbconvert_exporter": "python",
   "pygments_lexer": "ipython3",
   "version": "3.11.5"
  }
 },
 "nbformat": 4,
 "nbformat_minor": 2
}
