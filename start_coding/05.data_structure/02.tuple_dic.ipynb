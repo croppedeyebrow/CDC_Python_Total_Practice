{
 "cells": [
  {
   "cell_type": "code",
   "execution_count": 2,
   "metadata": {},
   "outputs": [
    {
     "data": {
      "text/plain": [
       "270000"
      ]
     },
     "execution_count": 2,
     "metadata": {},
     "output_type": "execute_result"
    }
   ],
   "source": [
    "stock_prices = {\n",
    "    '삼성전자:': 82000,\n",
    "    'SK하이닉스:': 140000,\n",
    "    '네이버': 270000,\n",
    "}\n",
    "\n",
    "\n",
    "stock_prices['네이버']"
   ]
  },
  {
   "cell_type": "code",
   "execution_count": 5,
   "metadata": {},
   "outputs": [
    {
     "name": "stdout",
     "output_type": "stream",
     "text": [
      "삼성전자:\n",
      "SK하이닉스:\n",
      "네이버\n",
      "82000\n",
      "140000\n",
      "270000\n",
      "삼성전자: 82000\n",
      "SK하이닉스: 140000\n",
      "네이버 270000\n"
     ]
    }
   ],
   "source": [
    "stock_prices = {\n",
    "    '삼성전자:': 82000,\n",
    "    'SK하이닉스:': 140000,\n",
    "    '네이버': 270000,\n",
    "}\n",
    "\n",
    "for key in stock_prices.keys():\n",
    "    print(key)\n",
    "    \n",
    "for value in stock_prices.values():\n",
    "    print(value)\n",
    "\n",
    "for key,value in stock_prices.items():\n",
    "    print(key, value)        \n",
    "    "
   ]
  },
  {
   "cell_type": "code",
   "execution_count": 7,
   "metadata": {},
   "outputs": [
    {
     "name": "stdout",
     "output_type": "stream",
     "text": [
      "# 삼성전자 평균 주식 가격 : 81500\n",
      "# SK하이닉스 평균 주식 가격 : 140166\n",
      "# 네이버 평균 주식 가격 : 350000\n"
     ]
    }
   ],
   "source": [
    "stock_prices = {\n",
    "    '삼성전자' : [81000,81500,82000],\n",
    "    'SK하이닉스' : [140000, 141000, 139500],\n",
    "    '네이버' : [350000, 355000, 345000],\n",
    "}\n",
    "\n",
    "for key,value in stock_prices.items():\n",
    "    print(f\"#\", key,\"평균 주식 가격 :\", int(sum(value)/3))"
   ]
  },
  {
   "cell_type": "code",
   "execution_count": 19,
   "metadata": {},
   "outputs": [
    {
     "name": "stdout",
     "output_type": "stream",
     "text": [
      "# 삼성전자 평균 주식 가격 : 81500\n",
      "# SK하이닉스 평균 주식 가격 : 140166\n",
      "# 네이버 평균 주식 가격 : 350000\n"
     ]
    }
   ],
   "source": [
    "stock_prices = {\n",
    "    '삼성전자' : [81000,81500,82000],\n",
    "    'SK하이닉스' : [140000, 141000, 139500],\n",
    "    '네이버' : [350000, 355000, 345000],\n",
    "}\n",
    "\n",
    "for key,value in stock_prices.items():\n",
    "    average = sum(value) / len(value)\n",
    "    print(f\"# {key} 평균 주식 가격 : {int(average)}\")"
   ]
  },
  {
   "cell_type": "code",
   "execution_count": 12,
   "metadata": {},
   "outputs": [
    {
     "name": "stdout",
     "output_type": "stream",
     "text": [
      "삼성전자 - 최고가: 81000, 최저가: 81500\n",
      "SK하이닉스 - 최고가: 140000, 최저가: 141000\n",
      "네이버 - 최고가: 350000, 최저가: 355000\n"
     ]
    }
   ],
   "source": [
    "stock_info = {\n",
    "    '삼성전자' : {'최고가': 81000,'최저가': 81500,'현재가': 82000},\n",
    "    'SK하이닉스' : {'최고가':140000, '최저가': 141000, \"현재가\": 139500},\n",
    "    '네이버' : {'최고가': 350000, '최저가': 355000, '현재가':345000},\n",
    "}\n",
    "\n",
    "\n",
    "#최고가와 최저가를 출력하시오\n",
    "for key,value in stock_info.items():\n",
    "   print(f\"{key} - 최고가: {value['최고가']}, 최저가: {value['최저가']}\")"
   ]
  },
  {
   "cell_type": "code",
   "execution_count": 20,
   "metadata": {},
   "outputs": [
    {
     "name": "stdout",
     "output_type": "stream",
     "text": [
      "삼성전자 - 최고가: 81000, 최저가: 81500\n",
      "SK하이닉스 - 최고가: 140000, 최저가: 141000\n",
      "네이버 - 최고가: 350000, 최저가: 355000\n"
     ]
    }
   ],
   "source": [
    "stock_info = {\n",
    "    '삼성전자' : {'최고가': 81000,'최저가': 81500,'현재가': 82000},\n",
    "    'SK하이닉스' : {'최고가':140000, '최저가': 141000, \"현재가\": 139500},\n",
    "    '네이버' : {'최고가': 350000, '최저가': 355000, '현재가':345000},\n",
    "}\n",
    "\n",
    "\n",
    "#최고가와 최저가를 출력하시오\n",
    "for key,value in stock_info.items():\n",
    "    max_value = value['최고가']\n",
    "    min_value = value['최저가']\n",
    "    print(f\"{key} - 최고가: {max_value}, 최저가: {min_value}\")"
   ]
  }
 ],
 "metadata": {
  "kernelspec": {
   "display_name": "pyenv311",
   "language": "python",
   "name": "python3"
  },
  "language_info": {
   "codemirror_mode": {
    "name": "ipython",
    "version": 3
   },
   "file_extension": ".py",
   "mimetype": "text/x-python",
   "name": "python",
   "nbconvert_exporter": "python",
   "pygments_lexer": "ipython3",
   "version": "3.11.5"
  }
 },
 "nbformat": 4,
 "nbformat_minor": 2
}
