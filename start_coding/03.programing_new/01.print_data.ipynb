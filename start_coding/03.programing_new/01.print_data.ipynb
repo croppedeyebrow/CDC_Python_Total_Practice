{
 "cells": [
  {
   "cell_type": "code",
   "execution_count": 1,
   "metadata": {},
   "outputs": [
    {
     "name": "stdout",
     "output_type": "stream",
     "text": [
      "저녁 뭐 먹지?\n"
     ]
    }
   ],
   "source": [
    "print(\"저녁 뭐 먹지?\")"
   ]
  },
  {
   "cell_type": "code",
   "execution_count": 2,
   "metadata": {},
   "outputs": [
    {
     "name": "stdout",
     "output_type": "stream",
     "text": [
      "1. 피자\n",
      "2. 치킨\n",
      "3. 햄버거\n",
      "4. 떡볶이\n"
     ]
    }
   ],
   "source": [
    "#코드 실행 순서\n",
    "print(\"1. 피자\")\n",
    "print(\"2. 치킨\")\n",
    "print(\"3. 햄버거\")\n",
    "print(\"4. 떡볶이\")"
   ]
  },
  {
   "cell_type": "code",
   "execution_count": 3,
   "metadata": {},
   "outputs": [
    {
     "name": "stdout",
     "output_type": "stream",
     "text": [
      "피자 치킨 햄버거 떡볶이\n"
     ]
    }
   ],
   "source": [
    "#여러 항목 출력\n",
    "print(\"피자\",\"치킨\",\"햄버거\",\"떡볶이\")"
   ]
  },
  {
   "cell_type": "code",
   "execution_count": 4,
   "metadata": {},
   "outputs": [
    {
     "data": {
      "text/plain": [
       "False"
      ]
     },
     "execution_count": 4,
     "metadata": {},
     "output_type": "execute_result"
    }
   ],
   "source": [
    "#문자열 (String)\n",
    "\"배고파\"\n",
    "'배고파'\n",
    "\n",
    "# 정수(Intger, Int) \n",
    "5\n",
    "-20\n",
    "\n",
    "# 실수 (Float)\n",
    "3.14\n",
    "-1.2\n",
    "\n",
    "#논리데이터, 불린(Boolean, bool)\n",
    "True\n",
    "False\n",
    "   \n",
    "   "
   ]
  },
  {
   "cell_type": "code",
   "execution_count": null,
   "metadata": {},
   "outputs": [],
   "source": []
  }
 ],
 "metadata": {
  "kernelspec": {
   "display_name": "pyenv311",
   "language": "python",
   "name": "python3"
  },
  "language_info": {
   "codemirror_mode": {
    "name": "ipython",
    "version": 3
   },
   "file_extension": ".py",
   "mimetype": "text/x-python",
   "name": "python",
   "nbconvert_exporter": "python",
   "pygments_lexer": "ipython3",
   "version": "3.11.5"
  }
 },
 "nbformat": 4,
 "nbformat_minor": 2
}
