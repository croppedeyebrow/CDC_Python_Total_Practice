{
 "cells": [
  {
   "cell_type": "markdown",
   "metadata": {},
   "source": [
    "## 파이썬 라이브러리 : 넘파이 \n",
    " ### 행렬 계산 라이브러리\n",
    " #### 행렬 & 선형대수의 계산을 편하게 하기 위해 만들어진 라이브러리 "
   ]
  },
  {
   "cell_type": "markdown",
   "metadata": {},
   "source": [
    "### NumPy 특징\n",
    "### Numerical Python의 약자\n",
    "------\n",
    "\n",
    "#### 고성능 과학 계산용 패키지로 강력한 N차원 배열 객체\n",
    "#### 범용적 데이터 처리에 사용 가능한 다차원 컨테이너\n",
    "#### 정교한 브로드캐스팅(broadcasting) 기능\n",
    "#### 파이썬의 자료형 list와 비슷하지만, 더 빠르고 메모리를 효율적으로 관리\n",
    "#### 반복문 없이 데이터 배열에 대한 처리를 지원하여 빠르고 편리\n",
    "#### 데이터 과학 도구에 대한 생태계의 핵심을 이루고 있음"
   ]
  },
  {
   "cell_type": "code",
   "execution_count": 2,
   "metadata": {},
   "outputs": [
    {
     "data": {
      "text/plain": [
       "'1.26.4'"
      ]
     },
     "execution_count": 2,
     "metadata": {},
     "output_type": "execute_result"
    }
   ],
   "source": [
    "import numpy as np\n",
    "np.__version__"
   ]
  },
  {
   "cell_type": "code",
   "execution_count": 10,
   "metadata": {},
   "outputs": [
    {
     "name": "stdout",
     "output_type": "stream",
     "text": [
      "[1 2 3 4 5]\n",
      "<class 'numpy.ndarray'>\n",
      "(5,)\n",
      "1 2 3 4 5\n",
      "[4 5 6 4 5]\n"
     ]
    }
   ],
   "source": [
    "a1 = np.array([1, 2, 3, 4, 5]) #1차원 배열\n",
    "print(a1)\n",
    "print(type(a1))\n",
    "print(a1.shape) # shape는 행렬의 모양을 알려줌.  5*1짜리 1차원 행렬\n",
    "print(a1[0], a1[1], a1[2], a1[3], a1[4])\n",
    "a1[0] = 4\n",
    "a1[1] = 5\n",
    "a1[2] = 6\n",
    "print(a1)\n",
    "\n",
    "\n"
   ]
  },
  {
   "cell_type": "code",
   "execution_count": 14,
   "metadata": {},
   "outputs": [
    {
     "name": "stdout",
     "output_type": "stream",
     "text": [
      "[[1 2 3]\n",
      " [4 5 6]\n",
      " [7 8 9]]\n",
      "(3, 3)\n",
      "1 5 9\n"
     ]
    }
   ],
   "source": [
    "a2 = np.array([[1, 2, 3], [4, 5, 6], [7, 8, 9]]) #2차원 배열 생성.\n",
    "print(a2)\n",
    "print(a2.shape)  #3*3 짜리 2차원 행렬\n",
    "print(a2[0, 0], a2[1, 1], a2[2, 2]) #인덱스로 값에 접근\n"
   ]
  },
  {
   "cell_type": "code",
   "execution_count": 16,
   "metadata": {},
   "outputs": [
    {
     "name": "stdout",
     "output_type": "stream",
     "text": [
      "[[[1 2 3]\n",
      "  [4 5 6]\n",
      "  [7 8 9]]\n",
      "\n",
      " [[1 2 3]\n",
      "  [4 5 6]\n",
      "  [7 8 9]]\n",
      "\n",
      " [[1 2 3]\n",
      "  [4 5 6]\n",
      "  [7 8 9]]]\n",
      "(3, 3, 3)\n"
     ]
    }
   ],
   "source": [
    "a3 = np.array([[[1, 2, 3], [4, 5, 6], [7, 8, 9]], \n",
    "               [[1, 2, 3], [4, 5, 6], [7, 8, 9]], \n",
    "            \n",
    "               [[1, 2, 3], [4, 5, 6], [7, 8, 9]]]) #3차원 배열 생성  3*3*3 짜리 3차원 행렬\n",
    "print(a3)\n",
    "\n",
    "print(a3.shape) #3*3*3 짜리 3차원 행렬"
   ]
  },
  {
   "cell_type": "code",
   "execution_count": null,
   "metadata": {},
   "outputs": [],
   "source": [
    "# zeros() : 모든 요소를 0으로 채운 배열을 생성\n",
    "# ones() : 모든 요소를 1로 채운 배열을 생성\n",
    "# full() : 모든 요소를 지정한 값으로 채운 배열을 생성\n",
    "# eye() : 단위 행렬 생성 : 주대각선의 원소가 모두 1이고 나머지는 0인 정사각 행렬\n",
    "   # 행렬곱셉에서 항등원으로 사용할 때\n",
    "   # 특정 변환이나 연산에서 기준점으로 사용할 때\n",
    "   # 행렬연산/머신러닝/이미지 처리/ 통계 분석 등에 사용됩니다.\n",
    "# tri() : 하삼각행렬 생성\n",
    "   # 주대각선과 그 아래 부분이 1로 채워지고, 나머지는 0으로 채워집니다.\n",
    "   # 추후에, 신호처리/수치해석/그래픽스 등에 사용됩니다.\n",
    "# empty() : 초기화되지 않은 배열 생성\n",
    "   # 초기화가 없어서 배열 생성비용 저렴하고 빠름\n",
    "   # 초기화되지 않아서 기존 메모리 위치에 존재하는 값이 있음\n",
    "#_like() : 주어진 배열과 동일한 shape와 dtype을 가지는 행렬 생성\n",
    "   # np.zeros_like(), np.ones_like(), np.full_like(), np.empty_like()\n",
    "      "
   ]
  },
  {
   "cell_type": "code",
   "execution_count": 17,
   "metadata": {},
   "outputs": [
    {
     "data": {
      "text/plain": [
       "array([0., 0., 0., 0., 0., 0., 0., 0., 0., 0.])"
      ]
     },
     "execution_count": 17,
     "metadata": {},
     "output_type": "execute_result"
    }
   ],
   "source": [
    "#zeros() : 모든 요소를 0으로 채운 배열을 생성\n",
    "np.zeros(10)"
   ]
  },
  {
   "cell_type": "code",
   "execution_count": 18,
   "metadata": {},
   "outputs": [
    {
     "data": {
      "text/plain": [
       "array([[1., 1., 1.],\n",
       "       [1., 1., 1.],\n",
       "       [1., 1., 1.]])"
      ]
     },
     "execution_count": 18,
     "metadata": {},
     "output_type": "execute_result"
    }
   ],
   "source": [
    "# ones() : 모든 요소를 1로 채운 배열을 생성\n",
    "\n",
    "np.ones((3, 3))"
   ]
  },
  {
   "cell_type": "code",
   "execution_count": 19,
   "metadata": {},
   "outputs": [
    {
     "data": {
      "text/plain": [
       "array([[7, 7, 7],\n",
       "       [7, 7, 7],\n",
       "       [7, 7, 7]])"
      ]
     },
     "execution_count": 19,
     "metadata": {},
     "output_type": "execute_result"
    }
   ],
   "source": [
    "# full() : 모든 요소를 지정한 값으로 채운 배열을 생성\n",
    "\n",
    "np.full((3, 3), 7)"
   ]
  },
  {
   "cell_type": "code",
   "execution_count": 20,
   "metadata": {},
   "outputs": [
    {
     "data": {
      "text/plain": [
       "array([[1., 0., 0., 0., 0., 0.],\n",
       "       [0., 1., 0., 0., 0., 0.],\n",
       "       [0., 0., 1., 0., 0., 0.],\n",
       "       [0., 0., 0., 1., 0., 0.],\n",
       "       [0., 0., 0., 0., 1., 0.],\n",
       "       [0., 0., 0., 0., 0., 1.]])"
      ]
     },
     "execution_count": 20,
     "metadata": {},
     "output_type": "execute_result"
    }
   ],
   "source": [
    "# eye() : 단위 행렬 생성 : 주대각선의 원소가 모두 1이고 나머지는 0인 정사각 행렬\n",
    "\n",
    "np.eye(6)"
   ]
  },
  {
   "cell_type": "code",
   "execution_count": 21,
   "metadata": {},
   "outputs": [
    {
     "data": {
      "text/plain": [
       "array([[1., 0., 0., 0., 0., 0.],\n",
       "       [1., 1., 0., 0., 0., 0.],\n",
       "       [1., 1., 1., 0., 0., 0.],\n",
       "       [1., 1., 1., 1., 0., 0.],\n",
       "       [1., 1., 1., 1., 1., 0.],\n",
       "       [1., 1., 1., 1., 1., 1.]])"
      ]
     },
     "execution_count": 21,
     "metadata": {},
     "output_type": "execute_result"
    }
   ],
   "source": [
    "# tri() : 하삼각행렬 생성\n",
    "   # 주대각선과 그 아래 부분이 1로 채워지고, 나머지는 0으로 채워집니다.\n",
    "   # 추후에, 신호처리/수치해석/그래픽스 등에 사용됩니다.\n",
    "   \n",
    "np.tri(6)"
   ]
  },
  {
   "cell_type": "code",
   "execution_count": 26,
   "metadata": {},
   "outputs": [
    {
     "data": {
      "text/plain": [
       "array([0., 0., 0., 0., 0., 0., 0., 0., 0., 0.])"
      ]
     },
     "execution_count": 26,
     "metadata": {},
     "output_type": "execute_result"
    }
   ],
   "source": [
    "# empty() : 초기화되지 않은 배열 생성\n",
    "   # 초기화가 없어서 배열 생성비용 저렴하고 빠름\n",
    "   # 초기화되지 않아서 기존 메모리 위치에 존재하는 값이 있음\n",
    "     # 따라서, 뭐가 나올지 모름\n",
    "     \n",
    "     \n",
    "np.empty(10)     "
   ]
  },
  {
   "cell_type": "code",
   "execution_count": 28,
   "metadata": {},
   "outputs": [
    {
     "name": "stdout",
     "output_type": "stream",
     "text": [
      "[4 5 6 4 5]\n"
     ]
    },
    {
     "data": {
      "text/plain": [
       "array([0, 0, 0, 0, 0])"
      ]
     },
     "execution_count": 28,
     "metadata": {},
     "output_type": "execute_result"
    }
   ],
   "source": [
    "#_like() : 주어진 배열과 동일한 shape와 dtype을 가지는 행렬 생성\n",
    "   # np.zeros_like(), np.ones_like(), np.full_like(), np.empty_like()\n",
    "   \n",
    "print(a1)\n",
    "np.zeros_like(a1)   "
   ]
  },
  {
   "cell_type": "code",
   "execution_count": 29,
   "metadata": {},
   "outputs": [
    {
     "name": "stdout",
     "output_type": "stream",
     "text": [
      "[[1 2 3]\n",
      " [4 5 6]\n",
      " [7 8 9]]\n"
     ]
    },
    {
     "data": {
      "text/plain": [
       "array([[1, 1, 1],\n",
       "       [1, 1, 1],\n",
       "       [1, 1, 1]])"
      ]
     },
     "execution_count": 29,
     "metadata": {},
     "output_type": "execute_result"
    }
   ],
   "source": [
    "#_like() : 주어진 배열과 동일한 shape와 dtype을 가지는 행렬 생성\n",
    "   # np.zeros_like(), np.ones_like(), np.full_like(), np.empty_like()\n",
    "print(a2)\n",
    "np.ones_like(a2)"
   ]
  },
  {
   "cell_type": "code",
   "execution_count": 33,
   "metadata": {},
   "outputs": [
    {
     "name": "stdout",
     "output_type": "stream",
     "text": [
      "[[[1 2 3]\n",
      "  [4 5 6]\n",
      "  [7 8 9]]\n",
      "\n",
      " [[1 2 3]\n",
      "  [4 5 6]\n",
      "  [7 8 9]]\n",
      "\n",
      " [[1 2 3]\n",
      "  [4 5 6]\n",
      "  [7 8 9]]]\n",
      "<class 'numpy.ndarray'>\n"
     ]
    },
    {
     "data": {
      "text/plain": [
       "array([[[666, 666, 666],\n",
       "        [666, 666, 666],\n",
       "        [666, 666, 666]],\n",
       "\n",
       "       [[666, 666, 666],\n",
       "        [666, 666, 666],\n",
       "        [666, 666, 666]],\n",
       "\n",
       "       [[666, 666, 666],\n",
       "        [666, 666, 666],\n",
       "        [666, 666, 666]]])"
      ]
     },
     "execution_count": 33,
     "metadata": {},
     "output_type": "execute_result"
    }
   ],
   "source": [
    "#_like() : 주어진 배열과 동일한 shape와 dtype을 가지는 행렬 생성\n",
    "   # np.zeros_like(), np.ones_like(), np.full_like(), np.empty_like()\n",
    "   \n",
    "print(a3) \n",
    "t=type(a3)\n",
    "print(t)\n",
    "np.full_like(a3, 666)    "
   ]
  },
  {
   "cell_type": "code",
   "execution_count": 34,
   "metadata": {},
   "outputs": [
    {
     "name": "stdout",
     "output_type": "stream",
     "text": [
      "[[[1 2 3]\n",
      "  [4 5 6]\n",
      "  [7 8 9]]\n",
      "\n",
      " [[1 2 3]\n",
      "  [4 5 6]\n",
      "  [7 8 9]]\n",
      "\n",
      " [[1 2 3]\n",
      "  [4 5 6]\n",
      "  [7 8 9]]]\n"
     ]
    },
    {
     "data": {
      "text/plain": [
       "array([[[0, 0, 0],\n",
       "        [0, 0, 0],\n",
       "        [0, 0, 0]],\n",
       "\n",
       "       [[0, 0, 0],\n",
       "        [0, 0, 0],\n",
       "        [0, 0, 0]],\n",
       "\n",
       "       [[0, 0, 0],\n",
       "        [0, 0, 0],\n",
       "        [0, 0, 0]]])"
      ]
     },
     "execution_count": 34,
     "metadata": {},
     "output_type": "execute_result"
    }
   ],
   "source": [
    "print(a3)\n",
    "np.empty_like(a3)"
   ]
  },
  {
   "cell_type": "code",
   "execution_count": null,
   "metadata": {},
   "outputs": [],
   "source": [
    "\n",
    "#  - arange() : 정수 범위로 배열 생성\n",
    "\n",
    "# - linspace() : 범위 내에서 균등 간격의 배열 생성\n",
    "\n",
    "# - logspace() : 범위 내에서 균등간격으로 로그 스케일로 배열 생성"
   ]
  },
  {
   "cell_type": "code",
   "execution_count": 36,
   "metadata": {},
   "outputs": [
    {
     "data": {
      "text/plain": [
       "array([ 0,  2,  4,  6,  8, 10, 12, 14, 16, 18, 20, 22])"
      ]
     },
     "execution_count": 36,
     "metadata": {},
     "output_type": "execute_result"
    }
   ],
   "source": [
    "#  - arange() : 정수 범위로 배열 생성\n",
    "\n",
    "np.arange(0,24,2)\n",
    "# arange(시작, 끝, 단계)\n"
   ]
  },
  {
   "cell_type": "code",
   "execution_count": 37,
   "metadata": {},
   "outputs": [
    {
     "data": {
      "text/plain": [
       "array([  0.,  25.,  50.,  75., 100.])"
      ]
     },
     "execution_count": 37,
     "metadata": {},
     "output_type": "execute_result"
    }
   ],
   "source": [
    "# - linspace() : 범위 내에서 균등 간격의 배열 생성\n",
    "# 간격은 알아서 계산함.\n",
    "#linspace(시작점,끝점,개수)\n",
    "\n",
    "np.linspace(0, 100, 5)"
   ]
  },
  {
   "cell_type": "code",
   "execution_count": 38,
   "metadata": {},
   "outputs": [
    {
     "data": {
      "text/plain": [
       "array([ 1.25892541,  1.40400425,  1.565802  ,  1.74624535,  1.94748304,\n",
       "        2.1719114 ,  2.42220294,  2.70133812,  3.0126409 ,  3.35981829,\n",
       "        3.74700446,  4.17881006,  4.66037703,  5.19743987,  5.79639395,\n",
       "        6.46437163,  7.2093272 ,  8.04013161,  8.9666781 , 10.        ])"
      ]
     },
     "execution_count": 38,
     "metadata": {},
     "output_type": "execute_result"
    }
   ],
   "source": [
    "# - logspace() : 범위 내에서 균등간격으로 로그 스케일로 배열 생성\n",
    "\n",
    "np.logspace(0.1, 1, 20)"
   ]
  },
  {
   "cell_type": "code",
   "execution_count": 4,
   "metadata": {},
   "outputs": [
    {
     "data": {
      "text/plain": [
       "array([[0.66469268, 0.40323265, 0.67147299],\n",
       "       [0.76145915, 0.62707404, 0.6664596 ],\n",
       "       [0.53548092, 0.44736816, 0.33989466]])"
      ]
     },
     "execution_count": 4,
     "metadata": {},
     "output_type": "execute_result"
    }
   ],
   "source": [
    "# random.random() : 랜덤한 수의 실수 배열 생성\n",
    "np.random.random((3, 3))    "
   ]
  },
  {
   "cell_type": "code",
   "execution_count": 8,
   "metadata": {},
   "outputs": [
    {
     "data": {
      "text/plain": [
       "array([[1, 7, 8],\n",
       "       [5, 3, 0],\n",
       "       [4, 1, 4]])"
      ]
     },
     "execution_count": 8,
     "metadata": {},
     "output_type": "execute_result"
    }
   ],
   "source": [
    "# random.randint() : 일정 구간의 랜덤한 수의 정수 배열 생성\n",
    "\n",
    "np.random.randint(0,10,(3,3))"
   ]
  },
  {
   "cell_type": "code",
   "execution_count": 10,
   "metadata": {},
   "outputs": [
    {
     "data": {
      "text/plain": [
       "array([[-0.29093964, -0.66629951, -0.36483789],\n",
       "       [-0.01892186,  1.38834522,  1.03613958],\n",
       "       [ 1.28452997, -0.64699791, -0.74889667]])"
      ]
     },
     "execution_count": 10,
     "metadata": {},
     "output_type": "execute_result"
    }
   ],
   "source": [
    "# random.normal() : 정규분포(normal distribution)를 고려한 랜덤한 수의 배열 생성\n",
    "\n",
    "#평균 0 표준편차 1인 정규분포를 따르는 3*3 행렬\n",
    "np.random.normal(0, 1, (3, 3))"
   ]
  },
  {
   "cell_type": "code",
   "execution_count": 13,
   "metadata": {},
   "outputs": [
    {
     "data": {
      "text/plain": [
       "array([[0.45289459, 0.15643965, 0.72561567],\n",
       "       [0.67841255, 0.89281351, 0.09552442],\n",
       "       [0.38448967, 0.49475087, 0.43219661]])"
      ]
     },
     "execution_count": 13,
     "metadata": {},
     "output_type": "execute_result"
    }
   ],
   "source": [
    "# random.rand() : 균등분포(uniform distribution)를 고려한 랜덤한 수의 배열 생성[양수만]\n",
    "\n",
    "np.random.rand(3, 3)"
   ]
  },
  {
   "cell_type": "code",
   "execution_count": 14,
   "metadata": {},
   "outputs": [
    {
     "data": {
      "text/plain": [
       "array([[-0.35549558,  2.24905484, -0.54189294],\n",
       "       [ 0.94960807,  0.4450994 , -0.19553959],\n",
       "       [-1.22595573, -1.62246068,  0.69321088]])"
      ]
     },
     "execution_count": 14,
     "metadata": {},
     "output_type": "execute_result"
    }
   ],
   "source": [
    "# random.randn() : 표준 정규 분포(standard normal distribution)를 고려한 랜덤한 수의 배열 생성\n",
    "np.random.randn(3, 3)"
   ]
  },
  {
   "cell_type": "code",
   "execution_count": 16,
   "metadata": {},
   "outputs": [
    {
     "data": {
      "text/plain": [
       "array([0, 0, 0, 0, 0, 0, 0, 0, 0, 0, 0, 0, 0, 0, 0, 0, 0, 0, 0, 0])"
      ]
     },
     "execution_count": 16,
     "metadata": {},
     "output_type": "execute_result"
    }
   ],
   "source": [
    "np.zeros(20, dtype=int)\n",
    "\n",
    "# dtype은 넘파이의 데이터 타입을 지정해주는 파라미터"
   ]
  },
  {
   "cell_type": "code",
   "execution_count": 17,
   "metadata": {},
   "outputs": [
    {
     "data": {
      "text/plain": [
       "array([[ True,  True,  True],\n",
       "       [ True,  True,  True],\n",
       "       [ True,  True,  True]])"
      ]
     },
     "execution_count": 17,
     "metadata": {},
     "output_type": "execute_result"
    }
   ],
   "source": [
    "np.ones((3, 3), dtype=bool) "
   ]
  },
  {
   "cell_type": "code",
   "execution_count": 18,
   "metadata": {},
   "outputs": [
    {
     "data": {
      "text/plain": [
       "array([[1., 1., 1.],\n",
       "       [1., 1., 1.],\n",
       "       [1., 1., 1.]])"
      ]
     },
     "execution_count": 18,
     "metadata": {},
     "output_type": "execute_result"
    }
   ],
   "source": [
    "np.full((3,3),1.0,dtype=float)"
   ]
  },
  {
   "cell_type": "code",
   "execution_count": 20,
   "metadata": {},
   "outputs": [
    {
     "name": "stdout",
     "output_type": "stream",
     "text": [
      "2024-07-07\n"
     ]
    }
   ],
   "source": [
    "date = np.array('2024-07-07', dtype=np.datetime64)\n",
    "print(date)"
   ]
  },
  {
   "cell_type": "code",
   "execution_count": 22,
   "metadata": {},
   "outputs": [
    {
     "data": {
      "text/plain": [
       "array(['2024-07-07', '2024-07-08', '2024-07-09', '2024-07-10',\n",
       "       '2024-07-11', '2024-07-12', '2024-07-13', '2024-07-14',\n",
       "       '2024-07-15', '2024-07-16', '2024-07-17', '2024-07-18'],\n",
       "      dtype='datetime64[D]')"
      ]
     },
     "execution_count": 22,
     "metadata": {},
     "output_type": "execute_result"
    }
   ],
   "source": [
    "# 특정 날짜부터 특정 일수까지의 날짜를 배열로 생성\n",
    "\n",
    "date + np.arange(12)"
   ]
  },
  {
   "cell_type": "code",
   "execution_count": 23,
   "metadata": {},
   "outputs": [
    {
     "name": "stdout",
     "output_type": "stream",
     "text": [
      "2024-07-07T12:00\n"
     ]
    }
   ],
   "source": [
    "datetime = np.datetime64('2024-07-07 12:00')\n",
    "print(datetime)"
   ]
  }
 ],
 "metadata": {
  "kernelspec": {
   "display_name": "pyenv311",
   "language": "python",
   "name": "python3"
  },
  "language_info": {
   "codemirror_mode": {
    "name": "ipython",
    "version": 3
   },
   "file_extension": ".py",
   "mimetype": "text/x-python",
   "name": "python",
   "nbconvert_exporter": "python",
   "pygments_lexer": "ipython3",
   "version": "3.11.5"
  }
 },
 "nbformat": 4,
 "nbformat_minor": 2
}
