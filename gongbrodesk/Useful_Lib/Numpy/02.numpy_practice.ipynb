{
 "cells": [
  {
   "cell_type": "markdown",
   "metadata": {},
   "source": [
    "## 배열 조회"
   ]
  },
  {
   "cell_type": "code",
   "execution_count": 2,
   "metadata": {},
   "outputs": [],
   "source": [
    "## 배열 속성 정보\n",
    "\n",
    "def array_info(array) :\n",
    "    print(array)\n",
    "    print('ndim :', array.ndim)\n",
    "    print('shape :', array.shape)\n",
    "    print('dtype :', array.dtype)\n",
    "    print('size :', array.size)\n",
    "    print('itemsize :', array.itemsize)\n",
    "    print('nbytes :', array.nbytes)\n",
    "    print('strides :', array.strides)"
   ]
  },
  {
   "cell_type": "code",
   "execution_count": 7,
   "metadata": {},
   "outputs": [],
   "source": [
    "import numpy as np\n",
    "a1 = np.array([1, 2, 3, 4, 5])\n",
    "a2 = np.array([[1, 2, 3], [4, 5, 6], [7, 8, 9]])\n",
    "a3 = np.array([[[1, 2, 3], [4, 5, 6], [7, 8, 9]], \n",
    "               [[1, 2, 3], [4, 5, 6], [7, 8, 9]], \n",
    "            \n",
    "               [[1, 2, 3], [4, 5, 6], [7, 8, 9]]])"
   ]
  },
  {
   "cell_type": "code",
   "execution_count": 8,
   "metadata": {},
   "outputs": [
    {
     "name": "stdout",
     "output_type": "stream",
     "text": [
      "[1 2 3 4 5]\n",
      "ndim : 1\n",
      "shape : (5,)\n",
      "dtype : int32\n",
      "size : 5\n",
      "itemsize : 4\n",
      "nbytes : 20\n",
      "strides : (4,)\n"
     ]
    }
   ],
   "source": [
    "array_info(a1)"
   ]
  },
  {
   "cell_type": "code",
   "execution_count": 10,
   "metadata": {},
   "outputs": [
    {
     "name": "stdout",
     "output_type": "stream",
     "text": [
      "[[1 2 3]\n",
      " [4 5 6]\n",
      " [7 8 9]]\n",
      "ndim : 2\n",
      "shape : (3, 3)\n",
      "dtype : int32\n",
      "size : 9\n",
      "itemsize : 4\n",
      "nbytes : 36\n",
      "strides : (12, 4)\n"
     ]
    }
   ],
   "source": [
    "array_info(a2)"
   ]
  },
  {
   "cell_type": "code",
   "execution_count": 11,
   "metadata": {},
   "outputs": [
    {
     "name": "stdout",
     "output_type": "stream",
     "text": [
      "[[[1 2 3]\n",
      "  [4 5 6]\n",
      "  [7 8 9]]\n",
      "\n",
      " [[1 2 3]\n",
      "  [4 5 6]\n",
      "  [7 8 9]]\n",
      "\n",
      " [[1 2 3]\n",
      "  [4 5 6]\n",
      "  [7 8 9]]]\n",
      "ndim : 3\n",
      "shape : (3, 3, 3)\n",
      "dtype : int32\n",
      "size : 27\n",
      "itemsize : 4\n",
      "nbytes : 108\n",
      "strides : (36, 12, 4)\n"
     ]
    }
   ],
   "source": [
    "array_info(a3)"
   ]
  },
  {
   "cell_type": "markdown",
   "metadata": {},
   "source": [
    "### 인덱싱(Indexing)"
   ]
  },
  {
   "cell_type": "code",
   "execution_count": 12,
   "metadata": {},
   "outputs": [
    {
     "name": "stdout",
     "output_type": "stream",
     "text": [
      "[1 2 3 4 5]\n",
      "1\n",
      "2\n",
      "5\n",
      "4\n"
     ]
    }
   ],
   "source": [
    "print(a1)\n",
    "\n",
    "print(a1[0])\n",
    "print(a1[1])    # -는 뒤에서부터\n",
    "print(a1[-1])\n",
    "print(a1[-2])"
   ]
  },
  {
   "cell_type": "code",
   "execution_count": 13,
   "metadata": {},
   "outputs": [
    {
     "name": "stdout",
     "output_type": "stream",
     "text": [
      "[[1 2 3]\n",
      " [4 5 6]\n",
      " [7 8 9]]\n",
      "1\n",
      "5\n",
      "9\n",
      "3\n",
      "9\n"
     ]
    }
   ],
   "source": [
    "print(a2)\n",
    "print(a2[0, 0])\n",
    "print(a2[1, 1])\n",
    "print(a2[2, 2])\n",
    "print(a2[0, 2])\n",
    "print(a2[2, -1])"
   ]
  },
  {
   "cell_type": "code",
   "execution_count": 14,
   "metadata": {},
   "outputs": [
    {
     "name": "stdout",
     "output_type": "stream",
     "text": [
      "[[[1 2 3]\n",
      "  [4 5 6]\n",
      "  [7 8 9]]\n",
      "\n",
      " [[1 2 3]\n",
      "  [4 5 6]\n",
      "  [7 8 9]]\n",
      "\n",
      " [[1 2 3]\n",
      "  [4 5 6]\n",
      "  [7 8 9]]]\n",
      "1\n",
      "5\n",
      "9\n",
      "6\n"
     ]
    }
   ],
   "source": [
    "print(a3)\n",
    "print(a3[0, 0, 0])\n",
    "print(a3[1, 1, 1])\n",
    "print(a3[2, 2, 2])\n",
    "print(a3[0, -2, -1])"
   ]
  },
  {
   "cell_type": "markdown",
   "metadata": {},
   "source": [
    "### 슬라이싱(Slicing)"
   ]
  },
  {
   "cell_type": "code",
   "execution_count": 15,
   "metadata": {},
   "outputs": [
    {
     "name": "stdout",
     "output_type": "stream",
     "text": [
      "[1 2 3 4 5]\n",
      "[1 2]\n",
      "[1 2 3 4 5]\n",
      "[1 2]\n",
      "[1 3 5]\n",
      "[5 4 3 2 1]\n"
     ]
    }
   ],
   "source": [
    "# 배열의 특정 부분(구간)을 선택하는데 사용됩니다.\n",
    "\n",
    "# 슬라이싱 구문 : [ 시작 : 끝 : 간격 ]\n",
    "# 시작 : 선택된 요소의 시작 인덱스\n",
    "# 끝 : 선택된 요소 -1까지의 인덱스\n",
    "# 간격 : 선택된 요소 사이의 간격\n",
    "\n",
    "print(a1)\n",
    "print(a1[0:2])  # 0번째부터 2번째 앞까지\n",
    "print(a1[0:])   # 0번째부터 끝까지\n",
    "print(a1[:2])   # 처음부터 2번째 앞까지\n",
    "print(a1[::2])  # 처음부터 끝까지 2씩 증가\n",
    "print(a1[::-1]) # 처음부터 끝까지 역순으로\n",
    "\n",
    "\n",
    "\n"
   ]
  },
  {
   "cell_type": "code",
   "execution_count": 16,
   "metadata": {},
   "outputs": [
    {
     "name": "stdout",
     "output_type": "stream",
     "text": [
      "[[1 2 3]\n",
      " [4 5 6]\n",
      " [7 8 9]]\n",
      "[[1 2]\n",
      " [4 5]]\n",
      "[[5 6]\n",
      " [8 9]]\n",
      "[[1 2]\n",
      " [4 5]]\n",
      "[[6 5 4]\n",
      " [9 8 7]]\n",
      "[[9 8 7]\n",
      " [6 5 4]\n",
      " [3 2 1]]\n"
     ]
    }
   ],
   "source": [
    "print(a2)\n",
    "print(a2[0:2, 0:2]) # 0번째부터 2번째 앞까지, 0번째부터 2번째 앞까지\n",
    "print(a2[1:, 1:])   # 1번째부터 끝까지, 1번째부터 끝까지\n",
    "print(a2[:2, :2])  # 처음부터 2번째 앞까지, 처음부터 2번째 앞까지\n",
    "print(a2[1:,::-1]) # 1번째부터 끝까지, 끝부터 처음까지 역순으로\n",
    "print(a2[::-1,::-1]) # 끝부터 처음까지 역순으로, 끝부터 처음까지 역순으로"
   ]
  },
  {
   "cell_type": "code",
   "execution_count": 18,
   "metadata": {},
   "outputs": [
    {
     "name": "stdout",
     "output_type": "stream",
     "text": [
      "[1 2 3 4 5]\n",
      "[2 3 5]\n"
     ]
    }
   ],
   "source": [
    "## 불리언 인덱싱(Boolean Indexing)\n",
    "\n",
    "# 배열의 요소를 선택하는 데 사용되는 또 다른 방법은 불리언 인덱싱입니다.\n",
    "# 불리언 인덱싱은 배열의 요소를 선택하는 데 조건을 사용합니다.\n",
    "\n",
    "print(a1)\n",
    "\n",
    "bi = [False, True, True, False, True]   \n",
    "print(a1[bi]) # True에 해당하는 요소만 선택"
   ]
  },
  {
   "cell_type": "code",
   "execution_count": 20,
   "metadata": {},
   "outputs": [
    {
     "name": "stdout",
     "output_type": "stream",
     "text": [
      "[[1 2 3]\n",
      " [4 5 6]\n",
      " [7 8 9]]\n",
      "[[False  True False]\n",
      " [False  True False]\n",
      " [False False  True]]\n",
      "[2 5 9]\n"
     ]
    }
   ],
   "source": [
    "print(a2)\n",
    "\n",
    "bi = np.random.randint(0,2,(3,3), dtype=bool) # 0과 1사이의 랜덤한 값으로 3x3 배열 생성\n",
    "#0은 false, 1은 true\n",
    "print(bi)\n",
    "print(a2[bi]) # True에 해당하는 요소만 선택\n"
   ]
  },
  {
   "cell_type": "code",
   "execution_count": 30,
   "metadata": {},
   "outputs": [
    {
     "name": "stdout",
     "output_type": "stream",
     "text": [
      "[1 2 3 4 5]\n",
      "[1, 3]\n",
      "[1 3]\n",
      "---\n",
      "[[1 2]\n",
      " [3 1]]\n"
     ]
    }
   ],
   "source": [
    "print(a1)\n",
    "print([a1[0],a1[2]])\n",
    "ind = [0,2]\n",
    "print(a1[ind])  \n",
    "print(\"---\")\n",
    "ind = np.array([[0,1],[2,0]])\n",
    "print(a1[ind])"
   ]
  },
  {
   "cell_type": "code",
   "execution_count": 25,
   "metadata": {},
   "outputs": [
    {
     "name": "stdout",
     "output_type": "stream",
     "text": [
      "[[1 2 3]\n",
      " [4 5 6]\n",
      " [7 8 9]]\n",
      "[2 5]\n"
     ]
    }
   ],
   "source": [
    "print(a2)\n",
    "print(a2[[0, 1], [1, 1]]) # (0, 0), (1, 1), (2, 2)에 해당하는 요소 선택"
   ]
  }
 ],
 "metadata": {
  "kernelspec": {
   "display_name": "pyenv311",
   "language": "python",
   "name": "python3"
  },
  "language_info": {
   "codemirror_mode": {
    "name": "ipython",
    "version": 3
   },
   "file_extension": ".py",
   "mimetype": "text/x-python",
   "name": "python",
   "nbconvert_exporter": "python",
   "pygments_lexer": "ipython3",
   "version": "3.11.5"
  }
 },
 "nbformat": 4,
 "nbformat_minor": 2
}
