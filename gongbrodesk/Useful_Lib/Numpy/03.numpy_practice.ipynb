{
 "cells": [
  {
   "cell_type": "markdown",
   "metadata": {},
   "source": [
    "## 배열 값 삽입/수정/삭제/복사"
   ]
  },
  {
   "cell_type": "code",
   "execution_count": null,
   "metadata": {},
   "outputs": [],
   "source": [
    "## 배열 값 삽입.\n",
    "   #인덱스를 지정하여 값을 추가할 수 있습니다.\n",
    "   #insert() 메서드를 사용하여 배열의 특정 위치에 값을 추가할 수 있습니다.\n",
    "    #insert() 메서드는 두 개의 인수를 사용합니다. \n",
    "    # 첫 번째 인수는 삽입할 값의 인덱스이고 두 번째 인수는 삽입할 값입니다.\n",
    "   #배열의 끝에 값을 추가하려면 append() 메서드를 사용하십시오.\n",
    "   # 슬라이싱을 사용하여 배열의 특정 위치에 여러 값을 추가할 수도 있습니다.\n",
    "   # concatentation을 사용하여 두 개의 배열을 결합할 수도 있습니다. "
   ]
  },
  {
   "cell_type": "code",
   "execution_count": 1,
   "metadata": {},
   "outputs": [],
   "source": [
    "import numpy as np\n",
    "a1 = np.array([1, 2, 3, 4, 5])\n",
    "a2 = np.array([[1, 2, 3], [4, 5, 6], [7, 8, 9]])\n",
    "a3 = np.array([[[1, 2, 3], [4, 5, 6], [7, 8, 9]], \n",
    "               [[1, 2, 3], [4, 5, 6], [7, 8, 9]], \n",
    "            \n",
    "               [[1, 2, 3], [4, 5, 6], [7, 8, 9]]])"
   ]
  },
  {
   "cell_type": "code",
   "execution_count": 8,
   "metadata": {},
   "outputs": [
    {
     "name": "stdout",
     "output_type": "stream",
     "text": [
      "[1 2 3 4 5]\n",
      "[ 1 10  2  3  4  5]\n",
      "[1 2 3 4 5]\n",
      "[ 1  2  3 10  4  5]\n",
      "\n",
      "-------\n",
      "[[1 2 3]\n",
      " [4 5 6]\n",
      " [7 8 9]]\n",
      "\n",
      "-------\n",
      "[[ 1  2  3]\n",
      " [10 10 10]\n",
      " [ 4  5  6]\n",
      " [ 7  8  9]]\n",
      "\n",
      "-------\n",
      "[[ 1 10  2  3]\n",
      " [ 4 10  5  6]\n",
      " [ 7 10  8  9]]\n"
     ]
    }
   ],
   "source": [
    "\n",
    "print(a1)\n",
    "b1 = np.insert(a1, 1, 10) # 1번째 인덱스에 10을 추가\n",
    "print(b1)\n",
    "print(a1) # 원본 배열은 변경되지 않습니다.\n",
    "c1 = np.insert(a1, 3, 10)\n",
    "print(c1)\n",
    "\n",
    "print()\n",
    "print(\"-------\")\n",
    "print(a2)\n",
    "print()\n",
    "print(\"-------\")\n",
    "b2 = np.insert(a2, 1, 10, axis=0) # 2차원이기 때문에 axis(축)를 지정해야 합니다.\n",
    "#로우방향 1번째 인덱스에 10을 추가\n",
    "# axis가 1이면 열(column)에 추가되고 axis가 0이면 행(row)에 추가됩니다.\n",
    "print(b2)\n",
    "print()\n",
    "print(\"-------\")\n",
    "c2 = np.insert(a2, 1, 10, axis=1) #열방향 1번째 인덱스에 10을 추가 \n",
    "print(c2)"
   ]
  }
 ],
 "metadata": {
  "kernelspec": {
   "display_name": "pyenv311",
   "language": "python",
   "name": "python3"
  },
  "language_info": {
   "codemirror_mode": {
    "name": "ipython",
    "version": 3
   },
   "file_extension": ".py",
   "mimetype": "text/x-python",
   "name": "python",
   "nbconvert_exporter": "python",
   "pygments_lexer": "ipython3",
   "version": "3.11.5"
  }
 },
 "nbformat": 4,
 "nbformat_minor": 2
}
