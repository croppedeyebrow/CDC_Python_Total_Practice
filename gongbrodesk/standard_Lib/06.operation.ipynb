{
 "cells": [
  {
   "cell_type": "markdown",
   "metadata": {},
   "source": [
    "## Operation\n",
    "\n",
    "### s[i]\n",
    "### s[i:j]\n",
    "### s[i:j:k]\n",
    "### s[i][j][k]\n",
    "### s+t\n",
    "### s*n"
   ]
  },
  {
   "cell_type": "code",
   "execution_count": 1,
   "metadata": {},
   "outputs": [
    {
     "name": "stdout",
     "output_type": "stream",
     "text": [
      "30\n"
     ]
    }
   ],
   "source": [
    "# s[i]\n",
    "\n",
    "# 인덱싱: 시퀀스의 i번째 요소에 접근합니다.\n",
    "# 인덱스는 0부터 시작합니다.\n",
    "\n",
    "s = [10, 20, 30, 40, 50]\n",
    "print(s[2])"
   ]
  },
  {
   "cell_type": "code",
   "execution_count": 2,
   "metadata": {},
   "outputs": [
    {
     "name": "stdout",
     "output_type": "stream",
     "text": [
      "[20, 30, 40]\n",
      "[10, 20, 30]\n",
      "[30, 40, 50]\n"
     ]
    }
   ],
   "source": [
    "# s[i:j]\n",
    "\n",
    "# 슬라이싱: i부터 j-1까지의 부분 시퀀스를 반환합니다.\n",
    "# j를 생략하면 끝까지, i를 생략하면 처음부터 슬라이싱합니다.\n",
    "\n",
    "s = [10, 20, 30, 40, 50]\n",
    "print(s[1:4])  # [20, 30, 40]\n",
    "print(s[:3])   # [10, 20, 30]\n",
    "print(s[2:])   # [30, 40, 50]"
   ]
  },
  {
   "cell_type": "code",
   "execution_count": 3,
   "metadata": {},
   "outputs": [
    {
     "name": "stdout",
     "output_type": "stream",
     "text": [
      "[10, 30, 50]\n",
      "[20, 40]\n",
      "[50, 40, 30, 20, 10]\n"
     ]
    }
   ],
   "source": [
    "# s[i:j:k]\n",
    "\n",
    "# 확장 슬라이싱: i부터 j-1까지 k 간격으로 요소를 선택합니다.\n",
    "# k는 스텝(step)이라고 부릅니다.\n",
    "\n",
    "s = [10, 20, 30, 40, 50]\n",
    "print(s[::2])    # [10, 30, 50]\n",
    "print(s[1::2])   # [20, 40]\n",
    "print(s[::-1])   # [50, 40, 30, 20, 10] (역순)"
   ]
  },
  {
   "cell_type": "code",
   "execution_count": 4,
   "metadata": {},
   "outputs": [
    {
     "name": "stdout",
     "output_type": "stream",
     "text": [
      "6\n"
     ]
    }
   ],
   "source": [
    "# s[i][j][k]\n",
    "\n",
    "# 다차원 인덱싱: 중첩된 시퀀스에서 요소에 접근합니다.\n",
    "\n",
    "matrix = [[1, 2, 3], [4, 5, 6], [7, 8, 9]]\n",
    "print(matrix[1][2])  # 6"
   ]
  },
  {
   "cell_type": "code",
   "execution_count": 5,
   "metadata": {},
   "outputs": [
    {
     "name": "stdout",
     "output_type": "stream",
     "text": [
      "[1, 2, 3, 4, 5, 6]\n",
      "Hello World\n"
     ]
    }
   ],
   "source": [
    "# s + t\n",
    "\n",
    "# 연결: 두 시퀀스를 연결합니다.\n",
    "\n",
    "s1 = [1, 2, 3]\n",
    "s2 = [4, 5, 6]\n",
    "print(s1 + s2)  # [1, 2, 3, 4, 5, 6]\n",
    "\n",
    "str1 = \"Hello\"\n",
    "str2 = \"World\"\n",
    "print(str1 + \" \" + str2)  # \"Hello World\""
   ]
  },
  {
   "cell_type": "code",
   "execution_count": 6,
   "metadata": {},
   "outputs": [
    {
     "name": "stdout",
     "output_type": "stream",
     "text": [
      "[1, 2, 3, 1, 2, 3, 1, 2, 3]\n",
      "abcabcabc\n"
     ]
    }
   ],
   "source": [
    "# s * n\n",
    "\n",
    "# 반복: 시퀀스를 n번 반복합니다.\n",
    "\n",
    "s = [1, 2, 3]\n",
    "print(s * 3)  # [1, 2, 3, 1, 2, 3, 1, 2, 3]\n",
    "\n",
    "str = \"abc\"\n",
    "print(str * 3)  # \"abcabcabc\""
   ]
  },
  {
   "cell_type": "markdown",
   "metadata": {},
   "source": []
  }
 ],
 "metadata": {
  "kernelspec": {
   "display_name": "pyenv311",
   "language": "python",
   "name": "python3"
  },
  "language_info": {
   "codemirror_mode": {
    "name": "ipython",
    "version": 3
   },
   "file_extension": ".py",
   "mimetype": "text/x-python",
   "name": "python",
   "nbconvert_exporter": "python",
   "pygments_lexer": "ipython3",
   "version": "3.11.5"
  }
 },
 "nbformat": 4,
 "nbformat_minor": 2
}
