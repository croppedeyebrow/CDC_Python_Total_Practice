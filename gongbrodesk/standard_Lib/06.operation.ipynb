{
 "cells": [
  {
   "cell_type": "markdown",
   "metadata": {},
   "source": [
    "## Operation\n",
    "\n",
    "### s[i]\n",
    "### s[i:j]\n",
    "### s[i:j:k]\n",
    "### s[i][j][k]\n",
    "### s+t\n",
    "### s*n"
   ]
  },
  {
   "cell_type": "code",
   "execution_count": null,
   "metadata": {},
   "outputs": [],
   "source": []
  }
 ],
 "metadata": {
  "language_info": {
   "name": "python"
  }
 },
 "nbformat": 4,
 "nbformat_minor": 2
}
