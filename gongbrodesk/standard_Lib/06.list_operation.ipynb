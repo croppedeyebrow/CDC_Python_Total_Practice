{
 "cells": [
  {
   "cell_type": "markdown",
   "metadata": {},
   "source": [
    "## Operation\n",
    "\n",
    "### s[i]\n",
    "### s[i:j]\n",
    "### s[i:j:k]\n",
    "### s[i][j][k]\n",
    "### s+t\n",
    "### s*n"
   ]
  },
  {
   "cell_type": "code",
   "execution_count": 1,
   "metadata": {},
   "outputs": [
    {
     "name": "stdout",
     "output_type": "stream",
     "text": [
      "30\n"
     ]
    }
   ],
   "source": [
    "# s[i]\n",
    "\n",
    "# 인덱싱: 시퀀스의 i번째 요소에 접근합니다.\n",
    "# 인덱스는 0부터 시작합니다.\n",
    "\n",
    "s = [10, 20, 30, 40, 50]\n",
    "print(s[2])"
   ]
  },
  {
   "cell_type": "code",
   "execution_count": 2,
   "metadata": {},
   "outputs": [
    {
     "name": "stdout",
     "output_type": "stream",
     "text": [
      "[20, 30, 40]\n",
      "[10, 20, 30]\n",
      "[30, 40, 50]\n"
     ]
    }
   ],
   "source": [
    "# s[i:j]\n",
    "\n",
    "# 슬라이싱: i부터 j-1까지의 부분 시퀀스를 반환합니다.\n",
    "# j를 생략하면 끝까지, i를 생략하면 처음부터 슬라이싱합니다.\n",
    "\n",
    "s = [10, 20, 30, 40, 50]\n",
    "print(s[1:4])  # [20, 30, 40]\n",
    "print(s[:3])   # [10, 20, 30]\n",
    "print(s[2:])   # [30, 40, 50]"
   ]
  },
  {
   "cell_type": "code",
   "execution_count": 3,
   "metadata": {},
   "outputs": [
    {
     "name": "stdout",
     "output_type": "stream",
     "text": [
      "[10, 30, 50]\n",
      "[20, 40]\n",
      "[50, 40, 30, 20, 10]\n"
     ]
    }
   ],
   "source": [
    "# s[i:j:k]\n",
    "\n",
    "# 확장 슬라이싱: i부터 j-1까지 k 간격으로 요소를 선택합니다.\n",
    "# k는 스텝(step)이라고 부릅니다.\n",
    "\n",
    "s = [10, 20, 30, 40, 50]\n",
    "print(s[::2])    # [10, 30, 50]\n",
    "print(s[1::2])   # [20, 40]\n",
    "print(s[::-1])   # [50, 40, 30, 20, 10] (역순)"
   ]
  },
  {
   "cell_type": "code",
   "execution_count": 4,
   "metadata": {},
   "outputs": [
    {
     "name": "stdout",
     "output_type": "stream",
     "text": [
      "6\n"
     ]
    }
   ],
   "source": [
    "# s[i][j][k]\n",
    "\n",
    "# 다차원 인덱싱: 중첩된 시퀀스에서 요소에 접근합니다.\n",
    "\n",
    "matrix = [[1, 2, 3], [4, 5, 6], [7, 8, 9]]\n",
    "print(matrix[1][2])  # 6"
   ]
  },
  {
   "cell_type": "code",
   "execution_count": 5,
   "metadata": {},
   "outputs": [
    {
     "name": "stdout",
     "output_type": "stream",
     "text": [
      "[1, 2, 3, 4, 5, 6]\n",
      "Hello World\n"
     ]
    }
   ],
   "source": [
    "# s + t\n",
    "\n",
    "# 연결: 두 시퀀스를 연결합니다.\n",
    "\n",
    "s1 = [1, 2, 3]\n",
    "s2 = [4, 5, 6]\n",
    "print(s1 + s2)  # [1, 2, 3, 4, 5, 6]\n",
    "\n",
    "str1 = \"Hello\"\n",
    "str2 = \"World\"\n",
    "print(str1 + \" \" + str2)  # \"Hello World\""
   ]
  },
  {
   "cell_type": "code",
   "execution_count": 6,
   "metadata": {},
   "outputs": [
    {
     "name": "stdout",
     "output_type": "stream",
     "text": [
      "[1, 2, 3, 1, 2, 3, 1, 2, 3]\n",
      "abcabcabc\n"
     ]
    }
   ],
   "source": [
    "# s * n\n",
    "\n",
    "# 반복: 시퀀스를 n번 반복합니다.\n",
    "\n",
    "s = [1, 2, 3]\n",
    "print(s * 3)  # [1, 2, 3, 1, 2, 3, 1, 2, 3]\n",
    "\n",
    "str = \"abc\"\n",
    "print(str * 3)  # \"abcabcabc\""
   ]
  },
  {
   "cell_type": "markdown",
   "metadata": {},
   "source": [
    "### copy()\n",
    " 리스트의 얕은 복사본을 생성합니다.\n",
    " 새로운 리스트 객체를 만들지만, 내부 요소는 원본과 같은 객체를 참조합니다.\n",
    "\n",
    "### extend()\n",
    " 리스트 끝에 다른 이터러블(리스트, 튜플 등)의 모든 요소를 추가합니다.\n",
    "\n",
    "### +=\n",
    " 리스트에 다른 이터러블의 모든 요소를 추가합니다. extend()와 유사하게 동작합니다.\n",
    "\n",
    "### append\n",
    "  리스트 끝에 단일 요소를 추가합니다.\n",
    "\n",
    "### remove\n",
    " 리스트에서 지정된 값을 가진 첫 번째 요소를 제거합니다.\n",
    " 해당 값이 리스트에 없으면 ValueError가 발생합니다.\n",
    "\n",
    "### pop()\n",
    " 리스트의 마지막 요소(또는 지정된 인덱스의 요소)를 제거하고 반환합니다.\n",
    " 인덱스를 지정하지 않으면 마지막 요소가 제거됩니다."
   ]
  },
  {
   "cell_type": "code",
   "execution_count": 7,
   "metadata": {},
   "outputs": [
    {
     "name": "stdout",
     "output_type": "stream",
     "text": [
      "[1, [20, 3], 4]\n",
      "[10, [20, 3], 4]\n"
     ]
    }
   ],
   "source": [
    "# copy()\n",
    "\n",
    "# 리스트의 얕은 복사본을 생성합니다.\n",
    "# 새로운 리스트 객체를 만들지만, 내부 요소는 원본과 같은 객체를 참조합니다.\n",
    "\n",
    "original = [1, [2, 3], 4]\n",
    "copied = original.copy()\n",
    "copied[0] = 10\n",
    "copied[1][0] = 20\n",
    "print(original)  # [1, [20, 3], 4]\n",
    "print(copied)    # [10, [20, 3], 4]"
   ]
  },
  {
   "cell_type": "code",
   "execution_count": 8,
   "metadata": {},
   "outputs": [
    {
     "name": "stdout",
     "output_type": "stream",
     "text": [
      "['apple', 'banana', 'cherry', 'date']\n"
     ]
    }
   ],
   "source": [
    "# extend()\n",
    "\n",
    "# 리스트 끝에 다른 이터러블(리스트, 튜플 등)의 모든 요소를 추가합니다.\n",
    "\n",
    "fruits = ['apple', 'banana']\n",
    "fruits.extend(['cherry', 'date'])\n",
    "print(fruits)  # ['apple', 'banana', 'cherry', 'date']"
   ]
  },
  {
   "cell_type": "code",
   "execution_count": 9,
   "metadata": {},
   "outputs": [
    {
     "name": "stdout",
     "output_type": "stream",
     "text": [
      "[1, 2, 3, 4, 5]\n"
     ]
    }
   ],
   "source": [
    "# +=\n",
    "\n",
    "# 리스트에 다른 이터러블의 모든 요소를 추가합니다. extend()와 유사하게 동작합니다.\n",
    "\n",
    "numbers = [1, 2, 3]\n",
    "numbers += [4, 5]\n",
    "print(numbers)  # [1, 2, 3, 4, 5]"
   ]
  },
  {
   "cell_type": "code",
   "execution_count": 10,
   "metadata": {},
   "outputs": [
    {
     "name": "stdout",
     "output_type": "stream",
     "text": [
      "['apple', 'banana', 'cherry']\n"
     ]
    }
   ],
   "source": [
    "# append()\n",
    "\n",
    "# 리스트 끝에 단일 요소를 추가합니다.\n",
    "\n",
    "fruits = ['apple', 'banana']\n",
    "fruits.append('cherry')\n",
    "print(fruits)  # ['apple', 'banana', 'cherry']"
   ]
  },
  {
   "cell_type": "code",
   "execution_count": 11,
   "metadata": {},
   "outputs": [
    {
     "name": "stdout",
     "output_type": "stream",
     "text": [
      "[1, 3, 2, 4]\n"
     ]
    }
   ],
   "source": [
    "# remove()\n",
    "\n",
    "# 리스트에서 지정된 값을 가진 첫 번째 요소를 제거합니다.\n",
    "# 해당 값이 리스트에 없으면 ValueError가 발생합니다.\n",
    "\n",
    "numbers = [1, 2, 3, 2, 4]\n",
    "numbers.remove(2)\n",
    "print(numbers)  # [1, 3, 2, 4]\n",
    "# numbers.remove(5)  # ValueError: list.remove(x): x not in list"
   ]
  },
  {
   "cell_type": "code",
   "execution_count": 12,
   "metadata": {},
   "outputs": [
    {
     "name": "stdout",
     "output_type": "stream",
     "text": [
      "cherry\n",
      "['apple', 'banana']\n",
      "banana\n",
      "['apple']\n"
     ]
    }
   ],
   "source": [
    "# pop()\n",
    "\n",
    "# 리스트의 마지막 요소(또는 지정된 인덱스의 요소)를 제거하고 반환합니다.\n",
    "# 인덱스를 지정하지 않으면 마지막 요소가 제거됩니다.\n",
    "\n",
    "fruits = ['apple', 'banana', 'cherry']\n",
    "last_fruit = fruits.pop()\n",
    "print(last_fruit)  # 'cherry'\n",
    "print(fruits)      # ['apple', 'banana']\n",
    "\n",
    "second_fruit = fruits.pop(1)\n",
    "print(second_fruit)  # 'banana'\n",
    "print(fruits)        # ['apple']"
   ]
  },
  {
   "cell_type": "markdown",
   "metadata": {},
   "source": [
    "#### copy()는 얕은 복사를 수행합니다. \n",
    "##### 중첩된 리스트나 복잡한 객체의 경우 deepcopy()를 사용해야 할 수 있습니다.\n",
    "\n",
    "##### extend()와 +=는 비슷하게 동작하지만, +=는 새로운 객체를 생성할 수 있습니다.\n",
    "\n",
    "##### append()는 단일 요소를 추가하고, extend()는 여러 요소를 추가합니다.\n",
    "\n",
    "##### remove()는 값으로 요소를 제거하고, pop()은 인덱스로 요소를 제거합니다.\n",
    "\n",
    "##### pop()은 제거된 요소를 반환하지만, remove()는 아무것도 반환하지 않습니다."
   ]
  },
  {
   "cell_type": "markdown",
   "metadata": {},
   "source": [
    "### clear()\n",
    "### insert(i,x)\n",
    "### index()\n",
    "### count()\n",
    "### sort()\n",
    "### reverse()\n"
   ]
  },
  {
   "cell_type": "code",
   "execution_count": 2,
   "metadata": {},
   "outputs": [],
   "source": [
    "# clear(): 리스트의 모든 항목을 제거합니다.\n",
    "my_list = [1, 2, 3]\n",
    "my_list.clear()\n",
    "# 결과: my_list = []\n",
    "\n",
    "# insert(i, x): 지정된 위치 i에 항목 x를 삽입합니다.\n",
    "my_list = [1, 2, 3]\n",
    "my_list.insert(1, 4)\n",
    "# 결과: my_list = [1, 4, 2, 3]\n",
    "\n",
    "# index(): 지정된 값의 인덱스를 반환합니다. 값이 없으면 ValueError를 발생시킵니다.\n",
    "my_list = [1, 2, 3, 2]\n",
    "index = my_list.index(2)\n",
    "# 결과: index = 1 (첫 번째로 발견된 2의 인덱스)\n",
    "\n",
    "# count(): 리스트에서 지정된 값의 개수를 반환합니다.\n",
    "my_list = [1, 2, 3, 2, 2]\n",
    "count = my_list.count(2)\n",
    "# 결과: count = 3\n",
    "\n",
    "# sort(): 리스트를 오름차순으로 정렬합니다. 원본 리스트를 변경합니다.\n",
    "my_list = [3, 1, 4, 1, 5, 9, 2]\n",
    "my_list.sort()\n",
    "# 결과: my_list = [1, 1, 2, 3, 4, 5, 9]\n",
    "\n",
    "# reverse(): 리스트의 순서를 뒤집습니다. 원본 리스트를 변경합니다.\n",
    "my_list = [1, 2, 3, 4, 5]\n",
    "my_list.reverse()\n",
    "# 결과: my_list = [5, 4, 3, 2, 1]\n",
    "\n",
    "\n",
    "\n",
    "# 리스트와 튜플의 차이점 : 내부 값의 변경이 가능한가의 여부- 리스트는 가능/ 튜플은 불가"
   ]
  }
 ],
 "metadata": {
  "kernelspec": {
   "display_name": "pyenv311",
   "language": "python",
   "name": "python3"
  },
  "language_info": {
   "codemirror_mode": {
    "name": "ipython",
    "version": 3
   },
   "file_extension": ".py",
   "mimetype": "text/x-python",
   "name": "python",
   "nbconvert_exporter": "python",
   "pygments_lexer": "ipython3",
   "version": "3.11.5"
  }
 },
 "nbformat": 4,
 "nbformat_minor": 2
}
