{
 "cells": [
  {
   "cell_type": "markdown",
   "metadata": {},
   "source": [
    "## 비교연산"
   ]
  },
  {
   "cell_type": "markdown",
   "metadata": {},
   "source": [
    "### <       \n",
    "   #### 작음: 왼쪽 값이 오른쪽 값보다 작으면 True, 그렇지 않으면 False를 반환합니다.\n",
    "### <=      \n",
    "  #### 작거나 같음: 왼쪽 값이 오른쪽 값보다 작거나 같으면 True, 그렇지 않으면 False를 반환합니다.\n",
    "### >       \n",
    "  #### 큼: 왼쪽 값이 오른쪽 값보다 크면 True, 그렇지 않으면 False를 반환합니다.\n",
    "### >=     \n",
    "  #### 크거나 같음: 왼쪽 값이 오른쪽 값보다 크거나 같으면 True, 그렇지 않으면 False를 반환합니다.\n",
    "### ==      \n",
    "  #### 동등: 두 값이 같으면 True, 다르면 False를 반환합니다. 값의 동등성을 비교합니다.\n",
    "### !=      \n",
    "  #### 같지 않음: 두 값이 다르면 True, 같으면 False를 반환합니다.\n",
    "### is      \n",
    "  #### 동일: 두 객체가 메모리 상에서 동일한 객체를 가리키면 True, 그렇지 않으면 False를 반환합니다.\n",
    "### is not  \n",
    " #### 동일하지 않음: 두 객체가 메모리 상에서 다른 객체를 가리키면 True, 동일한 객체를 가리키면 False를 반환합니다."
   ]
  },
  {
   "cell_type": "code",
   "execution_count": 2,
   "metadata": {},
   "outputs": [
    {
     "name": "stdout",
     "output_type": "stream",
     "text": [
      "< (작다):\n",
      "True\n",
      "False\n",
      "\n",
      "<= (작거나 같다):\n",
      "True\n",
      "False\n",
      "\n",
      "> (크다):\n",
      "True\n",
      "False\n",
      "\n",
      ">= (크거나 같다):\n",
      "True\n",
      "False\n",
      "\n",
      "== (같다):\n",
      "True\n",
      "False\n",
      "True\n",
      "\n",
      "!= (같지 않다):\n",
      "True\n",
      "False\n",
      "\n",
      "is (동일하다):\n",
      "True\n",
      "False\n",
      "\n",
      "is not (동일하지 않다):\n",
      "True\n",
      "False\n",
      "\n",
      "부동소수점 비교:\n",
      "False\n",
      "True\n"
     ]
    }
   ],
   "source": [
    "\n",
    "# 예제 값 설정\n",
    "x = 5\n",
    "y = 10\n",
    "list1 = [1, 2, 3]\n",
    "list2 = [1, 2, 3]\n",
    "list3 = list1\n",
    "\n",
    "print(\"< (작다):\")\n",
    "print(x < y)  # True\n",
    "print(y < x)  # False\n",
    "\n",
    "print(\"\\n<= (작거나 같다):\")\n",
    "print(x <= 5)  # True\n",
    "print(x <= 4)  # False\n",
    "\n",
    "print(\"\\n> (크다):\")\n",
    "print(y > x)  # True\n",
    "print(x > y)  # False\n",
    "\n",
    "print(\"\\n>= (크거나 같다):\")\n",
    "print(y >= 10)  # True\n",
    "print(y >= 11)  # False\n",
    "\n",
    "print(\"\\n== (같다):\")\n",
    "print(x == 5)  # True\n",
    "print(x == y)  # False\n",
    "print(list1 == list2)  # True (값이 같음)\n",
    "\n",
    "print(\"\\n!= (같지 않다):\")\n",
    "print(x != y)  # True\n",
    "print(x != 5)  # False\n",
    "\n",
    "print(\"\\nis (동일하다):\")\n",
    "print(list1 is list3)  # True (같은 객체)\n",
    "print(list1 is list2)  # False (다른 객체)\n",
    "\n",
    "print(\"\\nis not (동일하지 않다):\")\n",
    "print(list1 is not list2)  # True (다른 객체)\n",
    "print(list1 is not list3)  # False (같은 객체)\n",
    "\n",
    "# 부동소수점 비교 주의사항\n",
    "a = 0.1 + 0.2\n",
    "b = 0.3\n",
    "print(\"\\n부동소수점 비교:\")\n",
    "print(a == b)  # False (예상과 다를 수 있음)\n",
    "print(abs(a - b) < 1e-9)  # True (이렇게 비교하는 것이 안전)"
   ]
  }
 ],
 "metadata": {
  "kernelspec": {
   "display_name": "pyenv311",
   "language": "python",
   "name": "python3"
  },
  "language_info": {
   "codemirror_mode": {
    "name": "ipython",
    "version": 3
   },
   "file_extension": ".py",
   "mimetype": "text/x-python",
   "name": "python",
   "nbconvert_exporter": "python",
   "pygments_lexer": "ipython3",
   "version": "3.11.5"
  }
 },
 "nbformat": 4,
 "nbformat_minor": 2
}
