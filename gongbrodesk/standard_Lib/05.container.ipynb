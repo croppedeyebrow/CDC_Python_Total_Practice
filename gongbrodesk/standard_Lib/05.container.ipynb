{
 "cells": [
  {
   "cell_type": "markdown",
   "metadata": {},
   "source": [
    "## Container"
   ]
  },
  {
   "cell_type": "markdown",
   "metadata": {},
   "source": [
    "###  list  []\n",
    "### tuple ()\n",
    "### set {}\n",
    "### frozenset {}  -> immutable  & hashable\n",
    "### dictionary {}"
   ]
  },
  {
   "cell_type": "code",
   "execution_count": 1,
   "metadata": {},
   "outputs": [
    {
     "name": "stdout",
     "output_type": "stream",
     "text": [
      "['apple', 'banana', 'cherry']\n",
      "['apple', 'banana', 'cherry', 'date']\n",
      "['apple', 'blackberry', 'cherry', 'date']\n"
     ]
    }
   ],
   "source": [
    "# List []\n",
    "\n",
    "# 순서가 있고, 변경 가능한(mutable) 컨테이너입니다.\n",
    "# 다양한 타입의 요소를 포함할 수 있습니다.\n",
    "\n",
    "\n",
    "\n",
    "# List 예제\n",
    "fruits = ['apple', 'banana', 'cherry']\n",
    "print(fruits)  # ['apple', 'banana', 'cherry']\n",
    "fruits.append('date')\n",
    "print(fruits)  # ['apple', 'banana', 'cherry', 'date']\n",
    "fruits[1] = 'blackberry'\n",
    "print(fruits)  # ['apple', 'blackberry', 'cherry', 'date']"
   ]
  },
  {
   "cell_type": "code",
   "execution_count": 2,
   "metadata": {},
   "outputs": [
    {
     "name": "stdout",
     "output_type": "stream",
     "text": [
      "(10, 20, 30)\n",
      "20\n"
     ]
    }
   ],
   "source": [
    "# Tuple ()\n",
    "\n",
    "# 순서가 있고, 변경 불가능한(immutable) 컨테이너입니다.\n",
    "# 한 번 생성되면 내용을 수정할 수 없습니다.\n",
    "\n",
    "\n",
    "\n",
    "#Tuple 예제\n",
    "coordinates = (10, 20, 30)\n",
    "print(coordinates)  # (10, 20, 30)\n",
    "print(coordinates[1])  # 20"
   ]
  },
  {
   "cell_type": "code",
   "execution_count": 3,
   "metadata": {},
   "outputs": [
    {
     "name": "stdout",
     "output_type": "stream",
     "text": [
      "{1, 2, 3, 4, 5}\n",
      "{1, 2, 3, 4, 5, 6}\n",
      "{1, 3, 4, 5, 6}\n"
     ]
    }
   ],
   "source": [
    "# Set {}\n",
    "\n",
    "# 순서가 없고, 중복을 허용하지 않는 변경 가능한 컨테이너입니다.\n",
    "\n",
    "\n",
    "\n",
    "# Set 예제\n",
    "unique_numbers = {1, 2, 3, 3, 4, 4, 5}\n",
    "print(unique_numbers)  # {1, 2, 3, 4, 5}\n",
    "unique_numbers.add(6)\n",
    "print(unique_numbers)  # {1, 2, 3, 4, 5, 6}\n",
    "unique_numbers.remove(2)\n",
    "print(unique_numbers)  # {1, 3, 4, 5, 6}"
   ]
  },
  {
   "cell_type": "code",
   "execution_count": 4,
   "metadata": {},
   "outputs": [
    {
     "name": "stdout",
     "output_type": "stream",
     "text": [
      "frozenset({1, 2, 3, 4})\n",
      "This is a frozenset\n"
     ]
    }
   ],
   "source": [
    "# Frozenset\n",
    "\n",
    "# Set과 유사하지만 변경 불가능(immutable)하고 해시 가능(hashable)합니다.\n",
    "# 딕셔너리의 키나 다른 set의 요소로 사용할 수 있습니다.\n",
    "\n",
    "\n",
    "\n",
    "# Frozenset 예제\n",
    "fs = frozenset([1, 2, 3, 3, 4])\n",
    "print(fs)  # frozenset({1, 2, 3, 4})\n",
    "# fs.add(5)  # AttributeError: 'frozenset' object has no attribute 'add'\n",
    "\n",
    "# 딕셔너리 키로 사용\n",
    "dict_with_frozenset = {fs: \"This is a frozenset\"}\n",
    "print(dict_with_frozenset[fs])  # \"This is a frozenset\""
   ]
  },
  {
   "cell_type": "code",
   "execution_count": 5,
   "metadata": {},
   "outputs": [
    {
     "name": "stdout",
     "output_type": "stream",
     "text": [
      "{'name': 'John', 'age': 30, 'city': 'New York'}\n",
      "{'name': 'John', 'age': 30, 'city': 'New York', 'job': 'Engineer'}\n",
      "John\n"
     ]
    }
   ],
   "source": [
    "# Dictionary {}\n",
    "\n",
    "# 키-값 쌍으로 이루어진 컨테이너입니다.\n",
    "# 키는 유일해야 하며, 변경 불가능한 타입이어야 합니다.\n",
    "\n",
    "\n",
    "\n",
    "# Dictionary 예제\n",
    "person = {'name': 'John', 'age': 30, 'city': 'New York'}\n",
    "print(person)  # {'name': 'John', 'age': 30, 'city': 'New York'}\n",
    "person['job'] = 'Engineer'\n",
    "print(person)  # {'name': 'John', 'age': 30, 'city': 'New York', 'job': 'Engineer'}\n",
    "print(person['name'])  # John"
   ]
  },
  {
   "cell_type": "markdown",
   "metadata": {},
   "source": [
    "### 컨테이너 타입들의 특징 비교:\n",
    "\n",
    "#### 변경 가능성:\n",
    "\n",
    "Mutable: List, Set, Dictionary\n",
    "Immutable: Tuple, Frozenset\n",
    "\n",
    "\n",
    "#### 순서:\n",
    "\n",
    "순서 있음: List, Tuple\n",
    "순서 없음: Set, Frozenset\n",
    "Dictionary는 Python 3.7부터 삽입 순서 유지\n",
    "\n",
    "\n",
    "#### 중복:\n",
    "\n",
    "중복 허용: List, Tuple\n",
    "중복 불허: Set, Frozenset, Dictionary (키에 한해)\n",
    "\n",
    "\n",
    "#### 인덱싱:\n",
    "\n",
    "가능: List, Tuple\n",
    "불가능: Set, Frozenset\n",
    "Dictionary는 키를 통해 접근"
   ]
  },
  {
   "cell_type": "markdown",
   "metadata": {},
   "source": []
  }
 ],
 "metadata": {
  "kernelspec": {
   "display_name": "pyenv311",
   "language": "python",
   "name": "python3"
  },
  "language_info": {
   "codemirror_mode": {
    "name": "ipython",
    "version": 3
   },
   "file_extension": ".py",
   "mimetype": "text/x-python",
   "name": "python",
   "nbconvert_exporter": "python",
   "pygments_lexer": "ipython3",
   "version": "3.11.5"
  }
 },
 "nbformat": 4,
 "nbformat_minor": 2
}
