{
 "cells": [
  {
   "cell_type": "code",
   "execution_count": 2,
   "metadata": {},
   "outputs": [
    {
     "name": "stdout",
     "output_type": "stream",
     "text": [
      "총기 이름:  AK-47\n",
      "AK-47 의 제원은 무게 :  3.8 길이는 :  870 입니다.\n"
     ]
    }
   ],
   "source": [
    "#변수에 값을 담아서, 문자열과 함께 출력하기.\n",
    "gun_name = \"AK-47\"\n",
    "gun_weight = 3.8\n",
    "gun_length = 870\n",
    "\n",
    "print(\"총기 이름: \", gun_name)\n",
    "print( gun_name, \"의 제원은 무게 : \", gun_weight, \"길이는 : \", gun_length, \"입니다.\")\n",
    "    "
   ]
  },
  {
   "cell_type": "code",
   "execution_count": 3,
   "metadata": {},
   "outputs": [
    {
     "name": "stdout",
     "output_type": "stream",
     "text": [
      "챔피언 이름:  티모\n",
      "티모 의 레벨은  12 이고, 스킬은  버섯 던지기 입니다.\n"
     ]
    }
   ],
   "source": [
    "champ_name = \"티모\"\n",
    "champ_level = 12\n",
    "champ_damage= 100\n",
    "champ_skill = \"버섯 던지기\"\n",
    "\n",
    "#여기까지 변수 정의.\n",
    "\n",
    "#변수를 출력하기.\n",
    "print(\"챔피언 이름: \", champ_name)\n",
    "print(champ_name, \"의 레벨은 \", champ_level, \"이고, 스킬은 \", champ_skill, \"입니다.\")\n"
   ]
  },
  {
   "cell_type": "code",
   "execution_count": 6,
   "metadata": {},
   "outputs": [
    {
     "name": "stdout",
     "output_type": "stream",
     "text": [
      "입력한 숫자는  12 입니다.\n"
     ]
    }
   ],
   "source": [
    "x= input(\"숫자를 입력하세요: \")\n",
    "\n",
    "print(\"입력한 숫자는 \", x, \"입니다.\")"
   ]
  },
  {
   "cell_type": "code",
   "execution_count": 7,
   "metadata": {},
   "outputs": [
    {
     "name": "stdout",
     "output_type": "stream",
     "text": [
      "서폿 챔피언 이름:  유미\n",
      "유미 의 레벨은  6 이고, 체력은  950 입니다.\n"
     ]
    }
   ],
   "source": [
    "suffotchamp_name = \"유미\"\n",
    "suffotchamp_level = 6\n",
    "suffotchamp_heart = 950\n",
    "suffotchamp_tell = \"나랑 유미랑\"\n",
    "\n",
    "print(\"서폿 챔피언 이름: \", suffotchamp_name)\n",
    "print(suffotchamp_name, \"의 레벨은 \", suffotchamp_level, \"이고, 체력은 \", suffotchamp_heart, \"입니다.\")"
   ]
  },
  {
   "cell_type": "code",
   "execution_count": 10,
   "metadata": {},
   "outputs": [
    {
     "name": "stdout",
     "output_type": "stream",
     "text": [
      "바다알 몬스터볼~!  파이리 넌 내꺼야!\n",
      "받아라 몬스터볼~! 파이리 넌 내꺼야!\n"
     ]
    }
   ],
   "source": [
    "pocketmon_name = input(\"포켓몬 이름을 입력하세요: \")\n",
    "print(\"바다알 몬스터볼~! \", pocketmon_name, \"넌 내꺼야!\")\n",
    "print(f\"받아라 몬스터볼~! {pocketmon_name} 넌 내꺼야!\") #f-string을 이용한 출력. #f-string은 파이썬 3.6버전 이상에서 사용가능. \n",
    "#f-string의 기능은 문자열에 변수나 표현식을 삽입할 수 있다. #f-string은 문자열을 포매팅할 때, 가장 간단하고 직관적인 방법이다."
   ]
  },
  {
   "cell_type": "code",
   "execution_count": 9,
   "metadata": {},
   "outputs": [
    {
     "name": "stdout",
     "output_type": "stream",
     "text": [
      "[포켓몬 정보]\n",
      "이름:  이상해씨\n",
      "레벨:  8\n"
     ]
    }
   ],
   "source": [
    "pocketmon_name = input(\"포켓몬 이름을 입력하세요: \")\n",
    "pocketmon_level = input(\"포켓몬 레벨을 입력하세요: \")\n",
    "\n",
    "print(\"[포켓몬 정보]\")\n",
    "print(\"이름: \", pocketmon_name)\n",
    "print(\"레벨: \", pocketmon_level)"
   ]
  }
 ],
 "metadata": {
  "kernelspec": {
   "display_name": "pyenv311",
   "language": "python",
   "name": "python3"
  },
  "language_info": {
   "codemirror_mode": {
    "name": "ipython",
    "version": 3
   },
   "file_extension": ".py",
   "mimetype": "text/x-python",
   "name": "python",
   "nbconvert_exporter": "python",
   "pygments_lexer": "ipython3",
   "version": "3.11.5"
  }
 },
 "nbformat": 4,
 "nbformat_minor": 2
}
