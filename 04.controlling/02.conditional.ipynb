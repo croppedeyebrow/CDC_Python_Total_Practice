{
 "cells": [
  {
   "cell_type": "code",
   "execution_count": 3,
   "metadata": {},
   "outputs": [
    {
     "name": "stdout",
     "output_type": "stream",
     "text": [
      "통과!\n"
     ]
    }
   ],
   "source": [
    "origin_pass = \"300\"\n",
    "input_pass = input(\"Enter the password: \")\n",
    "\n",
    "\n",
    "if origin_pass == input_pass:\n",
    "    print(\"통과!\")\n",
    "else:\n",
    "    print(\"야이 빡대가리야!\")\n"
   ]
  },
  {
   "cell_type": "code",
   "execution_count": 4,
   "metadata": {},
   "outputs": [
    {
     "name": "stdout",
     "output_type": "stream",
     "text": [
      "수익 창출이 가능합니다.\n"
     ]
    }
   ],
   "source": [
    "now_sub = input(\"현재 구독자 수를 입력하세요: \")\n",
    "profit_sub_line = 1000\n",
    "\n",
    "\n",
    "if int(now_sub) >= profit_sub_line:\n",
    "    print(\"수익 창출이 가능합니다.\")\n",
    "else:\n",
    "    print(\"수익 창출이 불가능합니다.\")\n",
    "    "
   ]
  },
  {
   "cell_type": "code",
   "execution_count": 5,
   "metadata": {},
   "outputs": [
    {
     "name": "stdout",
     "output_type": "stream",
     "text": [
      "수익 창출이 불가능합니다.\n"
     ]
    }
   ],
   "source": [
    "now_sub = input(\"현재 구독자 수를 입력하세요: \")\n",
    "profit_sub_line = 1000\n",
    "\n",
    "\n",
    "if int(now_sub) >= profit_sub_line:\n",
    "    print(\"수익 창출이 가능합니다.\")\n",
    "else:\n",
    "    print(\"수익 창출이 불가능합니다.\")"
   ]
  },
  {
   "cell_type": "code",
   "execution_count": 9,
   "metadata": {},
   "outputs": [
    {
     "name": "stdout",
     "output_type": "stream",
     "text": [
      "휴대폰 잠금이 해제 됩니다.\n"
     ]
    }
   ],
   "source": [
    "study_time = input(\"공부시간을 입력하세요(시간): \")\n",
    "\n",
    "if int(study_time) >= 10:\n",
    "    print(\"휴대폰 잠금이 해제 됩니다.\")\n",
    "elif int(study_time) >= 5:\n",
    "    print(\"휴대폰을 30분간 사용가능합니다\")\n",
    "else:\n",
    "    print(\"휴대폰 사용이 불가능합니다.\")"
   ]
  }
 ],
 "metadata": {
  "kernelspec": {
   "display_name": "pyenv311",
   "language": "python",
   "name": "python3"
  },
  "language_info": {
   "codemirror_mode": {
    "name": "ipython",
    "version": 3
   },
   "file_extension": ".py",
   "mimetype": "text/x-python",
   "name": "python",
   "nbconvert_exporter": "python",
   "pygments_lexer": "ipython3",
   "version": "3.11.5"
  }
 },
 "nbformat": 4,
 "nbformat_minor": 2
}
