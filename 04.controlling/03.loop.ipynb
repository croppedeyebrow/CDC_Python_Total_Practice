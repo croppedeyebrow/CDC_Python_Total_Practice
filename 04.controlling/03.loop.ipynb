{
 "cells": [
  {
   "cell_type": "code",
   "execution_count": 1,
   "metadata": {},
   "outputs": [
    {
     "name": "stdout",
     "output_type": "stream",
     "text": [
      "1번 과제 시작\n",
      "과제 완료\n",
      "2번 과제 시작\n",
      "과제 완료\n",
      "3번 과제 시작\n",
      "과제 완료\n"
     ]
    }
   ],
   "source": [
    "for i in range(3):\n",
    "    print(f\"{i+1}번 과제 시작\")\n",
    "    print(\"과제 완료\")"
   ]
  },
  {
   "cell_type": "code",
   "execution_count": 2,
   "metadata": {},
   "outputs": [
    {
     "name": "stdout",
     "output_type": "stream",
     "text": [
      "1\n",
      "2\n",
      "3\n"
     ]
    }
   ],
   "source": [
    "for i in range(1,4):\n",
    "    print(i)"
   ]
  },
  {
   "cell_type": "code",
   "execution_count": 3,
   "metadata": {},
   "outputs": [
    {
     "name": "stdout",
     "output_type": "stream",
     "text": [
      "1\n",
      "3\n",
      "5\n",
      "7\n",
      "9\n"
     ]
    }
   ],
   "source": [
    "for i in range(1,10,2):\n",
    "    print(i)"
   ]
  },
  {
   "cell_type": "code",
   "execution_count": 4,
   "metadata": {},
   "outputs": [
    {
     "name": "stdout",
     "output_type": "stream",
     "text": [
      "1번째 강아지\n",
      "강아지를 위한 장난감 준비 중\n",
      "장난감 준비 완료\n",
      "2번째 강아지\n",
      "강아지를 위한 장난감 준비 중\n",
      "장난감 준비 완료\n",
      "3번째 강아지\n",
      "강아지를 위한 장난감 준비 중\n",
      "장난감 준비 완료\n"
     ]
    }
   ],
   "source": [
    "for i in range(3):\n",
    "    print(f\"{i+1}번째 강아지\")\n",
    "    print(\"강아지를 위한 장난감 준비 중\")\n",
    "    print(\"장난감 준비 완료\")"
   ]
  },
  {
   "cell_type": "code",
   "execution_count": 7,
   "metadata": {},
   "outputs": [
    {
     "name": "stdout",
     "output_type": "stream",
     "text": [
      "1번째 강아지\n",
      "강아지를 위한 장난감 준비 중\n",
      "장난감 준비 완료\n",
      "\n",
      "2번째 강아지\n",
      "강아지를 위한 장난감 준비 중\n",
      "장난감 준비 완료\n",
      "\n",
      "3번째 강아지\n",
      "강아지를 위한 장난감 준비 중\n",
      "장난감 준비 완료\n",
      "\n"
     ]
    }
   ],
   "source": [
    "for i in range(1,4):\n",
    "    print(f\"{i}번째 강아지\")\n",
    "    print(\"강아지를 위한 장난감 준비 중\")\n",
    "    print(\"장난감 준비 완료\\n\")"
   ]
  },
  {
   "cell_type": "code",
   "execution_count": 10,
   "metadata": {},
   "outputs": [
    {
     "name": "stdout",
     "output_type": "stream",
     "text": [
      "1부터 10까지의 합은 55 입니다.\n"
     ]
    }
   ],
   "source": [
    "#i의 합계를 저장할 변수\n",
    "total = 0\n",
    "\n",
    "for i in range (1,11):\n",
    "    total = total + i\n",
    "print(\"1부터 10까지의 합은\", total, \"입니다.\")"
   ]
  },
  {
   "cell_type": "code",
   "execution_count": 13,
   "metadata": {},
   "outputs": [
    {
     "name": "stdout",
     "output_type": "stream",
     "text": [
      "i값은 11 1부터 i까지의 합은 66 입니다.\n",
      "1부터 11까지의 합은 66 입니다.\n"
     ]
    }
   ],
   "source": [
    "#i의 합계를 저장할 변수\n",
    "total = 0\n",
    "\n",
    "for i in range(1,12):\n",
    "    total = total+i\n",
    "print(\"i값은\", i, \"1부터 i까지의 합은\", total, \"입니다.\")    \n",
    "print(\"1부터 11까지의 합은\", total, \"입니다.\") \n",
    "\n",
    "#반복문 안쪽에 print문을 위치시키느냐, 밖에 위치시키느냐에 따라 출력 결과가 달라짐\n",
    "\n",
    "#i의 합계를 저장할 변수\n",
    "total = 0\n",
    "\n",
    "for i in range(1,12):\n",
    "    total = total+i\n",
    "    print(\"i값은\", i, \"1부터 i까지의 합은\", total, \"입니다.\")    \n",
    "print(\"1부터 11까지의 합은\", total, \"입니다.\") \n"
   ]
  }
 ],
 "metadata": {
  "kernelspec": {
   "display_name": "pyenv311",
   "language": "python",
   "name": "python3"
  },
  "language_info": {
   "codemirror_mode": {
    "name": "ipython",
    "version": 3
   },
   "file_extension": ".py",
   "mimetype": "text/x-python",
   "name": "python",
   "nbconvert_exporter": "python",
   "pygments_lexer": "ipython3",
   "version": "3.11.5"
  }
 },
 "nbformat": 4,
 "nbformat_minor": 2
}
