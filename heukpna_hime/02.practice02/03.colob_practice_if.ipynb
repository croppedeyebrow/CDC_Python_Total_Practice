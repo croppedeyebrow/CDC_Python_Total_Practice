{
 "cells": [
  {
   "cell_type": "code",
   "execution_count": 1,
   "metadata": {},
   "outputs": [],
   "source": [
    "#조건문 (if, elif, else)\n",
    "\n",
    "# : 을 사용하여 코드블럭을 구분한다.\n",
    "# 들여쓰기로 코드블럭을 구분한다."
   ]
  },
  {
   "cell_type": "code",
   "execution_count": 2,
   "metadata": {},
   "outputs": [
    {
     "name": "stdout",
     "output_type": "stream",
     "text": [
      "True\n",
      "False\n",
      "False\n"
     ]
    }
   ],
   "source": [
    "a=5\n",
    "\n",
    "print(a>3)\n",
    "print(a<3)\n",
    "print(a==3)"
   ]
  },
  {
   "cell_type": "code",
   "execution_count": 6,
   "metadata": {},
   "outputs": [
    {
     "name": "stdout",
     "output_type": "stream",
     "text": [
      "True\n",
      "False\n",
      "False\n",
      "3보다 크다\n",
      "5와 같습니다\n"
     ]
    }
   ],
   "source": [
    "a=5\n",
    "\n",
    "print(a>3)\n",
    "print(a<3)\n",
    "print(a==3)\n",
    "\n",
    "#조건문으로 만들면\n",
    "\n",
    "if a>3:\n",
    "    print(\"3보다 크다\")\n",
    "# : 을 사용하여 코드블럭을 구분한다.\n",
    "# 들여쓰기로 조건 이후에 코드블럭을 구분한다.\n",
    "# 조건이 맞으면 들여쓰기 된 코드블럭들이 실행된다.   다른언어들이 {}로 구분하는것과 달리, 파이썬은 :와 들여쓰기로 구분한다.\n",
    "\n",
    "\n",
    "#조건에 맞지 않으면, 오류가 아니라 실행자체를 안하고 패스한다.\n",
    "if a<3:\n",
    "    print(\"3보다 작다\")\n",
    "\n",
    "if a==5:\n",
    "    print(\"5와 같습니다\")"
   ]
  },
  {
   "cell_type": "code",
   "execution_count": 7,
   "metadata": {},
   "outputs": [
    {
     "name": "stdout",
     "output_type": "stream",
     "text": [
      "10보다 크다\n",
      "15입니다\n"
     ]
    }
   ],
   "source": [
    "#조건안에 들여쓰기에서 빠져나오지 않았다면, 계속 밑으로 진행\n",
    "x=15\n",
    "if x>10:\n",
    "    print(\"10보다 크다\")\n",
    "    if x==15:\n",
    "        print(\"15입니다\")\n",
    "    if x==20:\n",
    "        print(\"20입니다\")    "
   ]
  },
  {
   "cell_type": "code",
   "execution_count": null,
   "metadata": {},
   "outputs": [],
   "source": []
  }
 ],
 "metadata": {
  "kernelspec": {
   "display_name": "pyenv311",
   "language": "python",
   "name": "python3"
  },
  "language_info": {
   "codemirror_mode": {
    "name": "ipython",
    "version": 3
   },
   "file_extension": ".py",
   "mimetype": "text/x-python",
   "name": "python",
   "nbconvert_exporter": "python",
   "pygments_lexer": "ipython3",
   "version": "3.11.5"
  }
 },
 "nbformat": 4,
 "nbformat_minor": 2
}
