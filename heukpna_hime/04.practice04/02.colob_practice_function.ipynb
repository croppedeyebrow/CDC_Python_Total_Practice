{
 "cells": [
  {
   "cell_type": "markdown",
   "metadata": {},
   "source": [
    "## 코딩의 꽃! 함수[Function]"
   ]
  },
  {
   "cell_type": "markdown",
   "metadata": {},
   "source": [
    "#내장 함수 (Built-in Functions)#\n",
    "\n",
    "파이썬에 기본적으로 포함된 함수들\n",
    "예: print(), len(), range(), type(), int(), str(), list() 등\n",
    "\n",
    "--------------------------\n",
    "--------------------------\n",
    "\n",
    "#사용자 정의 함수 (User-defined Functions)#\n",
    "\n",
    "프로그래머가 직접 정의한 함수\n",
    "'def' 키워드를 사용하여 정의\n",
    "\n",
    "--------------------------\n",
    "--------------------------\n",
    "\n",
    "#람다 함수 (Lambda Functions)#\n",
    "\n",
    "익명 함수, 한 줄로 간단한 함수를\n",
    " 정의\n",
    "예: lambda x: x*2\n",
    "\n",
    "--------------------------\n",
    "--------------------------\n",
    "\n",
    "#재귀 함수 (Recursive Functions)#\n",
    "\n",
    "자기 자신을 호출하는 함수\n",
    "\n",
    "--------------------------\n",
    "--------------------------\n",
    "\n",
    "\n",
    "\n",
    "#고차 함수 (Higher-order Functions)#\n",
    "\n",
    "다른 함수를 인자로 받거나 함수를 반환하는 함수\n",
    "예: map(), filter(), reduce()\n",
    "\n",
    "--------------------------\n",
    "--------------------------\n",
    "\n",
    "\n",
    "#제너레이터 함수 (Generator Functions)#\n",
    "\n",
    "'yield' 키워드를 사용하여 이터레이터를 생성하는 함수\n",
    "\n",
    "--------------------------\n",
    "--------------------------\n",
    "\n",
    "\n",
    "\n",
    "#메서드 (Methods)#\n",
    "\n",
    "클래스 내부에 정의된 함수\n",
    "\n",
    "--------------------------\n",
    "--------------------------\n",
    "\n",
    "\n",
    "#정적 메서드 (Static Methods)#\n",
    "\n",
    "클래스에 속하지만 인스턴스 상태에 접근하지 않는 메서드\n",
    "'@staticmethod' 데코레이터 사용\n",
    "\n",
    "--------------------------\n",
    "--------------------------\n",
    "\n",
    "#클래스 메서드 (Class Methods)#\n",
    "\n",
    "클래스 자체를 첫 번째 인자로 받는 메서드\n",
    "'@classmethod' 데코레이터 사용\n",
    "\n",
    "--------------------------\n",
    "--------------------------\n",
    "\n",
    "\n",
    "#추상 메서드 (Abstract Methods)#\n",
    "\n",
    "추상 클래스에서 선언되지만 구현되지 않은 메서드\n",
    "'abc' 모듈의 '@abstractmethod' 데코레이터 사용\n",
    "\n",
    "\n",
    "#특수 메서드 (Magic Methods or Dunder Methods)\n",
    "\n",
    "더블 언더스코어로 둘러싸인 메서드 (예: init, str)#\n",
    "특정 동작을 위해 파이썬이 내부적으로 호출\n",
    "\n",
    "\n",
    "\n",
    "--------------------------\n",
    "--------------------------\n",
    "\n",
    "코루틴 함수 (Coroutine Functions)\n",
    "\n",
    "'async def'로 정의되는 비동기 함수"
   ]
  },
  {
   "cell_type": "code",
   "execution_count": 4,
   "metadata": {},
   "outputs": [
    {
     "data": {
      "text/plain": [
       "4"
      ]
     },
     "execution_count": 4,
     "metadata": {},
     "output_type": "execute_result"
    }
   ],
   "source": [
    "def f(x) : #x라는 이름의 변수를 입력으로 받아 x**2를 출력하는 f라는 이름의 함수를 정릐해라 (define)\n",
    "    return x**2 #x**2를 출력하는 함수를 정의해라 (define)\n",
    "\n",
    "f(-2) # function call  #f라는 함수에 -2를 입력으로 넣어라 (call)\n"
   ]
  },
  {
   "cell_type": "code",
   "execution_count": 5,
   "metadata": {},
   "outputs": [
    {
     "name": "stdout",
     "output_type": "stream",
     "text": [
      "hello\n",
      "hello\n",
      "hello\n",
      "hello\n"
     ]
    }
   ],
   "source": [
    "print(\"hello\") #print라는 함수에 \"hello\"를 입력으로 넣어라 (call)\n",
    "\n",
    "def say() :\n",
    "    print(\"hello\") #hello를 출력하는 함수를 정의해라 (define)\n",
    "say()\n",
    "say()\n",
    "say()   "
   ]
  },
  {
   "cell_type": "code",
   "execution_count": 7,
   "metadata": {},
   "outputs": [
    {
     "name": "stdout",
     "output_type": "stream",
     "text": [
      "3\n"
     ]
    }
   ],
   "source": [
    "#값 두개를 넣기\n",
    "def add(a,b):\n",
    "    print(a+b)\n",
    "add(1,2)    "
   ]
  },
  {
   "cell_type": "code",
   "execution_count": 8,
   "metadata": {},
   "outputs": [
    {
     "name": "stdout",
     "output_type": "stream",
     "text": [
      "3\n"
     ]
    }
   ],
   "source": [
    "def add(a,b):\n",
    "    return(a+b)\n",
    "c = add(1,2)\n",
    "print(c)    "
   ]
  },
  {
   "cell_type": "code",
   "execution_count": 9,
   "metadata": {},
   "outputs": [
    {
     "name": "stdout",
     "output_type": "stream",
     "text": [
      "1024\n"
     ]
    }
   ],
   "source": [
    "def add(a,b): #매개변수\n",
    "    c = (a*3+2)*b   #로컬변수\n",
    "    d = c**2        #로컬변수\n",
    "    return d\n",
    "print(add(2,4))   #런타임 다시 시작 이후 실행해보면, -> a,b,c,d, 변수명은 함수안에서만 쓰인 것!\n"
   ]
  },
  {
   "cell_type": "code",
   "execution_count": null,
   "metadata": {},
   "outputs": [],
   "source": [
    "# call by assignment\n",
    "\n",
    "# -------------------------------------------\n",
    "\n",
    "# 파이썬이 함수에 인자를 전달하는 방식을 설명하는 용어\n",
    "# call by object reference 라고도 불림.\n",
    "\n",
    "# 기본원리.\n",
    "    # 파이썬에서 모든 것은 객체.\n",
    "    # 변수는 객체에 대한 참조.\n",
    "    # 함수에 인자를 전달할 때, 실제로는 객체에 대한 참조를 전달.\n",
    "# 작동방식.\n",
    "    # 함수 호출 시, 인자로 전달된 객체에 대한 새로운 참조가 생성\n",
    "    # 이 새로운 참조는 함수 내부의 지역 변수에 할당됩니다.\n",
    "    \n",
    "## 가변 객체(mutable) vs 불변 객체(immutable)\n",
    "     # 가변 객체(list, dict, set 등): 함수 내에서 수정 가능/ 변경이 함수 외부에도 영향\n",
    "     # 불변 객체(int, float, str, tuple, frozenset 등): 함수 내에서 수정 불가능\n",
    "     \n",
    "## 주의사항.\n",
    "     # call by value나 call by reference와는 다름.\n",
    "     # 객체의 ID(메모리 주소)는 변경되지 않지만, 가변 객체의 내용은 변경될 수 있음.\n",
    "     \n",
    "## 장점.\n",
    "     # 효율적인 메모리 사용\n",
    "     # 유연성( 필요에 따라 가변/불변 객체 선택)          \n",
    "     \n",
    "     \n",
    " #---------------------------------\n",
    " \n",
    " ## call by value  vs call by reference vs call by object reference\n",
    " ## 파이썬에는 call by value나 call by reference가 직접적으로 존재하지 않음.\n",
    "   \n",
    "#Call by Value:\n",
    "\n",
    "# 함수 호출 시 인자의 값이 복사되어 전달됩니다.\n",
    "# 함수 내에서 인자를 변경해도 원본 변수에는 영향을 주지 않습니다.\n",
    "# 예: C언어에서 기본 타입을 전달할 때\n",
    "\n",
    "\n",
    "# Call by Reference:\n",
    "\n",
    "# 함수 호출 시 인자의 메모리 주소가 전달됩니다.\n",
    "# 함수 내에서 인자를 변경하면 원본 변수도 변경됩니다.\n",
    "# 예: C++에서 참조로 전달할 때\n",
    "\n",
    "\n",
    "# Call by Assignment (Python):\n",
    "\n",
    "# 객체에 대한 참조가 전달됩니다.\n",
    "# 불변 객체의 경우 Call by Value와 유사하게 동작합니다.\n",
    "# : 함수내에서 값을 변경하려고 하면 새로운 객체 생성\n",
    "\n",
    "# 가변 객체의 경우 Call by Reference와 유사하게 동작할 수 있습니다.\n",
    "# : 함수내에서 값을 변경하면 원본 객체도 변경됩니다.\n",
    "# 그러나 완전히 동일하지는 않습니다.\n",
    "\n",
    "\n"
   ]
  },
  {
   "cell_type": "code",
   "execution_count": 13,
   "metadata": {},
   "outputs": [
    {
     "name": "stdout",
     "output_type": "stream",
     "text": [
      "777\n",
      "[1000, 2, 3]\n"
     ]
    }
   ],
   "source": [
    "# call by assignment\n",
    "\n",
    "#불변객체\n",
    "# : 함수내에서 값을 변경하려고 하면 새로운 객체 생성\n",
    "def f(t) :\n",
    "    t=666\n",
    "t=777\n",
    "f(t)\n",
    "print(t)   \n",
    "\n",
    "\n",
    "\n",
    "#가변객체(list)\n",
    "#: 함수내에서 값을 변경하면 원본 객체도 변경됩니다.\n",
    "# 내부에서 리스트 자체에 접근하면(mutable하면 속 값이 변해서 밖에서도 변경)\n",
    "def f(x) :\n",
    "    x[0]= 1000\n",
    "a=[1,2,3]\n",
    "f(a)\n",
    "print(a)   "
   ]
  },
  {
   "cell_type": "code",
   "execution_count": 17,
   "metadata": {},
   "outputs": [
    {
     "name": "stdout",
     "output_type": "stream",
     "text": [
      "(32, -12)\n"
     ]
    }
   ],
   "source": [
    "#두개 값 활용.\n",
    "#파이썬에서는 포인터 개념 없이 , 두개의 값을 반환하고 싶을 때, 튜플로 묶어서 반환하면 된다.\n",
    "def add_sub(a,b):\n",
    "    c = a+b\n",
    "    d= a-b\n",
    "    return c,d\n",
    "\n",
    "\n",
    "x = add_sub(10,22) #하나로 받으면, 튜플로 묶어서 준다.\n",
    "\n",
    "print(x)"
   ]
  },
  {
   "cell_type": "code",
   "execution_count": 19,
   "metadata": {},
   "outputs": [
    {
     "name": "stdout",
     "output_type": "stream",
     "text": [
      "32\n",
      "220\n"
     ]
    }
   ],
   "source": [
    "def add(a,b):\n",
    "    return a+b\n",
    "def mul(a,b):\n",
    "    return a*b\n",
    "def show_addmul(a,b): #a=10, b=22\n",
    "    #return을 두번 쓸수 없고  ,를 통해 연결해야한다.\n",
    "    print(add(a,b))\n",
    "    print(mul(a,b))\n",
    "    \n",
    "show_addmul(10,22)    "
   ]
  },
  {
   "cell_type": "code",
   "execution_count": 20,
   "metadata": {},
   "outputs": [
    {
     "name": "stdout",
     "output_type": "stream",
     "text": [
      "(10, 20)\n",
      "10 20\n",
      "30\n",
      "200\n"
     ]
    }
   ],
   "source": [
    "#언패킹 : 튜플이나 리스트,딕셔너리의 값을 여러개의 변수에 할당하는 것.\n",
    "\n",
    "x= (10,20) #튜플로 패킹되어져 있는 상태.\n",
    "print(x)\n",
    "print(*x) # 언패킹\n",
    "\n",
    "show_addmul(*x) #언패킹 - x라는 튜플의 뜯어서 개별 변수로 활용."
   ]
  },
  {
   "cell_type": "code",
   "execution_count": 25,
   "metadata": {},
   "outputs": [
    {
     "name": "stdout",
     "output_type": "stream",
     "text": [
      "a에는(1, 2, 3, 4, 5)가 들어가있다. 타입은 <class 'tuple'>라고 한다\n"
     ]
    }
   ],
   "source": [
    "#가변위치인자 \n",
    "\n",
    "def my_function(*a): #a는 패킹되어 있다.  : *a = *args => 모든 인자를 튜프로 패킹.\n",
    "    print(f\"a에는{a}가 들어가있다. 타입은 {type(a)}라고 한다\")\n",
    "my_function(1,2,3,4,5)     # 인자들이 튜플로 패킹되어 a에 들어간다."
   ]
  },
  {
   "cell_type": "code",
   "execution_count": null,
   "metadata": {},
   "outputs": [],
   "source": [
    "#가변위치인자 *args : 임으로 많은 수의 인자를 튜플로 받습니다.\n",
    "def my_function(*args):  #args : arguments의 줄임말 = 가변 위치 인자 : 임의 개수의 인자를 튜플로 받습니다.\n",
    "    print(f\"a에는{args}가 들어가있다. 타입은 {type(args)}라고 한다\")\n",
    "my_function(1,2,3,4,5)     # 인자들이 튜플로 패킹되어 args에 들어간다."
   ]
  },
  {
   "cell_type": "code",
   "execution_count": 24,
   "metadata": {},
   "outputs": [
    {
     "name": "stdout",
     "output_type": "stream",
     "text": [
      "a에는 (1, 2, 3, 4, 5)가 들어가있다. 타입은 <class 'tuple'>라고 한다\n",
      "개별 요소:\n",
      "1\n",
      "2\n",
      "3\n",
      "4\n",
      "5\n"
     ]
    }
   ],
   "source": [
    "#튜플로 패킹된 것을 다시 개별 언패킹하고 싶으면\n",
    "def my_function(*args):\n",
    "    print(f\"a에는 {a}가 들어가있다. 타입은 {type(a)}라고 한다\")\n",
    "    print(\"개별 요소:\")\n",
    "    for item in a:\n",
    "        print(item)\n",
    "\n",
    "my_function(1,2,3,4,5)"
   ]
  },
  {
   "cell_type": "code",
   "execution_count": 26,
   "metadata": {},
   "outputs": [
    {
     "name": "stdout",
     "output_type": "stream",
     "text": [
      "이름은 혁펜이고, 나이는 20이고, 주소는 서울이다.\n",
      "이름은 혁펜이고, 나이는 한국이고, 주소는 20이다.\n",
      "이름은 혁펜이고, 나이는 20이고, 주소는 한국이다.\n"
     ]
    }
   ],
   "source": [
    "#키워드 인자 : 인자의 이름을 명시적으로 지정하여 전달하는 방식.\n",
    "def introduce (name,age, address):\n",
    "    print(f\"이름은 {name}이고, 나이는 {age}이고, 주소는 {address}이다.\")\n",
    "    \n",
    "    \n",
    " #위치인자(함수 호출 시 순서대로 전달되는 인자)와의 비교.   \n",
    "introduce(\"혁펜\", 20, \"서울\") #위치인자\n",
    "introduce(\"혁펜\",\"한국\",20)   #위치인자\n",
    "introduce(name='혁펜',address='한국',age=20) #키워드인자"
   ]
  },
  {
   "cell_type": "code",
   "execution_count": 27,
   "metadata": {},
   "outputs": [
    {
     "name": "stdout",
     "output_type": "stream",
     "text": [
      "이름은 혁펜이고, 나이는 20이고, 주소는 서울이다.\n",
      "이름은 혁펜이고, 나이는 한국이고, 주소는 20이다.\n",
      "이름은 혁펜이고, 나이는 20이고, 주소는 한국이다.\n",
      "이름은 방구석눈썹이고, 나이는 18이고, 주소는 서울이다.\n"
     ]
    }
   ],
   "source": [
    "#키워드 인자 : 인자의 이름을 명시적으로 지정하여 전달하는 방식.\n",
    "def introduce (name,age, address):\n",
    "    print(f\"이름은 {name}이고, 나이는 {age}이고, 주소는 {address}이다.\")\n",
    "    \n",
    "    \n",
    " #위치인자(함수 호출 시 순서대로 전달되는 인자)와의 비교.   \n",
    "introduce(\"혁펜\", 20, \"서울\") #위치인자\n",
    "introduce(\"혁펜\",\"한국\",20)   #위치인자\n",
    "introduce(name='혁펜',address='한국',age=20) #키워드인자\n",
    "\n",
    "\n",
    "#변수명에 직접 값을 넣어서 출력하는 경우도 있음\n",
    "name = '방구석눈썹'\n",
    "address = '서울'\n",
    "age = 18\n",
    "\n",
    "introduce(name=name, address=address, age=age) #키워드인자"
   ]
  },
  {
   "cell_type": "code",
   "execution_count": 29,
   "metadata": {},
   "outputs": [
    {
     "name": "stdout",
     "output_type": "stream",
     "text": [
      "이름은 혁펜이고, 나이는 20이고, 주소는 서울이다.\n",
      "이름은 방구석눈썹이고, 나이는 기밀이고, 주소는 기밀이다.\n"
     ]
    }
   ],
   "source": [
    "#디폴트로 출력되는 값을 만들어주기.\n",
    "\n",
    "def introduce1 (name,age, address):\n",
    "    print(f\"이름은 {name}이고, 나이는 {age}이고, 주소는 {address}이다.\")\n",
    "    \n",
    "def introduce2 (name,age=\"기밀\", address=\"기밀\"):\n",
    "    print(f\"이름은 {name}이고, 나이는 {age}이고, 주소는 {address}이다.\")    \n",
    "#단, 디폴트로 값을 정해주지 않은 반드시 값을 넣어주어야 하고\n",
    "# 디폴트로 정해진 값이 있는 변수들은 그렇지 않은 변수들의 뒤쪽으로 와야합니다.\n",
    "# 모든 변수들을 디폴트 값을 정해줄 수 있습니다.    \n",
    "    \n",
    "introduce1(name=\"혁펜\", age=20, address=\"서울\")\n",
    "introduce2(name=\"방구석눈썹\") #나머지는 기밀로 출력된다.     \n"
   ]
  },
  {
   "cell_type": "code",
   "execution_count": 33,
   "metadata": {},
   "outputs": [
    {
     "name": "stdout",
     "output_type": "stream",
     "text": [
      "name age address\n",
      "name is age years old and lives in address.\n",
      "혁펜 is 20 years old and lives in 서울.\n"
     ]
    }
   ],
   "source": [
    "#딕셔너리를 *로 언패킹을 하게 되면, 키값을 뱉어냅니다.\n",
    "\n",
    "d= {'name':'혁펜', 'age':20, 'address':'서울'}\n",
    "print(*d)\n",
    "\n",
    "def introduce4(name, age, address):\n",
    "    print(f\"{name} is {age} years old and lives in {address}.\")\n",
    "    \n",
    "introduce4(*d)   #문자열로 인식하게 된다,  introduce4(\"name\", \"age\", \"address\")  와 같은 것\n",
    "\n",
    "# 키-벨류로 언패킹을 하려면 **를 사용해야한다.\n",
    "introduce4(**d)  #introduce4(name='혁펜', age=20, address='서울') 와 같은 것\n",
    "#딕셔너리를 **로 언패킹을 하게 되면, 키값에 맞는 벨류값을 뱉어냅니다.\n",
    "    "
   ]
  },
  {
   "cell_type": "code",
   "execution_count": 35,
   "metadata": {},
   "outputs": [
    {
     "name": "stdout",
     "output_type": "stream",
     "text": [
      "이름은 혁펜입니다.\n",
      "나이는 20입니다.\n",
      "거주지는 서울입니다.\n"
     ]
    }
   ],
   "source": [
    "#가변 키워드인자 (**kwargs)\n",
    " #임의 개수의 키워드 인자를 딕셔너리로 받습니다.\n",
    "\n",
    "def introduce(**kwargs):\n",
    "    if \"name\" in kwargs:\n",
    "        print(f\"이름은 {kwargs['name']}입니다.\")\n",
    "    if \"age\" in kwargs:\n",
    "        print(f\"나이는 {kwargs['age']}입니다.\")\n",
    "    if \"address\" in kwargs:\n",
    "        print(f\"거주지는 {kwargs['address']}입니다.\")\n",
    "        \n",
    "#  if \"name\" in kwargs: 등의 조건문은 특정 키가 kwargs 딕셔너리에 있는지 확인합니다.\n",
    "# 키가 존재하면 해당 값을 출력합니다.\n",
    "# kwargs['name']와 같은 형식으로 딕셔너리의 값에 접근합니다.      \n",
    "        \n",
    "introduce(name='혁펜', age=20, address='서울')     \n",
    "\n",
    "#  이 호출에서 name, age, address는 키워드 인자로 전달됩니다.\n",
    "# 이 인자들은 함수 내부에서 kwargs 딕셔너리로 변환됩니다.  \n",
    "# **kwargs는 딕셔너리로 패킹되어 함수 내부로 전달되기 때문에, 키-밸류가 같이 명시되어  있어야 합니다.\n",
    "\n"
   ]
  },
  {
   "cell_type": "code",
   "execution_count": null,
   "metadata": {},
   "outputs": [],
   "source": [
    "#재귀함수.[자기 자신을 호출하는 함수]\n",
    "# 재귀함수는 어떤 큰 문제를 더 작은 문제로 쪼개서 해결할 때 사용합니다.\n",
    "\n",
    "#재귀 함수의 기본 구조.\n",
    "   # 1. 기저 조건(base case)을 정의합니다.\n",
    "      # : 재귀 함수가 끝나는 조건을 명시합니다.\n",
    "   # 2. 재귀 호출(recursive call)을 수행합니다.\n",
    "      # : 자기 자신을 다시 호출합니다. 문제를 더 작은 문제로 나누어서 해결합니다.   \n",
    "\n",
    "#예시: 펙토리얼 계산/ 피보나치 수열 계산.\n",
    "\n",
    "\n",
    "#파이썬에서의 재귀함수는 다른 프로그래밍 언어와 기본적으로 유사하지만 몇 가지 차이점이 있습니다.\n",
    "   # 재귀 깊이 제한: 파이썬은 재귀 호출의 깊이를 제한합니다. 1000번 이상 호출하면 RecursionError가 발생합니다.\n",
    "   #재귀 함수의 성능 문제: 재귀 함수는 반복적 계산이 많아져서 성능이 떨어질 수 있습니다.\n",
    "   # 파이썬의 스택 프레임 : 파이썬은 재귀 함수를 호출할 때마다 스택 프레임을 생성합니다. 메모리 사용량이 늘어날 수 있습니다.\n",
    "   # 꼬리 재귀 최적화: 파이썬은 꼬리 재귀 최적화[반복문처럼 최적화 하는 것]를 지원하지 않습니다.\n",
    "   \n",
    "   \n",
    "   \n",
    "\n"
   ]
  },
  {
   "cell_type": "markdown",
   "metadata": {},
   "source": []
  }
 ],
 "metadata": {
  "kernelspec": {
   "display_name": "pyenv311",
   "language": "python",
   "name": "python3"
  },
  "language_info": {
   "codemirror_mode": {
    "name": "ipython",
    "version": 3
   },
   "file_extension": ".py",
   "mimetype": "text/x-python",
   "name": "python",
   "nbconvert_exporter": "python",
   "pygments_lexer": "ipython3",
   "version": "3.11.5"
  }
 },
 "nbformat": 4,
 "nbformat_minor": 2
}
