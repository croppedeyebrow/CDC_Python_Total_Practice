{
 "cells": [
  {
   "cell_type": "markdown",
   "metadata": {},
   "source": [
    "##print 응용##"
   ]
  },
  {
   "cell_type": "code",
   "execution_count": 2,
   "metadata": {},
   "outputs": [
    {
     "name": "stdout",
     "output_type": "stream",
     "text": [
      "a = 1 b= 2 c= 취뽀\n"
     ]
    }
   ],
   "source": [
    "a=1\n",
    "b=2\n",
    "c=\"취뽀\"\n",
    "\n",
    "print(\"a =\",a, \"b=\",b, \"c=\",c)"
   ]
  },
  {
   "cell_type": "code",
   "execution_count": 3,
   "metadata": {},
   "outputs": [
    {
     "name": "stdout",
     "output_type": "stream",
     "text": [
      "a=1, b=2, c=취뽀\n"
     ]
    }
   ],
   "source": [
    "a=1\n",
    "b=2\n",
    "c=\"취뽀\"\n",
    "\n",
    "print(\"a={}, b={}, c={}\".format(a,b,c))\n",
    "\n",
    "#문자열 포매팅(string formatting)방식. = 변수들의 값을 문자열에 삽입하는 방법.\n",
    "\n",
    "# 문자열 포매팅:\n",
    "# \"a={}, b={}, c={}\": 이 부분은 포매팅될 문자열 템플릿입니다. 중괄호 {}는 값이 삽입될 위치를 나타냅니다.\n",
    "\n",
    "\n",
    "# .format() 메서드:\n",
    "\n",
    "# 이 메서드는 문자열의 중괄호 {}를 인자로 전달된 값으로 대체합니다.\n",
    "# format(a, b, c): 괄호 안의 값들이 순서대로 문자열의 중괄호를 대체합니다.\n",
    "\n",
    "\n",
    "# 작동 방식:\n",
    "\n",
    "# 첫 번째 {}는 a의 값(1)으로 대체됩니다.\n",
    "# 두 번째 {}는 b의 값(2)으로 대체됩니다.\n",
    "# 세 번째 {}는 c의 값(\"취뽀\")으로 대체됩니다."
   ]
  },
  {
   "cell_type": "code",
   "execution_count": 4,
   "metadata": {},
   "outputs": [
    {
     "name": "stdout",
     "output_type": "stream",
     "text": [
      "a=1, b=2, c=취뽀\n"
     ]
    }
   ],
   "source": [
    "a=1\n",
    "b=2\n",
    "c=\"취뽀\"\n",
    "\n",
    "print(\"a={num1}, b={num2}, c={str1}\".format(str1=c, num1=a, num2=b))\n",
    "\n",
    "# {}안에 인덱스 혹은 이름을 지정하여 자리를 정해줄 수도 있다.\n",
    "\n"
   ]
  },
  {
   "cell_type": "code",
   "execution_count": 5,
   "metadata": {},
   "outputs": [
    {
     "name": "stdout",
     "output_type": "stream",
     "text": [
      "a=1, b=2, c=취뽀\n"
     ]
    }
   ],
   "source": [
    "# 더 편하게 쓰려면 f-string을 사용하면 된다.\n",
    "# f-string은 문자열 앞에 f를 붙이면 사용할 수 있다.\n",
    "# 문자열 앞에 f 또는 F를 붙이면 문자열 내부에 중괄호 {}를 사용하여 변수를 삽입할 수 있습니다.\n",
    "\n",
    "\n",
    "# f-string의 주요 특징\n",
    "# 간결성 : 별도의 .format() 메서드 호출 없이 변수를 직접 문자열에 삽입.\n",
    "# 가독성 : 변수 이름을 직접 사용하여 변수나 표현식이 어디에 삽입될지 직관적으로 파악 가능.\n",
    "# 성능 : f-string은 문자열 포매팅 방식 중 가장 빠른 속도를 보유.\n",
    "# 표현력 : f-string은 변수나 표현식을 문자열에 삽입할 때 다양한 포맷을 지원.\n",
    "\n",
    "a=1\n",
    "b=2\n",
    "c=\"취뽀\"\n",
    "\n",
    "print(f\"a={a}, b={b}, c={c}\")"
   ]
  },
  {
   "cell_type": "markdown",
   "metadata": {},
   "source": [
    "##텍스트 파일 만들고 쓰기##"
   ]
  },
  {
   "cell_type": "code",
   "execution_count": 6,
   "metadata": {},
   "outputs": [],
   "source": [
    "import os\n",
    "folder_name = \"testfolder\"\n",
    "if not os.path.exists(folder_name):\n",
    "    os.makedirs(folder_name)"
   ]
  }
 ],
 "metadata": {
  "kernelspec": {
   "display_name": "pyenv311",
   "language": "python",
   "name": "python3"
  },
  "language_info": {
   "codemirror_mode": {
    "name": "ipython",
    "version": 3
   },
   "file_extension": ".py",
   "mimetype": "text/x-python",
   "name": "python",
   "nbconvert_exporter": "python",
   "pygments_lexer": "ipython3",
   "version": "3.11.5"
  }
 },
 "nbformat": 4,
 "nbformat_minor": 2
}
