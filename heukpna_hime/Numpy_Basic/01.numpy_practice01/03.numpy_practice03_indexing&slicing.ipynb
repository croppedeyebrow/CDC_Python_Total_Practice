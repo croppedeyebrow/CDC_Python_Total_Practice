{
 "cells": [
  {
   "cell_type": "markdown",
   "metadata": {},
   "source": [
    "## 넘파이 인덱싱 & 슬라이싱"
   ]
  },
  {
   "cell_type": "code",
   "execution_count": null,
   "metadata": {},
   "outputs": [],
   "source": [
    "# 인덱싱:\n",
    "# 단일 요소 접근: array[i] 형태로 i번째 요소에 접근합니다.\n",
    "# 다차원 배열: array[i,j] 형태로 i행 j열의 요소에 접근합니다.\n",
    "# 음수 인덱스: array[-1]은 마지막 요소를 의미합니다.\n",
    "\n",
    "\n",
    "\n",
    "# 슬라이싱:\n",
    "# 기본 형태: array[start:stop:step]\n",
    "# start: 시작 인덱스 (기본값 0)\n",
    "# stop: 끝 인덱스 (포함되지 않음)\n",
    "# step: 간격 (기본값 1)"
   ]
  },
  {
   "cell_type": "code",
   "execution_count": 1,
   "metadata": {},
   "outputs": [
    {
     "name": "stdout",
     "output_type": "stream",
     "text": [
      "1\n",
      "2\n",
      "10\n"
     ]
    }
   ],
   "source": [
    "# 인덱싱\n",
    "# 단일 요소 접근: array[i] 형태로 i번째 요소에 접근합니다.\n",
    "# 다차원 배열: array[i,j] 형태로 i행 j열의 요소에 접근합니다.\n",
    "# 음수 인덱스: array[-1]은 마지막 요소를 의미합니다.\n",
    "\n",
    "import numpy as np\n",
    "\n",
    "a = np.array([1, 2, 3, 4, 5,6,7,8,9,10])\n",
    "print(a[0])\n",
    "print(a[1])\n",
    "print(a[-1])\n",
    "\n"
   ]
  },
  {
   "cell_type": "code",
   "execution_count": 2,
   "metadata": {},
   "outputs": [
    {
     "name": "stdout",
     "output_type": "stream",
     "text": [
      "[2 3 4]\n",
      "[ 8  9 10]\n"
     ]
    }
   ],
   "source": [
    "# 슬라이싱:\n",
    "# 기본 형태: array[start:stop:step]\n",
    "# start: 시작 인덱스 (기본값 0)\n",
    "# stop: 끝 인덱스 (포함되지 않음)\n",
    "# step: 간격 (기본값 1)\n",
    "\n",
    "\n",
    "a = np.array([1, 2, 3, 4, 5,6,7,8,9,10])\n",
    "\n",
    "print(a[1:4])\n",
    "print(a[7:])"
   ]
  },
  {
   "cell_type": "code",
   "execution_count": 13,
   "metadata": {},
   "outputs": [
    {
     "name": "stdout",
     "output_type": "stream",
     "text": [
      "[1 2 3]\n",
      "[7 8 9]\n",
      "---\n",
      "[[1 2 3]\n",
      " [4 5 6]]\n",
      "[[1 2 3]\n",
      " [4 5 6]\n",
      " [7 8 9]]\n",
      "3\n",
      "3\n",
      "[4 5 6]\n",
      "[4 5 6]\n",
      "[4 6]\n",
      "[3 6 9]\n"
     ]
    }
   ],
   "source": [
    "# 행렬에 대한 인덱싱과 슬라이싱\n",
    "\n",
    "# 인덱싱:\n",
    "# 단일 요소 접근: array[i] 형태로 i번째 요소에 접근합니다.\n",
    "# 다차원 배열: array[i,j] 형태로 i행 j열의 요소에 접근합니다.\n",
    "# 음수 인덱스: array[-1]은 마지막 요소를 의미합니다.\n",
    "\n",
    "# 슬라이싱:\n",
    "# 기본 형태: array[start:stop:step]\n",
    "# start: 시작 인덱스 (기본값 0)\n",
    "# stop: 끝 인덱스 (포함되지 않음)\n",
    "# step: 간격 (기본값 1)\n",
    "\n",
    "\n",
    "\n",
    "#행렬이 만들어져 있을 때의 인덱싱과 슬라이싱 적용 [행부터 접근]\n",
    "\n",
    "A = np.array([[1, 2, 3], [4, 5, 6], [7, 8, 9]])\n",
    "#인덱싱\n",
    "print(A[0]) #0번째 행을 가져온다\n",
    "print(A[-1]) #마지막 행을 가져온다\n",
    "\n",
    "print(\"---\")\n",
    "#슬라이싱\n",
    "print(A[0:2]) #0번째 행부터 2번째 행 전까지 가져온다\n",
    "print(A[:]) #모든 행을 가져온다\n",
    "\n",
    "# 특정행, 특정열에 접근하기\n",
    "print(A[0][2])\n",
    "print(A[0,2]) #둘다 0번째 행의 2번째 열을 가져온다 넘파이에서 제공하는 기능, 이렇게 사용하는게 더 효율적이다\n",
    "\n",
    "print(A[1])\n",
    "print(A[1, :]) #1번째 행의 모든 열을 가져온다 넘파이에서 제공하는 기능, 이렇게 사용하는게 더 효율적이다\n",
    "\n",
    "print(A[1,0:3:2]) #1번째 행의 0번째 열부터 3번째 열까지 2간격으로 가져온다\n",
    "print(A[:,2]) #모든 행의 2번째 열을 가져온다"
   ]
  },
  {
   "cell_type": "code",
   "execution_count": 22,
   "metadata": {},
   "outputs": [
    {
     "name": "stdout",
     "output_type": "stream",
     "text": [
      "False\n",
      "[[False False  True False]\n",
      " [False  True False  True]]\n",
      "\n",
      "----\n",
      "[3 3 3]\n",
      "\n",
      "----\n",
      "[[  1   2 120   4]\n",
      " [  5 120   7 120]]\n",
      "\n",
      "----\n"
     ]
    },
    {
     "data": {
      "text/plain": [
       "array([[1, 2],\n",
       "       [5, 6]])"
      ]
     },
     "execution_count": 22,
     "metadata": {},
     "output_type": "execute_result"
    }
   ],
   "source": [
    "# boolean 인덱싱 \n",
    "# 넘파이의 boolean 인덱싱은 배열 각 요소에 대한 비교 여부를 True, False로 출력하는 방식입니다.\n",
    "\n",
    "a = [1,2,3,4,5,3,3] #리스트와 인티져 값을 비교할 수 없기에 false가 나온다\n",
    "print(a==3)\n",
    "\n",
    "A=np.array([[1,2,3,4],[5,3,7,3]]) #각 요소에 대해 비교를 한다\n",
    "print(A==3)\n",
    "print()\n",
    "print(\"----\")\n",
    "\n",
    "t = A[A==3] #3인 요소만 가져온다 boolean 인덱싱에서 true인 값만 가져온다, true인 성분만을 인덱싱 한 것.\n",
    "print(t)\n",
    "print()\n",
    "print(\"----\")\n",
    "A[A==3] = 120\n",
    "\n",
    "print(A)\n",
    "\n",
    "print()\n",
    "print(\"----\")\n",
    "\n",
    "A = np.array([[1,2],[3,4],[5,6],[7,8]])\n",
    "B = np.array([True, False, True, False])\n",
    "\n",
    "A[B, :] #A에서 True인 행만 가져온다"
   ]
  },
  {
   "cell_type": "code",
   "execution_count": 25,
   "metadata": {},
   "outputs": [
    {
     "name": "stdout",
     "output_type": "stream",
     "text": [
      "[[[ 0  1  2  3]\n",
      "  [ 4  5  6  7]\n",
      "  [ 8  9 10 11]]\n",
      "\n",
      " [[12 13 14 15]\n",
      "  [16 17 18 19]\n",
      "  [20 21 22 23]]]\n",
      "(2, 3, 4)\n",
      "6\n"
     ]
    }
   ],
   "source": [
    "# 3차원 행렬의 인덱싱\n",
    "\n",
    "A = np.array([[[0,1,2,3],[4,5,6,7],[8,9,10,11]],[[12,13,14,15],[16,17,18,19],[20,21,22,23]]])\n",
    "\n",
    "print(A)\n",
    "print(A.shape)\n",
    "\n",
    "print(A[0,1,2])"
   ]
  }
 ],
 "metadata": {
  "kernelspec": {
   "display_name": "pyenv311",
   "language": "python",
   "name": "python3"
  },
  "language_info": {
   "codemirror_mode": {
    "name": "ipython",
    "version": 3
   },
   "file_extension": ".py",
   "mimetype": "text/x-python",
   "name": "python",
   "nbconvert_exporter": "python",
   "pygments_lexer": "ipython3",
   "version": "3.11.5"
  }
 },
 "nbformat": 4,
 "nbformat_minor": 2
}
