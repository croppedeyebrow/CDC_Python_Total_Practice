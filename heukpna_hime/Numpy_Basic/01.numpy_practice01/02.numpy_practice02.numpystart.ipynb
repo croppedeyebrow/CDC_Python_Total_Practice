{
 "cells": [
  {
   "cell_type": "markdown",
   "metadata": {},
   "source": [
    "## Numpy 본격적으로"
   ]
  },
  {
   "cell_type": "code",
   "execution_count": 11,
   "metadata": {},
   "outputs": [
    {
     "name": "stdout",
     "output_type": "stream",
     "text": [
      "[1 2 3 4]\n",
      "<class 'numpy.ndarray'>\n",
      "int32\n",
      "4\n",
      "1\n",
      "(4,)\n",
      "float64\n"
     ]
    }
   ],
   "source": [
    "import numpy as np\n",
    "\n",
    "a=np.array([1,2,3,4]) #list가 입력으로 들어가는 함수.\n",
    "print(a)\n",
    "print(type(a))  #<class 'numpy.ndarray'> ndarray는 넘파이의 기본 자료형이다.\n",
    "print(a.dtype)  #int64 dtype은 데이터 타입을 의미한다.\n",
    "print(a.size)   #4 size는 배열의 크기를 의미한다.\n",
    "print(a.ndim) #몇차원의 배열인지 알려준다\n",
    "print(a.shape)  #(4,) shape는   배열의 형태 즉, 행렬의 모양을 알려준다.\n",
    "\n",
    "\n",
    "b=np.array([1,2,3.1,4]) #정수와 실수가 혼합되어 있으면 실수로 변환된다.\n",
    "\n",
    "print(b.dtype)  #float64\n",
    "\n"
   ]
  },
  {
   "cell_type": "code",
   "execution_count": 4,
   "metadata": {},
   "outputs": [
    {
     "name": "stdout",
     "output_type": "stream",
     "text": [
      "[[1 2 3]\n",
      " [4 5 6]\n",
      " [7 8 9]]\n",
      "(3, 3)\n",
      "2\n",
      "9\n",
      "\n",
      "----------------------\n",
      "[[[1 2]\n",
      "  [3 4]]\n",
      "\n",
      " [[5 6]\n",
      "  [7 8]]]\n",
      "(2, 2, 2)\n",
      "3\n",
      "8\n"
     ]
    }
   ],
   "source": [
    "A = np.array([[1,2,3],[4,5,6],[7,8,9]]) #2차원 배열\n",
    "print(A)\n",
    "# B = np.array([[1,2,3],[4,,6],[7,8,9]])  #이러면 오류가 발생 이유는 : 리스트와는 달리 이제는 행렬이기 때문에 각 행에 해당하는 숫자의 개수가 같아야 함\n",
    "\n",
    "print(A.shape)\n",
    "print(A.ndim) #몇차원의 배열인지 알려준다\n",
    "print(A.size) #배열의 크기를 알려준다.\n",
    "\n",
    "print()\n",
    "print(\"----------------------\")\n",
    "#3차원 배열은 어떻게 만들까?\n",
    "C = np.array([[[1,2],[3,4]],[[5,6],[7,8]]]) #3차원 배열\n",
    "print(C)\n",
    "print(C.shape)\n",
    "print(C.ndim)\n",
    "print(C.size)"
   ]
  },
  {
   "cell_type": "code",
   "execution_count": 5,
   "metadata": {},
   "outputs": [
    {
     "name": "stdout",
     "output_type": "stream",
     "text": [
      "[0. 0. 0. 0. 0.]\n",
      "[[[0 0]\n",
      "  [0 0]]\n",
      "\n",
      " [[0 0]\n",
      "  [0 0]]]\n",
      "[1. 1. 1. 1. 1.]\n",
      "[[1 1 1]\n",
      " [1 1 1]\n",
      " [1 1 1]]\n",
      "[[0. 0. 0. 0.]\n",
      " [0. 0. 0. 0.]\n",
      " [0. 0. 0. 0.]]\n",
      "tensor([[0., 0., 0., 0.],\n",
      "        [0., 0., 0., 0.],\n",
      "        [0., 0., 0., 0.]])\n",
      "[3 5 7 9]\n",
      "[0.  0.1 0.2 0.3 0.4 0.5 0.6 0.7 0.8 0.9]\n",
      "[0.         0.11111111 0.22222222 0.33333333 0.44444444 0.55555556\n",
      " 0.66666667 0.77777778 0.88888889 1.        ]\n",
      "[0.  0.1 0.2 0.3 0.4 0.5 0.6 0.7 0.8 0.9]\n"
     ]
    }
   ],
   "source": [
    "print(np.zeros(5)) #0으로 채워진 배열을 만들어준다.\n",
    "print(np.zeros_like(C)) #C와 같은 모양의 0으로 채워진 배열을 만들어준다.\n",
    "\n",
    "print(np.ones(5)) #1로 채워진 배열을 만들어준다.\n",
    "print(np.ones_like(A))\n",
    "print(np.zeros((3,4)))  #튜플로 입력을 해줘야 함 그냥 np.zeros(3,4)은 안됨.  -> 다른 라이브러리 torch에서는 가능하다.\n",
    "\n",
    "import torch\n",
    "print(torch.zeros(3,4)) #torch에서는 가능하다.\n",
    "\n",
    "\n",
    "print(np.arange(3,10,2)) #range랑 같은데 array로 만들어준다.\n",
    "print(np.arange(0,1,0.1)) #arange는 소수점 간격이 가능하다. 첫번째 인자부터 두번째 인자 미만까지\n",
    "\n",
    "\n",
    "print(np.linspace(0,1,10)) #0에서부터 1포함한 구간을 10개로균일하게 나눠준다/ 나누는 간격은 알아서 계산해준다./1포함이 디폴트.\n",
    "print(np.linspace(0,1,10,endpoint=False)) #1포함을 하지 않는다.\n"
   ]
  },
  {
   "cell_type": "code",
   "execution_count": 6,
   "metadata": {},
   "outputs": [
    {
     "name": "stdout",
     "output_type": "stream",
     "text": [
      "[5 7 9]\n"
     ]
    }
   ],
   "source": [
    "#벡터의 합\n",
    "\n",
    "a = np.array([1,2,3])\n",
    "b = np.array([4,5,6])\n",
    "\n",
    "c = a+b\n",
    "print(c)"
   ]
  },
  {
   "cell_type": "code",
   "execution_count": 15,
   "metadata": {},
   "outputs": [
    {
     "name": "stdout",
     "output_type": "stream",
     "text": [
      "[[1, 2, 3], [1, 2, 3], [4, 5, 6], [4, 5, 6]]\n",
      "\n",
      "----------------------\n",
      "[[5 7 9]\n",
      " [5 7 9]]\n",
      "[[-3 -3 -3]\n",
      " [-3 -3 -3]]\n",
      "[[ 4 10 18]\n",
      " [ 4 10 18]]\n",
      "[[0.25 0.4  0.5 ]\n",
      " [0.25 0.4  0.5 ]]\n",
      "[[16 25 36]\n",
      " [16 25 36]]\n"
     ]
    }
   ],
   "source": [
    "#단순한 리스트의 연결과 행렬의 합/차의 차이점 보기\n",
    " \n",
    "A = np.array([[1,2,3],[1,2,3]])\n",
    "B = np.array([[4,5,6],[4,5,6]])\n",
    "s = [[1,2,3],[1,2,3]] + [[4,5,6],[4,5,6]]\n",
    "print(s)\n",
    "\n",
    "print()\n",
    "print(\"----------------------\"  )\n",
    "\n",
    "C = A+B\n",
    "D = A-B\n",
    "\n",
    "print(C)\n",
    "\n",
    "print(D)\n",
    "\n",
    "print(A*B) #넘파이 행렬의 곱은 각 성분끼리 곱을 해주게 됩니다.\n",
    "print(A/B) #넘파이 행렬의 나눗셈은 각 성분끼리 나눗셈을 해주게 됩니다.\n",
    "print(B**2) #넘파이 행렬의 제곱은 각 성분을 제곱해주게 됩니다."
   ]
  },
  {
   "cell_type": "code",
   "execution_count": 23,
   "metadata": {},
   "outputs": [
    {
     "name": "stdout",
     "output_type": "stream",
     "text": [
      "[[ 4 10 18]\n",
      " [ 4 10 18]]\n",
      "\n",
      "----------------------\n",
      "[[ 8 10 12]\n",
      " [16 20 24]\n",
      " [24 30 36]]\n",
      "\n",
      "----------------------\n",
      "[[ 6 12]\n",
      " [ 6 12]]\n"
     ]
    }
   ],
   "source": [
    "A = np.array([[1,2,3],[1,2,3]]) #2x3 행렬\n",
    "B = np.array([[4,5,6],[4,5,6],]) #2x3 행렬\n",
    "C = np.array([[1,2],[1,2],[1,2]]) #3x2 행렬\n",
    "\n",
    "print(A*B)\n",
    "print()\n",
    "print(\"----------------------\"  )\n",
    "# print(A@B)  #행렬의 곱에서는 앞의 행렬의 열과 뒤의 행렬의 행이 같아야 하기에 이거는 불가 \n",
    "print(A.T@B)  # 이게 가능하려면 A를 전치해줘야 한다.\n",
    "print()\n",
    "print(\"----------------------\"  )\n",
    "print(A@C) #이게 가능하다. 2x3 3x2 = 2x2 행렬이 나온다."
   ]
  }
 ],
 "metadata": {
  "kernelspec": {
   "display_name": "pyenv311",
   "language": "python",
   "name": "python3"
  },
  "language_info": {
   "codemirror_mode": {
    "name": "ipython",
    "version": 3
   },
   "file_extension": ".py",
   "mimetype": "text/x-python",
   "name": "python",
   "nbconvert_exporter": "python",
   "pygments_lexer": "ipython3",
   "version": "3.11.5"
  }
 },
 "nbformat": 4,
 "nbformat_minor": 2
}
