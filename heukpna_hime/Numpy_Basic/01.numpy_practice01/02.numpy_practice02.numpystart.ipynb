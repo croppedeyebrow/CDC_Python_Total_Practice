{
 "cells": [
  {
   "cell_type": "markdown",
   "metadata": {},
   "source": [
    "## Numpy 본격적으로"
   ]
  },
  {
   "cell_type": "code",
   "execution_count": 3,
   "metadata": {},
   "outputs": [
    {
     "name": "stdout",
     "output_type": "stream",
     "text": [
      "[1 2 3 4]\n",
      "<class 'numpy.ndarray'>\n",
      "int32\n",
      "4\n",
      "(4,)\n",
      "float64\n"
     ]
    }
   ],
   "source": [
    "import numpy as np\n",
    "\n",
    "a=np.array([1,2,3,4]) #list가 입력으로 들어가는 함수.\n",
    "print(a)\n",
    "print(type(a))  #<class 'numpy.ndarray'> ndarray는 넘파이의 기본 자료형이다.\n",
    "print(a.dtype)  #int64 dtype은 데이터 타입을 의미한다.\n",
    "print(a.size)   #4 size는 배열의 크기를 의미한다.\n",
    "print(a.shape)  #(4,) shape는   배열의 형태 즉, 행렬의 모양을 알려준다.\n",
    "\n",
    "\n",
    "b=np.array([1,2,3.1,4]) #정수와 실수가 혼합되어 있으면 실수로 변환된다.\n",
    "\n",
    "print(b.dtype)  #float64\n",
    "\n"
   ]
  },
  {
   "cell_type": "code",
   "execution_count": 12,
   "metadata": {},
   "outputs": [
    {
     "name": "stdout",
     "output_type": "stream",
     "text": [
      "[[1 2 3]\n",
      " [4 5 6]\n",
      " [7 8 9]]\n",
      "(3, 3)\n",
      "2\n",
      "9\n",
      "\n",
      "----------------------\n",
      "[[[1 2]\n",
      "  [3 4]]\n",
      "\n",
      " [[5 6]\n",
      "  [7 8]]]\n",
      "(2, 2, 2)\n",
      "3\n",
      "8\n"
     ]
    }
   ],
   "source": [
    "A = np.array([[1,2,3],[4,5,6],[7,8,9]]) #2차원 배열\n",
    "print(A)\n",
    "# B = np.array([[1,2,3],[4,,6],[7,8,9]])  #이러면 오류가 발생 이유는 : 리스트와는 달리 이제는 행렬이기 때문에 각 행에 해당하는 숫자의 개수가 같아야 함\n",
    "\n",
    "print(A.shape)\n",
    "print(A.ndim) #몇차원의 배열인지 알려준다\n",
    "print(A.size) #배열의 크기를 알려준다.\n",
    "\n",
    "print()\n",
    "print(\"----------------------\")\n",
    "#3차원 배열은 어떻게 만들까?\n",
    "C = np.array([[[1,2],[3,4]],[[5,6],[7,8]]]) #3차원 배열\n",
    "print(C)\n",
    "print(C.shape)\n",
    "print(C.ndim)\n",
    "print(C.size)"
   ]
  },
  {
   "cell_type": "code",
   "execution_count": 26,
   "metadata": {},
   "outputs": [
    {
     "name": "stdout",
     "output_type": "stream",
     "text": [
      "[0. 0. 0. 0. 0.]\n",
      "[[[0 0]\n",
      "  [0 0]]\n",
      "\n",
      " [[0 0]\n",
      "  [0 0]]]\n",
      "[1. 1. 1. 1. 1.]\n",
      "[[1 1 1]\n",
      " [1 1 1]\n",
      " [1 1 1]]\n",
      "[[0. 0. 0. 0.]\n",
      " [0. 0. 0. 0.]\n",
      " [0. 0. 0. 0.]]\n",
      "tensor([[0., 0., 0., 0.],\n",
      "        [0., 0., 0., 0.],\n",
      "        [0., 0., 0., 0.]])\n",
      "[3 5 7 9]\n",
      "[0.  0.1 0.2 0.3 0.4 0.5 0.6 0.7 0.8 0.9]\n",
      "[0.         0.11111111 0.22222222 0.33333333 0.44444444 0.55555556\n",
      " 0.66666667 0.77777778 0.88888889 1.        ]\n"
     ]
    }
   ],
   "source": [
    "print(np.zeros(5)) #0으로 채워진 배열을 만들어준다.\n",
    "print(np.zeros_like(C)) #C와 같은 모양의 0으로 채워진 배열을 만들어준다.\n",
    "\n",
    "print(np.ones(5)) #1로 채워진 배열을 만들어준다.\n",
    "print(np.ones_like(A))\n",
    "print(np.zeros((3,4)))  #튜플로 입력을 해줘야 함 그냥 np.zeros(3,4)은 안됨.  -> 다른 라이브러리 torch에서는 가능하다.\n",
    "\n",
    "import torch\n",
    "print(torch.zeros(3,4)) #torch에서는 가능하다.\n",
    "\n",
    "\n",
    "print(np.arange(3,10,2)) #range랑 같은데 array로 만들어준다.\n",
    "print(np.arange(0,1,0.1)) #arange는 소수점 간격이 가능하다. 첫번째 인자부터 두번째 인자 미만까지\n",
    "\n",
    "\n",
    "print(np.linspace(0,1,10)) #0에서부터 1까지 구간을 10개로균일하게 나눠준다/ 나누는 간격은 알아서 계산해준다.\n"
   ]
  }
 ],
 "metadata": {
  "kernelspec": {
   "display_name": "pyenv311",
   "language": "python",
   "name": "python3"
  },
  "language_info": {
   "codemirror_mode": {
    "name": "ipython",
    "version": 3
   },
   "file_extension": ".py",
   "mimetype": "text/x-python",
   "name": "python",
   "nbconvert_exporter": "python",
   "pygments_lexer": "ipython3",
   "version": "3.11.5"
  }
 },
 "nbformat": 4,
 "nbformat_minor": 2
}
