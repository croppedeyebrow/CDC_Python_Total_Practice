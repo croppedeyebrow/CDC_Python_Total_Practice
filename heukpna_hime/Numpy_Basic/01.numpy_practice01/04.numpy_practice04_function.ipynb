{
 "cells": [
  {
   "cell_type": "markdown",
   "metadata": {},
   "source": [
    "## numpy의 여러 함수들"
   ]
  },
  {
   "cell_type": "code",
   "execution_count": 9,
   "metadata": {},
   "outputs": [
    {
     "name": "stdout",
     "output_type": "stream",
     "text": [
      "[[-2.17181032  0.03509551  0.57155311]\n",
      " [-0.57599589 -0.92630955 -0.77794833]\n",
      " [-0.58018615 -1.68890662  0.1392245 ]]\n",
      "[[0.41475815 0.54966648 0.48746868]\n",
      " [0.99755826 0.49860676 0.03324121]\n",
      " [0.23035216 0.3674196  0.05057625]]\n",
      "\n",
      "----\n",
      "[-2.17181032 -0.57599589 -0.58018615]\n",
      "[ True  True  True]\n"
     ]
    }
   ],
   "source": [
    "import numpy as np\n",
    "A = np.random.randn(3,3) # 3*3사이즈의 정규분포 양수음수 모두\n",
    "B = np.random.rand(3,3) # 3*3사이즈의 0~1사이의 값\n",
    "\n",
    "\n",
    "print(A)\n",
    "print(B)\n",
    "\n",
    "print()\n",
    "print(\"----\")\n",
    "\n",
    "print(A[:,0])  #A의 전체 행의 0번째 열\n",
    "print(A[:,0]<0) #A의 전체 행의 0번째 열이 0보다 작은지 확인"
   ]
  },
  {
   "cell_type": "code",
   "execution_count": 14,
   "metadata": {},
   "outputs": [
    {
     "name": "stdout",
     "output_type": "stream",
     "text": [
      "[[-1.58173068 -0.5081404   0.44947693 -2.46429572]\n",
      " [-1.1774745   0.03240194  0.31259734  0.04854311]\n",
      " [-1.81513936  1.25831147  0.17677805  0.34881175]]\n",
      "\n",
      "1.258311469577693\n",
      "[-1.1774745   1.25831147  0.44947693  0.34881175]\n",
      "[0.44947693 0.31259734 1.25831147]\n",
      "[[-1.1774745   1.25831147  0.44947693  0.34881175]]\n",
      "[[0.44947693]\n",
      " [0.31259734]\n",
      " [1.25831147]]\n",
      "\n",
      "-2.464295722186465\n",
      "[-1.81513936 -0.5081404   0.17677805 -2.46429572]\n",
      "[-2.46429572 -1.1774745  -1.81513936]\n",
      "\n",
      "9\n",
      "[1 2 0 2]\n"
     ]
    }
   ],
   "source": [
    "A = np.random.randn(3,4)\n",
    "\n",
    "print(A)\n",
    "print()\n",
    "print(np.max(A))\n",
    "print(np.max(A, axis=0)) #열의 최대값\n",
    "print(np.max(A, axis=1)) #행의 최대값\n",
    "print(np.max(A, axis=0, keepdims=True)) #열의 최대값을 2차원으로 유지\n",
    "print(np.max(A, axis=1, keepdims=True)) #행의 최대값을 2차원으로 유지 \n",
    "print()\n",
    "print(np.min(A))\n",
    "print(np.min(A, axis=0)) #열의 최소값\n",
    "print(np.min(A, axis=1)) #행의 최소값\n",
    "print()\n",
    "print(np.argmax(A))\n",
    "print(np.argmax(A, axis=0)) # 각각 열에서 가장 큰 애가 존재하는 인덱스\n",
    "print(np.argmax(A, axis=1)) # 각각 행에서 가장 큰 애가 존재하는 인덱스"
   ]
  },
  {
   "cell_type": "code",
   "execution_count": 22,
   "metadata": {},
   "outputs": [
    {
     "name": "stdout",
     "output_type": "stream",
     "text": [
      "[[-1.05108453]\n",
      " [-0.93575662]\n",
      " [-1.06781933]\n",
      " [ 0.86651435]\n",
      " [-0.3468768 ]\n",
      " [ 0.14431134]]\n",
      "\n",
      "[[-1.06781933]\n",
      " [-1.05108453]\n",
      " [-0.93575662]\n",
      " [-0.3468768 ]\n",
      " [ 0.14431134]\n",
      " [ 0.86651435]]\n",
      "\n",
      "[[ 0.86651435]\n",
      " [ 0.14431134]\n",
      " [-0.3468768 ]\n",
      " [-0.93575662]\n",
      " [-1.05108453]\n",
      " [-1.06781933]]\n"
     ]
    }
   ],
   "source": [
    "a = np.random.randn(6,1)\n",
    "print(a)\n",
    "\n",
    "print()\n",
    "s = a_sorted = np.sort(a, axis=0) #오름차순으로 뽑기\n",
    "print(s)\n",
    "print()\n",
    "cs = a_csorted = np.flipud(a_sorted) #내림차순으로 뽑기\n",
    "print(cs)"
   ]
  },
  {
   "cell_type": "code",
   "execution_count": 25,
   "metadata": {},
   "outputs": [
    {
     "name": "stdout",
     "output_type": "stream",
     "text": [
      "[[ 1.91232452 -0.81694693  0.36029213  1.02422025  0.61259652 -0.39144398\n",
      "   2.17932608]\n",
      " [ 1.6912682  -1.34317186 -0.18432008  3.46164601  0.52744794 -2.12432622\n",
      "   1.44178058]\n",
      " [ 1.23411563 -0.22905121 -0.47843588  0.10885581 -1.85583759 -0.86773643\n",
      "  -1.50270028]\n",
      " [ 1.13244354 -0.01308433  0.43641267  0.56040558 -1.23312041  0.97521666\n",
      "  -2.23873514]]\n",
      "\n",
      "---\n",
      "4.379441770180783\n",
      "[ 4.8803686   3.47032456 -3.59078996 -0.38046143]\n",
      "[[ 4.8803686 ]\n",
      " [ 3.47032456]\n",
      " [-3.59078996]\n",
      " [-0.38046143]]\n",
      "\n",
      "---\n",
      "0.15640863464931368\n",
      "[ 0.69719551  0.49576065 -0.51296999 -0.05435163]\n",
      "[[ 0.69719551]\n",
      " [ 0.49576065]\n",
      " [-0.51296999]\n",
      " [-0.05435163]]\n",
      "\n",
      "---\n",
      "1.3521082785346406\n"
     ]
    }
   ],
   "source": [
    "A = np.random.randn(4,7)\n",
    "print(A)  # 4행 7열의 랜덤 정규분포 행렬 A 출력\n",
    "\n",
    "print()\n",
    "print(\"---\")\n",
    "\n",
    "print(np.sum(A))  # A 행렬의 모든 원소의 합 출력\n",
    "print(np.sum(A, axis=1))  # A 행렬의 각 행의 합을 계산 (결과: 1차원 배열)\n",
    "print(np.sum(A, axis=1, keepdims=True))  # A 행렬의 각 행의 합을 계산 (결과: 4행 1열의 2차원 배열)\n",
    "\n",
    "\n",
    "# axis=1은 행을 따라 계산을 수행하라는 의미이며,\n",
    "# keepdims=True는 결과를 원래 차원과 동일하게 유지하라는 의미\n",
    "\n",
    "print()\n",
    "print(\"---\")\n",
    "\n",
    "print(np.mean(A))  # A 행렬의 모든 원소의 평균 출력\n",
    "print(np.mean(A, axis=1))  # A 행렬의 각 행의 평균을 계산 (결과: 1차원 배열)\n",
    "print(np.mean(A, axis=1, keepdims=True))  # A 행렬의 각 행의 평균을 계산 (결과: 4행 1열의 2차원 배열)\n",
    "\n",
    "print()\n",
    "print(\"---\")\n",
    "\n",
    "print(np.std(A))  # A 행렬의 모든 원소의 표준편차 출력\n",
    "\n"
   ]
  },
  {
   "cell_type": "code",
   "execution_count": 27,
   "metadata": {},
   "outputs": [
    {
     "name": "stdout",
     "output_type": "stream",
     "text": [
      "[4 3 1 3 4 1 2 3 1 3 3 1]\n",
      "(12,)\n",
      "\n",
      "---\n",
      "[[[4 3 1]\n",
      "  [3 4 1]]\n",
      "\n",
      " [[2 3 1]\n",
      "  [3 3 1]]]\n"
     ]
    }
   ],
   "source": [
    "A = np.random.randint(1, 5, size=(12,))\n",
    "print(A)  # 1부터 4까지의 정수 중 랜덤하게 12개를 선택하여 1차원 배열 A 생성 및 출력\n",
    "print(A.shape)  # A의 형태 출력 (12,)\n",
    "\n",
    "print()\n",
    "print(\"---\")\n",
    "\n",
    "B = A.reshape(2, 2, 3)  # A를 2x2x3 형태의 3차원 배열로 재구성\n",
    "print(B)  # 재구성된 3차원 배열 B 출력"
   ]
  }
 ],
 "metadata": {
  "kernelspec": {
   "display_name": "pyenv311",
   "language": "python",
   "name": "python3"
  },
  "language_info": {
   "codemirror_mode": {
    "name": "ipython",
    "version": 3
   },
   "file_extension": ".py",
   "mimetype": "text/x-python",
   "name": "python",
   "nbconvert_exporter": "python",
   "pygments_lexer": "ipython3",
   "version": "3.11.5"
  }
 },
 "nbformat": 4,
 "nbformat_minor": 2
}
