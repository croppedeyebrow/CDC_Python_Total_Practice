{
 "cells": [
  {
   "cell_type": "markdown",
   "metadata": {},
   "source": [
    "## 모듈과 패키지"
   ]
  },
  {
   "cell_type": "code",
   "execution_count": null,
   "metadata": {},
   "outputs": [],
   "source": [
    "#모듈은 변수, 함수, 클래스를 담고 있는 파일 (.py)\n",
    "#패키지는 여러 모듈을 묶은 것(폴더)\n",
    "\n",
    "#import 모듈이름\n",
    "\n",
    "#모듈이름.변수\n",
    "#모듈이름.함수()\n",
    "\n"
   ]
  },
  {
   "cell_type": "code",
   "execution_count": 3,
   "metadata": {},
   "outputs": [
    {
     "name": "stdout",
     "output_type": "stream",
     "text": [
      "3.141592653589793\n",
      "2.0\n"
     ]
    }
   ],
   "source": [
    "import math    #math 모듈을 가져옴\n",
    "print(math.pi) #math 모듈의 변수 pi 출력 파이값 출력  \n",
    "# pritn(pi) #<- 이렇게 하면 오류남\n",
    "print(math.sqrt(4)) #math 모듈의 함수 sqrt(제곱근)에 4를 넣어서 출력\n",
    "#파이썬의 방식은 이거.!"
   ]
  },
  {
   "cell_type": "code",
   "execution_count": null,
   "metadata": {},
   "outputs": [],
   "source": [
    "from math import pi , sqrt #math 모듈에서 pi, sqrt만 가져옴\n",
    "print(pi)\n",
    "print(sqrt(4)) # 여기서는 오히려 math.을 쓰면 오류남"
   ]
  },
  {
   "cell_type": "code",
   "execution_count": null,
   "metadata": {},
   "outputs": [],
   "source": [
    "#하나씩 불러오는게 귀찮으면\n",
    "from math import * #math 모듈의 모든 것을 가져옴   *이 all이란 뜻\n"
   ]
  },
  {
   "cell_type": "code",
   "execution_count": null,
   "metadata": {},
   "outputs": [],
   "source": [
    "# import 패키지\n",
    "# import 패키지.모듈\n",
    "# import 패키지.모듈1, 패키지.모듈2, 패키지.모듈3\n",
    "# import 패키지.모듈.클래스\n",
    "# import 패키지.모듈.함수\n",
    "# import 패키지.모듈.변수\n"
   ]
  },
  {
   "cell_type": "code",
   "execution_count": 4,
   "metadata": {},
   "outputs": [
    {
     "name": "stdout",
     "output_type": "stream",
     "text": [
      "[1 2 3]\n"
     ]
    },
    {
     "data": {
      "text/plain": [
       "builtin_function_or_method"
      ]
     },
     "execution_count": 4,
     "metadata": {},
     "output_type": "execute_result"
    }
   ],
   "source": [
    "import numpy as np # numpy는 라이브러리 ( 패키지와 모듈들을 모아놓은 것) (numerical python)\n",
    "\n",
    "a=np.array([1,2,3]) #numpy 모듈의 array 함수를 사용\n",
    "print(a)\n",
    "type(np.array)\n",
    "  "
   ]
  },
  {
   "cell_type": "code",
   "execution_count": 9,
   "metadata": {},
   "outputs": [
    {
     "name": "stdout",
     "output_type": "stream",
     "text": [
      "[[ 0.55254004  0.81679376 -0.75011049]\n",
      " [ 0.94168399  0.23827866  0.28095828]\n",
      " [ 0.55040215  0.2025992   0.36338956]]\n"
     ]
    }
   ],
   "source": [
    "import numpy.random \n",
    "print(numpy.random.randn(3,3)) #numpy 모듈의 random 모듈의 randn 함수를 사용 (3,3)은 3행 3열의 행렬을 만들어라는 뜻 randn은 정규분포를 따르는 난수를 생성하는 함수\n"
   ]
  },
  {
   "cell_type": "code",
   "execution_count": 11,
   "metadata": {},
   "outputs": [
    {
     "name": "stdout",
     "output_type": "stream",
     "text": [
      "[[ 1.0032798  -0.0662263   2.11943349]\n",
      " [ 0.56464584 -0.44550887 -0.01942321]\n",
      " [-0.9830618  -0.55509598 -1.73716908]]\n"
     ]
    }
   ],
   "source": [
    "import numpy.random as nr\n",
    "print(nr.randn(3,3))"
   ]
  },
  {
   "cell_type": "code",
   "execution_count": 12,
   "metadata": {},
   "outputs": [
    {
     "name": "stdout",
     "output_type": "stream",
     "text": [
      "[[0.529527   0.56974083 0.80114858]\n",
      " [0.46150983 0.09704753 0.69514945]\n",
      " [0.82485716 0.68003941 0.48954148]]\n"
     ]
    }
   ],
   "source": [
    "import numpy.random as nr\n",
    "print(nr.rand(3,3))  # rand는 0~1사이의 난수를 생성하는 함수"
   ]
  },
  {
   "cell_type": "code",
   "execution_count": 13,
   "metadata": {},
   "outputs": [
    {
     "name": "stdout",
     "output_type": "stream",
     "text": [
      "[[-0.9809718  -0.02887651 -0.13270607]\n",
      " [ 0.004241   -0.26926176  2.44446434]\n",
      " [-1.11243991 -0.541837    0.4562098 ]]\n",
      "[[0.34950711 0.54151766 0.68493339]\n",
      " [0.84806941 0.97632792 0.97412613]\n",
      " [0.31086044 0.19141202 0.43298082]]\n"
     ]
    }
   ],
   "source": [
    "from numpy.random import randn as rn, rand as r\n",
    "print(rn(3,3))\n",
    "print(r(3,3))"
   ]
  }
 ],
 "metadata": {
  "kernelspec": {
   "display_name": "pyenv311",
   "language": "python",
   "name": "python3"
  },
  "language_info": {
   "codemirror_mode": {
    "name": "ipython",
    "version": 3
   },
   "file_extension": ".py",
   "mimetype": "text/x-python",
   "name": "python",
   "nbconvert_exporter": "python",
   "pygments_lexer": "ipython3",
   "version": "3.11.5"
  }
 },
 "nbformat": 4,
 "nbformat_minor": 2
}
