{
 "cells": [
  {
   "cell_type": "markdown",
   "metadata": {},
   "source": [
    "## 파이썬의 클래스"
   ]
  },
  {
   "cell_type": "code",
   "execution_count": 2,
   "metadata": {},
   "outputs": [
    {
     "name": "stdout",
     "output_type": "stream",
     "text": [
      "너트를 조립합니다.\n"
     ]
    }
   ],
   "source": [
    "# 로봇을 만든다고 해보자 -> 로봇의 크기 등의 스펙이 있고, 조립을 하는등의 기능이 있을 수 있다.\n",
    "# 클래스는 좀 큰 변수를 만든다고 보면 된다 틀 혹은 규칙(설계도)라고 할 수 있음.... ex)  a = 1은 숫자 한개가 들어간 변수\n",
    "# a에 숫자 한 개도 넣고 리스트도 넣고 그것들을 가지고 뭔가 기능을 하는 함수를  만들 수는 없을까?\n",
    "\n",
    "#클래스-메서드-인스턴스를 만들어서 진행하는 것을 \"객체지향 프로그래밍(OOP)\"이라고 한다.\n",
    "\n",
    "class Robot:\n",
    "    def make(self):   # 메서드(method:클래스 내부의 함수)는 자기 자신을 가리키는 self를 첫번째 매개변수로 받아야 합니다.(인스턴스 자기자신)\n",
    "        print(\"너트를 조립합니다.\")\n",
    "\n",
    "scv1 = Robot() #Robot 이라는 클래스에 해당하는 instance 만들기 (실체화 과정) / 추후에는 입력도 넣을거라 () 붙여야 함.\n",
    "scv1.make() # 쩜(.)은 \"이놈이 가지고 있는\" 정도의 의미.  sc1이라는 인스턴스가 가지고 있는 make라는 메서드를 실행하라는 의미\n",
    "     "
   ]
  },
  {
   "cell_type": "code",
   "execution_count": 1,
   "metadata": {},
   "outputs": [
    {
     "name": "stdout",
     "output_type": "stream",
     "text": [
      "<class 'list'>\n"
     ]
    }
   ],
   "source": [
    "a=[1,2,3]   #리스트도 클래스의 한 종류 // a라는 인스턴스를 생성\n",
    "\n",
    "a.append(4) #a라는 인스턴스가 가지고 있는 append라는 메서드를 실행하라는 의미\n",
    "\n",
    "print(type(a))"
   ]
  },
  {
   "cell_type": "code",
   "execution_count": 3,
   "metadata": {},
   "outputs": [
    {
     "name": "stdout",
     "output_type": "stream",
     "text": [
      "__init__으로 들어옴\n"
     ]
    }
   ],
   "source": [
    "class Robot:\n",
    "    def __init__(Self):   #initialize라서 init, 인스턴스 생성 즉시 이 함수가 실행됨\n",
    "        #이 함수명은 약속된 이름입니다.(special method)\n",
    "        print(\"__init__으로 들어옴\")\n",
    "    \n",
    "\n",
    "scv2 = Robot()    \n",
    "# 따로 __init__메서드를 콜하지 않아도 인스턴스를 생성하면 자동으로 실행됨\n",
    "    "
   ]
  },
  {
   "cell_type": "code",
   "execution_count": 7,
   "metadata": {},
   "outputs": [
    {
     "name": "stdout",
     "output_type": "stream",
     "text": [
      "운행시작\n"
     ]
    }
   ],
   "source": [
    "class Robot:\n",
    "    def __init__(self):\n",
    "        # self는 만들어진 인스턴스 자기 자신을 가리킵니다.\n",
    "        # self.무엇 은 self 내부의 것(변수,함수)을 가리킴.\n",
    "        # 클래스 내부의 변수는 속성(attribute)라고 합니다.\n",
    "        # 자기 자신이 가지고 있는 변수를 만들어주고 값을 넣어줄 수 있다 (주머니 같은 개념)\n",
    "        self.sentence = \"운행시작\"\n",
    "        \n",
    "    def make(self):\n",
    "        # print(sentence)  # 에러가 발생.\n",
    "        print(self.sentence)  # 주머니에서 sentence를 꺼내서 출력하라는 의미\n",
    "        \n",
    "scv1 = Robot()\n",
    "scv1.make()             "
   ]
  },
  {
   "cell_type": "code",
   "execution_count": 11,
   "metadata": {},
   "outputs": [
    {
     "name": "stdout",
     "output_type": "stream",
     "text": [
      "운행시작\n",
      "로봇의 체고는 185입니다.\n",
      "185\n",
      "운행시작\n",
      "200\n",
      "물건 적재중\n",
      "로봇의 체고는 210입니다.\n"
     ]
    }
   ],
   "source": [
    "class Robot:\n",
    "    def __init__(self, height, sentence): # 밖에서 넘어오는 매개변수는 무조건 self 뒤에,   self는 무조건 맨앞\n",
    "            self.height = height\n",
    "            self.sentence = sentence   #밖에서 넘어온 매개변수를 self의 주머니 속에 넣기\n",
    "    def make(self):\n",
    "        print(self.sentence)\n",
    "        print(f\"로봇의 체고는 {self.height}입니다.\")\n",
    "        \n",
    "scv1 = Robot(185, \"운행시작\")  # self를 제외하고 추후에 나오는 매개변수를 순서대로\n",
    "scv1.make()       \n",
    "                \n",
    "print(scv1. height)\n",
    "print(scv1.sentence)\n",
    "\n",
    "scv1.height += 15\n",
    "print(scv1.height)\n",
    "\n",
    "scv2 = Robot(210, \"물건 적재중\") \n",
    "scv2.make()                       "
   ]
  },
  {
   "cell_type": "code",
   "execution_count": 15,
   "metadata": {},
   "outputs": [
    {
     "name": "stdout",
     "output_type": "stream",
     "text": [
      "운행시작\n",
      "로봇의 체고는 200입니다.\n"
     ]
    }
   ],
   "source": [
    "class Robot:\n",
    "    def __init__(self, height, sentence): # 밖에서 넘어오는 매개변수는 무조건 self 뒤에,   self는 무조건 맨앞\n",
    "            self.__height = height    #비공개로 만들고 싶은 속성은 앞에 __를 붙여준다.  \n",
    "            self.sentence = sentence   #밖에서 넘어온 매개변수를 self의 주머니 속에 넣기\n",
    "    def make(self):\n",
    "        print(self.sentence)\n",
    "        self.__height += 15  #비공개로 해놨어도, self 내부에서는 접근이 가능하다.\n",
    "        print(f\"로봇의 체고는 {self.__height}입니다.\")\n",
    "        \n",
    "scv1 = Robot(185, \"운행시작\")\n",
    "scv1.make()          # 비공개로 숨겼을 때 이거는 가능하지만,\n",
    "\n",
    "\n",
    "# print함수로 열람하는 것은 불가.\n",
    "# print(scv1.__height)  # 이거는 불가능   self.__height = height를 비공개로 만들었기 때문에 밖에서 접근이 안된다."
   ]
  },
  {
   "cell_type": "code",
   "execution_count": 16,
   "metadata": {},
   "outputs": [
    {
     "name": "stdout",
     "output_type": "stream",
     "text": [
      "운행을 시작합니다\n",
      "비행 일정을 시작합니다\n"
     ]
    }
   ],
   "source": [
    "# 상속 --> \"효율화\"\n",
    "\n",
    "class Robot: #부모 클래스\n",
    "    def make(self):\n",
    "        print(\"운행을 시작합니다\")\n",
    "        \n",
    "class Fly_Robot(Robot): #자식 클래스, Robot 클래스를 상속 받음 -> Robot이 가지는 함수 사용 가능!  Fly_Robot은 Robot의 하위 개념\n",
    "    def fly(self):\n",
    "        print(\"비행 일정을 시작합니다\")        \n",
    "        \n",
    "        \n",
    "play1 = Fly_Robot()\n",
    "play1.make() # Fly_RObot 클래스에는 분명 make가 없지만 상속(물려받음)을 받았기 때문에 사용 가능.!\n",
    "play1.fly()                "
   ]
  },
  {
   "cell_type": "code",
   "execution_count": 18,
   "metadata": {},
   "outputs": [
    {
     "name": "stdout",
     "output_type": "stream",
     "text": [
      "비행 일정을 시작합니다\n",
      "운행을 시작합니다\n"
     ]
    }
   ],
   "source": [
    "# 메서드 오버라이딩 (overriding) --> 부모 클래스의 메서드를 자식 클래스에서 재정의하는 것, 자식클래스에서 내용을 수정해도 부모클래스에 영향을 주지 않음\n",
    "\n",
    "class Robot: #부모 클래스\n",
    "    def make(self):\n",
    "        print(\"운행을 시작합니다\")\n",
    "        \n",
    "class Fly_Robot(Robot): #자식 클래스\n",
    "     def make(self):   # 부모의 make를 물려받았으나, 여기서 다시 정의하면 덮어써버리게된다.(부모클래스의 내용 변경 X)\n",
    "        print(\"비행 일정을 시작합니다\")   \n",
    "        \n",
    "scv1 = Fly_Robot()\n",
    "scv1.make()\n",
    "scv2 = Robot()\n",
    "scv2.make()        "
   ]
  },
  {
   "cell_type": "code",
   "execution_count": 19,
   "metadata": {},
   "outputs": [
    {
     "name": "stdout",
     "output_type": "stream",
     "text": [
      "운행을 시작합니다\n",
      "비행 일정을 시작합니다\n",
      "운행을 시작합니다\n"
     ]
    }
   ],
   "source": [
    "# 메서드 오버라이딩 (overriding) --> 부모 클래스의 메서드를 자식 클래스에서 재정의하는 것, 자식클래스에서 내용을 수정해도 부모클래스에 영향을 주지 않음\n",
    "# 부모 클래스의 원래 기능은 유지하면서, 거기에 덧붙이고 싶을 때 오버라이딩 사용 가능.\n",
    "\n",
    "class Robot: #부모 클래스\n",
    "    def make(self):\n",
    "        print(\"운행을 시작합니다\")\n",
    "        \n",
    "class Fly_Robot(Robot): #자식 클래스\n",
    "     def make(self):   # 부모의 make를 물려받았으나, 여기서 다시 정의하면 덮어써버리게된다.(부모클래스의 내용 변경 X)\n",
    "         super().make()  # 부모클래스의 메서드인 make를 그대로 사용하고 싶을 때 super()를 사용\n",
    "         print(\"비행 일정을 시작합니다\")   \n",
    "        \n",
    "scv1 = Fly_Robot()\n",
    "scv1.make()\n",
    "scv2 = Robot()\n",
    "scv2.make()   "
   ]
  },
  {
   "cell_type": "code",
   "execution_count": 22,
   "metadata": {},
   "outputs": [
    {
     "name": "stdout",
     "output_type": "stream",
     "text": [
      "자식클래스의 func2 실행\n",
      "부모클래스의 func1 실행\n",
      "100\n",
      "1000\n"
     ]
    }
   ],
   "source": [
    "class Robot:\n",
    "    def func1(self):\n",
    "        print(\"부모클래스의 func1 실행\")\n",
    "        self.money = 1000\n",
    "        \n",
    "class Fly_Robot(Robot):\n",
    "    def func2(self):\n",
    "        print(\"자식클래스의 func2 실행\")\n",
    "        self.oil = 100\n",
    "        \n",
    "fly1 = Fly_Robot()\n",
    "fly1.func2() \n",
    "fly1.func1() \n",
    "\n",
    "print(fly1.oil)  # 자식클래스의 속성\n",
    "print(fly1.money)     #상속받은 변수는 한번 실행이 되어야 상속으로 불러올 수 있음 // 부모 함수를 실행해야 부모의 속성도 가져오게 된다/."
   ]
  },
  {
   "cell_type": "code",
   "execution_count": 23,
   "metadata": {},
   "outputs": [
    {
     "name": "stdout",
     "output_type": "stream",
     "text": [
      "부모클래스의 func1 실행\n",
      "자식클래스의 func2 실행\n",
      "100\n",
      "1000\n"
     ]
    }
   ],
   "source": [
    "class Robot:\n",
    "    def __init__(self):\n",
    "        print(\"부모클래스의 func1 실행\")\n",
    "        self.money = 1000\n",
    "        \n",
    "class Fly_Robot(Robot):   #자식 클래스에 __init__이 없으면 부모클래스의 __init__을 사용 \n",
    "    def func2(self):\n",
    "        print(\"자식클래스의 func2 실행\")\n",
    "        self.oil = 100\n",
    "        \n",
    "        \n",
    "robo1 = Fly_Robot()\n",
    "robo1.func2()\n",
    "\n",
    "print(robo1.oil)\n",
    "print(robo1.money)  # 부모클래스의 속성을 물려받음        "
   ]
  },
  {
   "cell_type": "code",
   "execution_count": 29,
   "metadata": {},
   "outputs": [
    {
     "name": "stdout",
     "output_type": "stream",
     "text": [
      "로봇입니다.\n",
      "전기를 충전합니다.\n",
      "물류를 위한 로봇입니다\n",
      "물류를 위한 로봇입니다. 운행을 위해 전기를 충전합니다.\n"
     ]
    }
   ],
   "source": [
    "#복수의 부모 클래스에서 상속 받을 때\n",
    "\n",
    "class Robot:\n",
    "    def info(self):\n",
    "        self.purpose = \"로봇입니다.\"\n",
    "        print(\"로봇입니다.\")    \n",
    "class charge:\n",
    "      def electro(self):\n",
    "          self.energy = \"전기를 충전합니다.\"\n",
    "          print(\"전기를 충전합니다.\")\n",
    "        \n",
    "class Dron_Robot(Robot, charge):  #부모 클래스가 두개 이상일 때는 ,로 구분해서 넣어주기\n",
    "    def ready(self):\n",
    "        print(\"물류를 위한 로봇입니다\")\n",
    "        print(f\"물류를 위한 {self.purpose} 운행을 위해 {self.energy}\")  \n",
    "        \n",
    "dron1 = Dron_Robot()\n",
    "dron1.info()\n",
    "dron1.electro()\n",
    "dron1.ready()              "
   ]
  },
  {
   "cell_type": "code",
   "execution_count": 32,
   "metadata": {},
   "outputs": [
    {
     "name": "stdout",
     "output_type": "stream",
     "text": [
      "D생성\n",
      "B\n",
      "D생성\n",
      "C\n"
     ]
    }
   ],
   "source": [
    "# 다이아몬드꼴 상속\n",
    "\n",
    "\n",
    "class A:\n",
    "    def greeting(self):\n",
    "        print(\"A\")\n",
    "        \n",
    "        \n",
    "class B(A):\n",
    "    def greeting(self):\n",
    "        print(\"B\")        \n",
    "\n",
    "class C(A):\n",
    "    def greeting(self):\n",
    "        print(\"C\")  \n",
    "        \n",
    "class D(B,C):   # 가장 먼저(가장 왼쪽) 상속받은 클래스의 생성자가 실행됨  -> 여기서는 B\n",
    "    def __init__(self):\n",
    "        print(\"D생성\")\n",
    "        \n",
    "        \n",
    "x = D()\n",
    "x.greeting()\n",
    "\n",
    "\n",
    "class A:\n",
    "    def greeting(self):\n",
    "        print(\"A\")\n",
    "        \n",
    "        \n",
    "class B(A):\n",
    "    def greeting(self):\n",
    "        print(\"B\")        \n",
    "\n",
    "class C(A):\n",
    "    def greeting(self):\n",
    "        print(\"C\")  \n",
    "        \n",
    "class D(C,B):\n",
    "    def __init__(self):     # 가장 먼저(가장 왼쪽) 상속받은 클래스의 생성자가 실행됨 -> 여기서는 C\n",
    "        print(\"D생성\")\n",
    "        \n",
    "        \n",
    "x = D()\n",
    "x.greeting()\n",
    "                     "
   ]
  },
  {
   "cell_type": "markdown",
   "metadata": {},
   "source": [
    "## 이터레이터"
   ]
  },
  {
   "cell_type": "code",
   "execution_count": 42,
   "metadata": {},
   "outputs": [
    {
     "name": "stdout",
     "output_type": "stream",
     "text": [
      "<class 'list_iterator'>\n",
      "1\n",
      "2\n",
      "3\n"
     ]
    }
   ],
   "source": [
    "a=[1,2,3]\n",
    "a_it = iter(a)  # 이터레이터 객체 생성\n",
    "print(type(a_it))\n",
    "print(next(a_it))\n",
    "print(next(a_it))\n",
    "print(next(a_it))"
   ]
  },
  {
   "cell_type": "code",
   "execution_count": 45,
   "metadata": {},
   "outputs": [
    {
     "name": "stdout",
     "output_type": "stream",
     "text": [
      "1\n",
      "2\n",
      "3\n"
     ]
    }
   ],
   "source": [
    "for i in iter([1,2,3]):\n",
    "    print(i)"
   ]
  },
  {
   "cell_type": "code",
   "execution_count": 46,
   "metadata": {},
   "outputs": [
    {
     "name": "stdout",
     "output_type": "stream",
     "text": [
      "1\n"
     ]
    }
   ],
   "source": [
    "a = [1,2,3]\n",
    "a_it =next(iter(a))\n",
    "print(a_it)   #데이터의 나열에서 하나씩 꺼내고 싶을 때 사용"
   ]
  }
 ],
 "metadata": {
  "kernelspec": {
   "display_name": "pyenv311",
   "language": "python",
   "name": "python3"
  },
  "language_info": {
   "codemirror_mode": {
    "name": "ipython",
    "version": 3
   },
   "file_extension": ".py",
   "mimetype": "text/x-python",
   "name": "python",
   "nbconvert_exporter": "python",
   "pygments_lexer": "ipython3",
   "version": "3.11.5"
  }
 },
 "nbformat": 4,
 "nbformat_minor": 2
}
