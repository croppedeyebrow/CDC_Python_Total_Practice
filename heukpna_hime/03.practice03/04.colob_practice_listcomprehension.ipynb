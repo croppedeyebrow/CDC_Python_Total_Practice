{
 "cells": [
  {
   "cell_type": "code",
   "execution_count": 1,
   "metadata": {},
   "outputs": [],
   "source": [
    "##리스트 표현식##\n",
    "###효율적인 리스트 생성###"
   ]
  },
  {
   "cell_type": "code",
   "execution_count": 1,
   "metadata": {},
   "outputs": [
    {
     "name": "stdout",
     "output_type": "stream",
     "text": [
      "[0, 1, 2, 3, 4]\n"
     ]
    }
   ],
   "source": [
    "a = [i for i in range(5)] #range()안의 각각의 값들을 i라는 이름으로 각각 불러오고 i값으로 리스트를 생성\n",
    "print(a)\n"
   ]
  },
  {
   "cell_type": "code",
   "execution_count": 3,
   "metadata": {},
   "outputs": [
    {
     "name": "stdout",
     "output_type": "stream",
     "text": [
      "[5, 6, 7, 8, 9]\n"
     ]
    }
   ],
   "source": [
    "# 더한 값으로 리스트 생성\n",
    "a = [i+5 for i in range(5)] #range()안의 각각의 값들을 i라는 이름으로 각각 불러오고 i+5의값으로 리스트를 생성\n",
    "print(a)"
   ]
  },
  {
   "cell_type": "code",
   "execution_count": null,
   "metadata": {},
   "outputs": [],
   "source": [
    "#리스트트 쌓는 개념이기 때문에, 덧셈을 따로 하는 것은 불가능하다.\n",
    "# 리스트 표현식을 통해 리스트를 생성할 때는 리스트의 각 요소에 적용할 연산을 지정하면 된다."
   ]
  },
  {
   "cell_type": "code",
   "execution_count": 4,
   "metadata": {},
   "outputs": [
    {
     "name": "stdout",
     "output_type": "stream",
     "text": [
      "[0, 5, 10, 15, 20]\n"
     ]
    }
   ],
   "source": [
    "#곱한 값으로 리스트 생성\n",
    "a = [i*5 for i in range(5)] #range()안의 각각의 값들을 i라는 이름으로 각각 불러오고 i*5의값으로 리스트를 생성\n",
    "print(a)"
   ]
  },
  {
   "cell_type": "code",
   "execution_count": 5,
   "metadata": {},
   "outputs": [
    {
     "name": "stdout",
     "output_type": "stream",
     "text": [
      "[0, 1, 32, 243, 1024]\n"
     ]
    }
   ],
   "source": [
    "#제곱한 값으로 리스트 생성\n",
    "a = [i**5 for i in range(5)] #range()안의 각각의 값들을 i라는 이름으로 각각 불러오고 i**5의값으로 리스트를 생성\n",
    "print(a)"
   ]
  },
  {
   "cell_type": "code",
   "execution_count": 6,
   "metadata": {},
   "outputs": [
    {
     "name": "stdout",
     "output_type": "stream",
     "text": [
      "[0, -1, -2, -3, 1, 0, -1, -2, 2, 1, 0, -1, 3, 2, 1, 0]\n"
     ]
    }
   ],
   "source": [
    "a= [i-j for i in range(1,5) for j in range(1,5)] #앞에서부터 읽어라. \n",
    "print(a)"
   ]
  },
  {
   "cell_type": "code",
   "execution_count": 8,
   "metadata": {},
   "outputs": [
    {
     "name": "stdout",
     "output_type": "stream",
     "text": [
      "[0, -1, -2, -3, 1, 0, -1, -2, 2, 1, 0, -1, 3, 2, 1, 0]\n"
     ]
    }
   ],
   "source": [
    "#위의 내용을 for문으로 풀어쓰면??\n",
    "#j에 대해서 0~4까지 값이 먼저 순환하면서 계산.\n",
    "a=[]\n",
    "\n",
    "for i in range(1,5):\n",
    "    for j in range(1,5):\n",
    "         a +=[i-j]\n",
    "         \n",
    "print(a)"
   ]
  },
  {
   "cell_type": "code",
   "execution_count": 9,
   "metadata": {},
   "outputs": [
    {
     "name": "stdout",
     "output_type": "stream",
     "text": [
      "[0, 2, 4, 6, 8]\n"
     ]
    }
   ],
   "source": [
    "a = [i for i in range(10) if i%2 ==0] #range(10) 안의 각각의 값들을 i라는 이름으로 각각 불러오고\n",
    "# i 마다 조건문을 보고 True일 떄만 i 값으로 리스트를 형성.\n",
    "print(a)"
   ]
  },
  {
   "cell_type": "code",
   "execution_count": 11,
   "metadata": {},
   "outputs": [
    {
     "name": "stdout",
     "output_type": "stream",
     "text": [
      "[0, 2, 4, 6, 8]\n"
     ]
    }
   ],
   "source": [
    "#위의 내용을 for문으로 풀어쓰면??  \n",
    "\n",
    "a = []\n",
    "\n",
    "for i in range(10):\n",
    "    if i%2 ==0:\n",
    "        a += [i]\n",
    "        \n",
    "print(a)   \n",
    "  "
   ]
  },
  {
   "cell_type": "code",
   "execution_count": null,
   "metadata": {},
   "outputs": [],
   "source": []
  },
  {
   "cell_type": "code",
   "execution_count": 12,
   "metadata": {},
   "outputs": [
    {
     "name": "stdout",
     "output_type": "stream",
     "text": [
      "[0, 1, 2, 3, 4]\n"
     ]
    }
   ],
   "source": [
    "a= [i for i in range(10) if i <5]\n",
    "print(a)"
   ]
  },
  {
   "cell_type": "markdown",
   "metadata": {},
   "source": [
    "##리스트 속에 리스트"
   ]
  },
  {
   "cell_type": "code",
   "execution_count": 13,
   "metadata": {},
   "outputs": [
    {
     "name": "stdout",
     "output_type": "stream",
     "text": [
      "[[1, 2, 3], [4, 6]] len(a) =  2\n",
      "[[1, 2, 3], [4, 5, 6], [7, 8, 9]]\n"
     ]
    }
   ],
   "source": [
    "a = [[1,2,3], [4,6]]   \n",
    "# a = [\"하나\",\"둘\"] 처럼 두개의 무언가가 리스트로 적혀있는 것 \n",
    "# 즉, 리스트 안에 리스트로 [첫 번째 리스트, 두번째 리스트]로 적혀있는 것이다.\n",
    "\n",
    "print(a, \"len(a) = \", len(a))   \n",
    "#len(a)는 a라는 리스트의 길이를 구하는 것이다.\n",
    "b= [[1,2,3], [4,5,6], [7,8,9]]\n",
    "print(b)"
   ]
  },
  {
   "cell_type": "code",
   "execution_count": 14,
   "metadata": {},
   "outputs": [
    {
     "name": "stdout",
     "output_type": "stream",
     "text": [
      "[1, 2, 3]\n",
      "[4, 6]\n"
     ]
    }
   ],
   "source": [
    "#리스트 속 리스트의 인덱싱\n",
    "\n",
    "a = [[1,2,3], [4,6]]\n",
    "print(a[0]) #0번째 리스트를 출력\n",
    "print(a[1]) #1번째 리스트를 출력"
   ]
  },
  {
   "cell_type": "code",
   "execution_count": 17,
   "metadata": {},
   "outputs": [
    {
     "name": "stdout",
     "output_type": "stream",
     "text": [
      "[1, 2, 3]\n",
      "[4, 6]\n",
      "1\n",
      "1 2 3 4 6\n",
      "[[1, 2, 3], [4, 666]]\n"
     ]
    }
   ],
   "source": [
    "#리스트 속 리스트에 담긴 값을 인덱싱\n",
    "a = [[1,2,3], [4,6]]\n",
    "print(a[0])\n",
    "print(a[1])\n",
    "print(a[0][0]) #0번째 리스트의 0번째 값 출력\n",
    "print(a[0][0], a[0][1], a[0][2], a[1][0], a[1][1]) #0번째 리스트의 0,1,2번째 값 출력, 1번째 리스트의 0,1번째 값 출력\n",
    "a[1][1] = 666\n",
    "print(a)"
   ]
  },
  {
   "cell_type": "code",
   "execution_count": 22,
   "metadata": {},
   "outputs": [
    {
     "name": "stdout",
     "output_type": "stream",
     "text": [
      "[1, 2, 3]\n",
      "[4, 5, 6]\n",
      "\n",
      "1 2 3\n",
      "4 5 6\n",
      "\n",
      "1 2 3 4 5 6 1 2 3 \n",
      "4 5 6 \n"
     ]
    }
   ],
   "source": [
    "a = [[1,2,3], [4,5,6]]\n",
    "for i in a:\n",
    "    print(i)\n",
    "print() \n",
    "\n",
    "for x,y,z in a :\n",
    "    print(x,y,z)\n",
    "print()      \n",
    "\n",
    "for i in a:\n",
    "    for j in i:\n",
    "        print(j, end = ' ')\n",
    "\n",
    "\n",
    "for i in range(len(a)) :\n",
    "    for j in range(len(a[i])): #i번째 행이 가지는 열의 개수 len(a[i])\n",
    "        print(a[i][j], end = ' ')\n",
    "    print()    "
   ]
  }
 ],
 "metadata": {
  "kernelspec": {
   "display_name": "pyenv311",
   "language": "python",
   "name": "python3"
  },
  "language_info": {
   "codemirror_mode": {
    "name": "ipython",
    "version": 3
   },
   "file_extension": ".py",
   "mimetype": "text/x-python",
   "name": "python",
   "nbconvert_exporter": "python",
   "pygments_lexer": "ipython3",
   "version": "3.11.5"
  }
 },
 "nbformat": 4,
 "nbformat_minor": 2
}
