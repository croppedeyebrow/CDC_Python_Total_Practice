{
 "cells": [
  {
   "cell_type": "code",
   "execution_count": 1,
   "metadata": {},
   "outputs": [],
   "source": [
    "# pop"
   ]
  },
  {
   "cell_type": "code",
   "execution_count": 4,
   "metadata": {},
   "outputs": [
    {
     "name": "stdout",
     "output_type": "stream",
     "text": [
      "[1, 2, 3, 4, 5]\n",
      "[1, 2, 3, 4]\n",
      "[1, 2, 3]\n"
     ]
    }
   ],
   "source": [
    "# pop의 빈괄호를 쓰면, 우측 끝에 있는 인덱스부터 제거하고 반환한다.\n",
    "\n",
    "a = [1, 2, 3, 4, 5]\n",
    "print(a)\n",
    "\n",
    "a.pop()\n",
    "print(a)\n",
    "\n",
    "a.pop()\n",
    "print(a)"
   ]
  },
  {
   "cell_type": "code",
   "execution_count": 6,
   "metadata": {},
   "outputs": [
    {
     "name": "stdout",
     "output_type": "stream",
     "text": [
      "[1, 2, 3, 4, 5]\n",
      "[1, 2, 4, 5]\n"
     ]
    }
   ],
   "source": [
    "# pop의 인덱스를 지정하면, 해당 인덱스의 값을 제거하고 반환한다.\n",
    "\n",
    "a = [1, 2, 3, 4, 5]\n",
    "print(a)\n",
    "\n",
    "a.pop(2)\n",
    "print(a)\n",
    "\n"
   ]
  },
  {
   "cell_type": "code",
   "execution_count": 9,
   "metadata": {},
   "outputs": [
    {
     "name": "stdout",
     "output_type": "stream",
     "text": [
      "[1, 2, 4, 3, 5, 3]\n",
      "[1, 2, 4, 5, 3]\n"
     ]
    }
   ],
   "source": [
    "#인덱스가 아닌, 특정  값을 지정하면 삭제하고 반환하는 remove 함수가 있다.\n",
    "\n",
    "a = [1, 2, 3, 4,3, 5,3]\n",
    "a.remove(3)  #중복되어 있으면, 왼쪽부터 없앰.\n",
    "print(a)\n",
    "a.remove(3)\n",
    "print(a)"
   ]
  },
  {
   "cell_type": "code",
   "execution_count": 11,
   "metadata": {},
   "outputs": [
    {
     "data": {
      "text/plain": [
       "2"
      ]
     },
     "execution_count": 11,
     "metadata": {},
     "output_type": "execute_result"
    }
   ],
   "source": [
    "#특정 값의 인덱스를 알아내기\n",
    "\n",
    "a = [1, 2, 3, 4,3, 5,3]\n",
    "\n",
    "a.index(3)  #가장 처음에 나오는 인덱스를 반환한다."
   ]
  },
  {
   "cell_type": "code",
   "execution_count": 12,
   "metadata": {},
   "outputs": [
    {
     "data": {
      "text/plain": [
       "4"
      ]
     },
     "execution_count": 12,
     "metadata": {},
     "output_type": "execute_result"
    }
   ],
   "source": [
    "a = [1,2,3,2,2,2]\n",
    "a.count(2) # 값의 개수를 구하기"
   ]
  },
  {
   "cell_type": "code",
   "execution_count": 13,
   "metadata": {},
   "outputs": [
    {
     "name": "stdout",
     "output_type": "stream",
     "text": [
      "[5, 4, 3, 2, 1]\n"
     ]
    }
   ],
   "source": [
    "a = [1,2,3,4,5]\n",
    "a.reverse()\n",
    "print(a)"
   ]
  },
  {
   "cell_type": "code",
   "execution_count": 20,
   "metadata": {},
   "outputs": [
    {
     "name": "stdout",
     "output_type": "stream",
     "text": [
      "[1, 1, 1, 2, 5, 6, 7]\n",
      "=====================================\n",
      "[1, 5, 1, 2, 6, 1, 7]\n",
      "[1, 1, 1, 2, 5, 6, 7]\n",
      "[1, 5, 1, 2, 6, 1, 7]\n"
     ]
    }
   ],
   "source": [
    "# list.sort() 메서드는 리스트 자체를 정렬합니다. 즉, 원본 리스트를 직접 변경합니다.\n",
    "# 반환값이 None이며, 원본 리스트가 정렬됩니다.\n",
    "\n",
    "a = [1,5,1,2,6,1,7]\n",
    " \n",
    "a.sort()\n",
    "print(a)\n",
    "\n",
    "print(\"=====================================\")\n",
    "\n",
    "# sorted() 함수는 정렬된 새 리스트를 생성합니다. 원본 리스트는 변경되지 않습니다.\n",
    "a = [1,5,1,2,6,1,7]\n",
    "b = sorted(a)\n",
    "print(a)\n",
    "print(b)\n",
    "print(a)"
   ]
  },
  {
   "cell_type": "code",
   "execution_count": 21,
   "metadata": {},
   "outputs": [
    {
     "name": "stdout",
     "output_type": "stream",
     "text": [
      "[7, 6, 5, 2, 1, 1, 1]\n",
      "=====================================\n",
      "[1, 5, 1, 2, 6, 1, 7]\n",
      "[7, 6, 5, 2, 1, 1, 1]\n",
      "[1, 5, 1, 2, 6, 1, 7]\n"
     ]
    }
   ],
   "source": [
    "#내림차순으로 한다면\n",
    "\n",
    "\n",
    "a = [1,5,1,2,6,1,7]\n",
    " \n",
    "a.sort(reverse=True)\n",
    "print(a)\n",
    "\n",
    "print(\"=====================================\")\n",
    "\n",
    "# sorted() 함수는 정렬된 새 리스트를 생성합니다. 원본 리스트는 변경되지 않습니다.\n",
    "a = [1,5,1,2,6,1,7]\n",
    "b = sorted(a, reverse=True)\n",
    "print(a)\n",
    "print(b)\n",
    "print(a)"
   ]
  },
  {
   "cell_type": "code",
   "execution_count": 25,
   "metadata": {},
   "outputs": [
    {
     "name": "stdout",
     "output_type": "stream",
     "text": [
      "a : [1, 10, 3] b : [1, 10, 3]\n"
     ]
    },
    {
     "data": {
      "text/plain": [
       "True"
      ]
     },
     "execution_count": 25,
     "metadata": {},
     "output_type": "execute_result"
    }
   ],
   "source": [
    "a= [1,2,3]\n",
    "b=a\n",
    "\n",
    "b[1] = 10\n",
    "print( \"a :\", a, \"b :\", b)\n",
    "a is b"
   ]
  },
  {
   "cell_type": "code",
   "execution_count": 26,
   "metadata": {},
   "outputs": [
    {
     "name": "stdout",
     "output_type": "stream",
     "text": [
      "a : [1, 2, 3] b : [1, 10, 3]\n"
     ]
    },
    {
     "data": {
      "text/plain": [
       "False"
      ]
     },
     "execution_count": 26,
     "metadata": {},
     "output_type": "execute_result"
    }
   ],
   "source": [
    "#리스트를 복사할 때는 copy() 메서드를 사용합니다.\n",
    "#값은 같지만, 별개의 리스트로 만들기 위해서\n",
    "\n",
    "a=[1,2,3]\n",
    "b=a.copy()\n",
    "b[1] = 10\n",
    "print( \"a :\", a, \"b :\", b)\n",
    "a is b"
   ]
  },
  {
   "cell_type": "code",
   "execution_count": 29,
   "metadata": {},
   "outputs": [
    {
     "name": "stdout",
     "output_type": "stream",
     "text": [
      "1\n",
      "3\n",
      "6\n",
      "1.115\n"
     ]
    }
   ],
   "source": [
    "a = [1,2,3]\n",
    "\n",
    "\n",
    "print(min(a))\n",
    "print(max(a))\n",
    "print(sum(a))\n",
    "print(round(1.115345156,3))  #숫자, 자릿수"
   ]
  },
  {
   "cell_type": "code",
   "execution_count": null,
   "metadata": {},
   "outputs": [],
   "source": []
  }
 ],
 "metadata": {
  "kernelspec": {
   "display_name": "pyenv311",
   "language": "python",
   "name": "python3"
  },
  "language_info": {
   "codemirror_mode": {
    "name": "ipython",
    "version": 3
   },
   "file_extension": ".py",
   "mimetype": "text/x-python",
   "name": "python",
   "nbconvert_exporter": "python",
   "pygments_lexer": "ipython3",
   "version": "3.11.5"
  }
 },
 "nbformat": 4,
 "nbformat_minor": 2
}
