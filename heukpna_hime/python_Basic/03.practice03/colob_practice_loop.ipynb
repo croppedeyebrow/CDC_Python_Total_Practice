{
 "cells": [
  {
   "cell_type": "code",
   "execution_count": 1,
   "metadata": {},
   "outputs": [],
   "source": [
    "#반복문[for,while]"
   ]
  },
  {
   "cell_type": "code",
   "execution_count": 7,
   "metadata": {},
   "outputs": [
    {
     "name": "stdout",
     "output_type": "stream",
     "text": [
      "미미미누의 수능 도전횟누는 {1} 번째 입니다.\n",
      "0\n",
      "미미미누의 수능 도전횟누는 {2} 번째 입니다.\n",
      "1\n",
      "미미미누의 수능 도전횟누는 {3} 번째 입니다.\n",
      "2\n",
      "미미미누의 수능 도전횟누는 {4} 번째 입니다.\n",
      "3\n",
      "미미미누의 수능 도전횟누는 {5} 번째 입니다.\n",
      "4\n"
     ]
    }
   ],
   "source": [
    "# for 변수 in range(횟수):\n",
    "# rage(5)는 0,1,2,3,4을 담고 있는 것,  여기로부터 변수 i에 하나씩 꺼내서 반복문을 실행\n",
    "\n",
    "for i in range(5):\n",
    "    print(f\"미미미누의 수능 도전횟누는\", {i+1},\"번째 입니다.\")\n",
    "    print(i)"
   ]
  },
  {
   "cell_type": "code",
   "execution_count": 8,
   "metadata": {},
   "outputs": [
    {
     "name": "stdout",
     "output_type": "stream",
     "text": [
      "5\n",
      "7\n",
      "9\n",
      "11\n"
     ]
    }
   ],
   "source": [
    "for k in range(5,12,2):\n",
    "    print(k)"
   ]
  },
  {
   "cell_type": "code",
   "execution_count": 10,
   "metadata": {},
   "outputs": [
    {
     "name": "stdout",
     "output_type": "stream",
     "text": [
      "10\n",
      "9\n",
      "8\n",
      "7\n",
      "6\n",
      "5\n",
      "4\n",
      "3\n",
      "2\n",
      "1\n"
     ]
    }
   ],
   "source": [
    "for h in range(10,0,-1):\n",
    "    print(h)"
   ]
  },
  {
   "cell_type": "code",
   "execution_count": 11,
   "metadata": {},
   "outputs": [
    {
     "name": "stdout",
     "output_type": "stream",
     "text": [
      "9\n",
      "8\n",
      "7\n",
      "6\n",
      "5\n",
      "4\n",
      "3\n",
      "2\n",
      "1\n",
      "0\n"
     ]
    }
   ],
   "source": [
    "for i in reversed(range(10)):\n",
    "    print(i)"
   ]
  },
  {
   "cell_type": "code",
   "execution_count": 12,
   "metadata": {},
   "outputs": [
    {
     "data": {
      "text/plain": [
       "[9, 8, 7, 6, 5, 4, 3, 2, 1, 0]"
      ]
     },
     "execution_count": 12,
     "metadata": {},
     "output_type": "execute_result"
    }
   ],
   "source": [
    "list(reversed(range(10)))"
   ]
  },
  {
   "cell_type": "code",
   "execution_count": 13,
   "metadata": {},
   "outputs": [
    {
     "name": "stdout",
     "output_type": "stream",
     "text": [
      "10\n",
      "20\n",
      "30\n",
      "40\n",
      "50\n"
     ]
    }
   ],
   "source": [
    "#리스트에 담긴 값들을 반복문으로 뽑아올 수 있다.\n",
    "\n",
    "a = [10,20,30,40,50]\n",
    "for i in a:\n",
    "    print(i)"
   ]
  },
  {
   "cell_type": "code",
   "execution_count": 14,
   "metadata": {},
   "outputs": [
    {
     "name": "stdout",
     "output_type": "stream",
     "text": [
      "ak47\n",
      "ballet\n",
      "calbin\n",
      "dranonof\n",
      "elastic\n"
     ]
    }
   ],
   "source": [
    "a = [\"ak47\", \"ballet\", \"calbin\", \"dranonof\", \"elastic\"]\n",
    "\n",
    "for i in a:\n",
    "    print(i)"
   ]
  },
  {
   "cell_type": "code",
   "execution_count": 15,
   "metadata": {},
   "outputs": [
    {
     "name": "stdout",
     "output_type": "stream",
     "text": [
      "A\n",
      "K\n",
      "4\n",
      "7\n"
     ]
    }
   ],
   "source": [
    " a= \"AK47\"\n",
    "\n",
    " for i in a:\n",
    "    print(i)"
   ]
  },
  {
   "cell_type": "code",
   "execution_count": 16,
   "metadata": {},
   "outputs": [
    {
     "name": "stdout",
     "output_type": "stream",
     "text": [
      "0 0\n",
      "0 1\n",
      "0 2\n",
      "1 0\n",
      "1 1\n",
      "1 2\n",
      "2 0\n",
      "2 1\n",
      "2 2\n"
     ]
    }
   ],
   "source": [
    "for i in range(3):\n",
    "    for j in range(3):\n",
    "        print(i,j)"
   ]
  },
  {
   "cell_type": "code",
   "execution_count": 19,
   "metadata": {},
   "outputs": [
    {
     "name": "stdout",
     "output_type": "stream",
     "text": [
      "0\n",
      "1\n",
      "2\n",
      "3\n",
      "4\n",
      "5\n",
      "6\n",
      "7\n",
      "8\n",
      "9\n",
      "반복문 종료\n",
      "i = 10\n"
     ]
    }
   ],
   "source": [
    "#반복문 while\n",
    "# for문과의 차이점은 조건이 참인 동안 계속 반복한다.\n",
    "\n",
    "i = 0\n",
    "while i<10: # i가 10보다 작은 동안에 반복\n",
    "    print(i)\n",
    "    i += 1 # 증감시키지 않으면 무한루프에 빠짐\n",
    "    \n",
    "print(\"반복문 종료\")\n",
    "print(\"i =\", i)    "
   ]
  },
  {
   "cell_type": "code",
   "execution_count": 22,
   "metadata": {},
   "outputs": [
    {
     "name": "stdout",
     "output_type": "stream",
     "text": [
      "0\n",
      "1\n",
      "2\n",
      "3\n",
      "4\n",
      "5\n",
      "6\n",
      "7\n",
      "8\n",
      "9\n"
     ]
    }
   ],
   "source": [
    "# while 반복문의 무한루프를 맊는 방법, break문을 사용\n",
    "i=0\n",
    "\n",
    "while True:\n",
    "    print(i)\n",
    "    i += 1\n",
    "    if i == 10: # i가 10이 되면 반복문을 종료\n",
    "        break"
   ]
  },
  {
   "cell_type": "code",
   "execution_count": 26,
   "metadata": {},
   "outputs": [
    {
     "name": "stdout",
     "output_type": "stream",
     "text": [
      "0\n",
      "1\n",
      "2\n",
      "3\n",
      "4\n",
      "5\n",
      "6\n",
      "7\n",
      "8\n",
      "9\n",
      "10\n",
      "반복문으의 종착점 {10} 입니다.\n"
     ]
    }
   ],
   "source": [
    "for i in range(1000000):\n",
    "    print(i)\n",
    "    if i == 10:\n",
    "        break\n",
    "    \n",
    "print(f\"반복문으의 종착점\", {i}, \"입니다.\")    "
   ]
  },
  {
   "cell_type": "code",
   "execution_count": 24,
   "metadata": {},
   "outputs": [],
   "source": [
    "# break를 활용해서, 디버깅을 할 수 있다."
   ]
  },
  {
   "cell_type": "code",
   "execution_count": 27,
   "metadata": {},
   "outputs": [
    {
     "name": "stdout",
     "output_type": "stream",
     "text": [
      "1\n",
      "3\n",
      "5\n",
      "7\n",
      "9\n"
     ]
    }
   ],
   "source": [
    "#continue문은 반복문을 종료하지 않고, 다음 반복으로 넘어감\n",
    "#continue문을 만나면, 반복문의 처음으로 돌아가게 된다.\n",
    "#continue문을 만나면, 그 이후의 코드는 실행되지 않는다.\n",
    "\n",
    "for i in range(10):\n",
    "    if i % 2 == 0:\n",
    "        continue # 짝수일 때는 출력하지 않고, 다음 반복으로 넘어감, continue문을 만나면, 반복문을 다시 실행하는 것이기 때문\n",
    "    print(i)"
   ]
  },
  {
   "cell_type": "code",
   "execution_count": 29,
   "metadata": {},
   "outputs": [
    {
     "name": "stdout",
     "output_type": "stream",
     "text": [
      "1\n",
      "3\n",
      "5\n",
      "7\n",
      "9\n"
     ]
    }
   ],
   "source": [
    "i = 0\n",
    "\n",
    "while i <10:\n",
    "    i +=1\n",
    "    if i %2==0:\n",
    "        continue\n",
    "    print(i)"
   ]
  },
  {
   "cell_type": "code",
   "execution_count": 30,
   "metadata": {},
   "outputs": [
    {
     "name": "stdout",
     "output_type": "stream",
     "text": [
      "0 번쨰에 1 가 있습니다.\n",
      "1 번쨰에 2 가 있습니다.\n",
      "2 번쨰에 3 가 있습니다.\n",
      "3 번쨰에 4 가 있습니다.\n",
      "4 번쨰에 5 가 있습니다.\n"
     ]
    }
   ],
   "source": [
    "a = [1,2,3,4,5,]\n",
    "\n",
    "for i in range(len(a)):   # 항상 \"0번째\"라고 말해야 함.\n",
    "    print(i,\"번쨰에\", a[i], \"가 있습니다.\")"
   ]
  },
  {
   "cell_type": "code",
   "execution_count": null,
   "metadata": {},
   "outputs": [],
   "source": []
  },
  {
   "cell_type": "code",
   "execution_count": 31,
   "metadata": {},
   "outputs": [
    {
     "name": "stdout",
     "output_type": "stream",
     "text": [
      "0 번째에 1 가 있습니다.\n",
      "1 번째에 2 가 있습니다.\n",
      "2 번째에 3 가 있습니다.\n",
      "3 번째에 4 가 있습니다.\n",
      "4 번째에 5 가 있습니다.\n"
     ]
    }
   ],
   "source": [
    "# 위에 코드를 좀 더 파이썬스럽게 작성하면\n",
    "\n",
    "#for문과 함께 자주 쓰이는 enumerate함수\n",
    "#enumerate는 파이썬의 내장 함수로, 반복 가능한(iterable) 객체(예: 리스트, 튜플, 문자열 등)의 항목을 인덱스와 함께 반환\n",
    "# 인덱스 번호와 컬렉션의 원소를 tuple형태로 반환\n",
    "\n",
    "a = [1,2,3,4,5]\n",
    "for i , val in enumerate(a):\n",
    "    print(i, \"번째에\", val, \"가 있습니다.\")\n"
   ]
  },
  {
   "cell_type": "code",
   "execution_count": 32,
   "metadata": {},
   "outputs": [
    {
     "name": "stdout",
     "output_type": "stream",
     "text": [
      "1 번째에 1 가 있습니다.\n",
      "2 번째에 2 가 있습니다.\n",
      "3 번째에 3 가 있습니다.\n",
      "4 번째에 4 가 있습니다.\n",
      "5 번째에 5 가 있습니다.\n"
     ]
    }
   ],
   "source": [
    "#enumerate는 시작 인덱스를 지정할 수 있다.\n",
    "\n",
    "a = [1,2,3,4,5]\n",
    "for i, val in enumerate(a, start = 1):\n",
    "    print(i, \"번째에\", val, \"가 있습니다.\")"
   ]
  },
  {
   "cell_type": "code",
   "execution_count": 33,
   "metadata": {},
   "outputs": [],
   "source": [
    "#반복문 과제"
   ]
  },
  {
   "cell_type": "code",
   "execution_count": 34,
   "metadata": {},
   "outputs": [
    {
     "name": "stdout",
     "output_type": "stream",
     "text": [
      "*\n",
      "**\n",
      "***\n",
      "****\n",
      "*****\n"
     ]
    }
   ],
   "source": [
    "a = \"\"\n",
    "\n",
    "for i in range(5):\n",
    "    a += \"*\"\n",
    "    print(a)"
   ]
  },
  {
   "cell_type": "code",
   "execution_count": 35,
   "metadata": {},
   "outputs": [
    {
     "name": "stdout",
     "output_type": "stream",
     "text": [
      "*\n",
      "**\n",
      "***\n",
      "****\n",
      "*****\n"
     ]
    }
   ],
   "source": [
    "# 1. for i in range(1, 6):\n",
    "# 이 줄은 i가 1부터 5까지 반복하는 외부 반복문을 정의합니다. range(1, 6)은 1부터 시작하여 6보다 작은 숫자까지(즉, 1, 2, 3, 4, 5) 반복합니다.\n",
    "\n",
    "# 2. for j in range(i):\n",
    "# 이 줄은 j가 0부터 i-1까지 반복하는 내부 반복문을 정의합니다. range(i)는 0부터 i-1까지의 숫자를 생성합니다. 내부 반복문은 각 행에서 출력할 별표의 개수를 결정합니다.\n",
    "\n",
    "# 3. print(\"*\", end=\"\")\n",
    "# 이 줄은 별표를 출력합니다. end=\"\"는 기본 개행 문자를 빈 문자열로 대체하여 별표들이 한 줄에 이어서 출력되도록 합니다.\n",
    "\n",
    "for i in range(1,6):\n",
    "    for j in range(i):\n",
    "        print(\"*\", end=\"\")\n",
    "    print()   "
   ]
  },
  {
   "cell_type": "code",
   "execution_count": 36,
   "metadata": {},
   "outputs": [
    {
     "name": "stdout",
     "output_type": "stream",
     "text": [
      "\n",
      "*\n",
      "**\n",
      "***\n",
      "****\n",
      "*****\n"
     ]
    }
   ],
   "source": [
    "for i in range(6):\n",
    "    print(\"*\" * i)"
   ]
  },
  {
   "cell_type": "code",
   "execution_count": 37,
   "metadata": {},
   "outputs": [
    {
     "name": "stdout",
     "output_type": "stream",
     "text": [
      "*\n",
      "**\n",
      "***\n",
      "****\n",
      "*****\n"
     ]
    }
   ],
   "source": [
    " i = 1\n",
    " while i < 6:\n",
    "    print(\"*\" * i)\n",
    "    i += 1 "
   ]
  },
  {
   "cell_type": "code",
   "execution_count": 39,
   "metadata": {},
   "outputs": [
    {
     "name": "stdout",
     "output_type": "stream",
     "text": [
      "*\n",
      "**\n",
      "***\n",
      "****\n",
      "*****\n"
     ]
    }
   ],
   "source": [
    "i = \"*\"\n",
    "\n",
    "while True:\n",
    "    print(i)\n",
    "    i += \"*\"\n",
    "    if i == \"******\":\n",
    "        break\n"
   ]
  },
  {
   "cell_type": "code",
   "execution_count": null,
   "metadata": {},
   "outputs": [],
   "source": []
  }
 ],
 "metadata": {
  "kernelspec": {
   "display_name": "pyenv311",
   "language": "python",
   "name": "python3"
  },
  "language_info": {
   "codemirror_mode": {
    "name": "ipython",
    "version": 3
   },
   "file_extension": ".py",
   "mimetype": "text/x-python",
   "name": "python",
   "nbconvert_exporter": "python",
   "pygments_lexer": "ipython3",
   "version": "3.11.5"
  }
 },
 "nbformat": 4,
 "nbformat_minor": 2
}
