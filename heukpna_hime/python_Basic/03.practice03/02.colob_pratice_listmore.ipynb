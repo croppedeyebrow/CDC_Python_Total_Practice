{
 "cells": [
  {
   "cell_type": "code",
   "execution_count": 3,
   "metadata": {},
   "outputs": [
    {
     "name": "stdout",
     "output_type": "stream",
     "text": [
      "[1, 2, 3, 4] len(a)=  4\n"
     ]
    }
   ],
   "source": [
    "a = [ 1,2,3]\n",
    "\n",
    "a.append(4)\n",
    "# append는 하나의 값만 추가할 수 있다.\n",
    "\n",
    "print(a,\"len(a)= \",len(a) )\n"
   ]
  },
  {
   "cell_type": "code",
   "execution_count": 4,
   "metadata": {},
   "outputs": [
    {
     "name": "stdout",
     "output_type": "stream",
     "text": [
      "[1, 2, 3, 4, [4, 5]] len(a)=  5\n"
     ]
    }
   ],
   "source": [
    "a = [ 1,2,3]\n",
    "\n",
    "a.append(4)\n",
    "a.append([4,5])\n",
    "\n",
    "print(a,\"len(a)= \",len(a) )\n",
    "#리스트로 추가하면, 리스트 속에 리스트만 추가될뿐"
   ]
  },
  {
   "cell_type": "code",
   "execution_count": 6,
   "metadata": {},
   "outputs": [
    {
     "name": "stdout",
     "output_type": "stream",
     "text": [
      "[1, 2, 3, 4, 5] len(a)=  5\n",
      "=============\n",
      "[1, 2, 3, 4, 5] len(a)=  5\n"
     ]
    }
   ],
   "source": [
    "# 이를 해결하기 위해서는.\n",
    "# extend를 사용한다.\n",
    "a= [1,2,3]\n",
    "a.extend([4,5])\n",
    "print(a,\"len(a)= \",len(a) )\n",
    "\n",
    "print(\"=============\")\n",
    "\n",
    "#이것도 번거로우면 그냥 += 사용하면 편함.\n",
    "a = [ 1,2,3]\n",
    "a += [4,5]\n",
    "\n",
    "print(a,\"len(a)= \",len(a) )"
   ]
  },
  {
   "cell_type": "code",
   "execution_count": 7,
   "metadata": {},
   "outputs": [
    {
     "name": "stdout",
     "output_type": "stream",
     "text": [
      "[1, 111, 2, 3]\n"
     ]
    }
   ],
   "source": [
    "#특정 위치에 넣는 방법.\n",
    "# insert 활용.\n",
    "\n",
    "a = [1,2,3]\n",
    "a.insert(1,111) # 특정 인덱스, 넣을 값\n",
    "print(a)   # 지정한 인덱스 우측에 추가.\n"
   ]
  },
  {
   "cell_type": "code",
   "execution_count": 10,
   "metadata": {},
   "outputs": [
    {
     "name": "stdout",
     "output_type": "stream",
     "text": [
      "[1, [111, 222], 2, 3]\n",
      "=============\n",
      "[1, 111, 222, 3]\n",
      "[1, 111, 222, 2, 3]\n"
     ]
    }
   ],
   "source": [
    "\n",
    "a = [1,2,3]\n",
    "a.insert(1, [111,222]) # 특정 인덱스, 넣을 값\n",
    "print(a)  # 지정한 인덱스 우측에 추가.\n",
    "\n",
    "print(\"=============\")\n",
    "# 대괄호 없이 두개의 값을 insert 하는법\n",
    "\n",
    "a = [1,2,3]\n",
    "b = [111,222] \n",
    "a[1:2] = b #1부터 2미만 자리에 b를 넣어라.\n",
    "print(a)\n",
    "\n",
    "a = [1,2,3]\n",
    "b = [111,222]\n",
    "a[1:1] = b #1부터 1미만 자리에 b를 넣어라.\n",
    "print(a)"
   ]
  },
  {
   "cell_type": "code",
   "execution_count": null,
   "metadata": {},
   "outputs": [],
   "source": []
  }
 ],
 "metadata": {
  "kernelspec": {
   "display_name": "pyenv311",
   "language": "python",
   "name": "python3"
  },
  "language_info": {
   "codemirror_mode": {
    "name": "ipython",
    "version": 3
   },
   "file_extension": ".py",
   "mimetype": "text/x-python",
   "name": "python",
   "nbconvert_exporter": "python",
   "pygments_lexer": "ipython3",
   "version": "3.11.5"
  }
 },
 "nbformat": 4,
 "nbformat_minor": 2
}
