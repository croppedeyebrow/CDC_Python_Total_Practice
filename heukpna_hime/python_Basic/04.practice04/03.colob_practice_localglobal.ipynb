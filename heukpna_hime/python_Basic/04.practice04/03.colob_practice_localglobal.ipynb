{
 "cells": [
  {
   "cell_type": "markdown",
   "metadata": {},
   "source": [
    "## 로컬변수와 글로벌 변수"
   ]
  },
  {
   "cell_type": "code",
   "execution_count": 7,
   "metadata": {},
   "outputs": [
    {
     "name": "stdout",
     "output_type": "stream",
     "text": [
      "1번째 탄창이며 1번째 총알입니다.\n",
      "발사한 총알: 1\n",
      "1번째 탄창이며 2번째 총알입니다.\n",
      "발사한 총알: 2\n",
      "1번째 탄창이며 3번째 총알입니다.\n",
      "발사한 총알: 3\n",
      "1번째 탄창이며 4번째 총알입니다.\n",
      "발사한 총알: 4\n",
      "1번째 탄창이며 5번째 총알입니다.\n",
      "발사한 총알: 5\n",
      "1번째 탄창이며 6번째 총알입니다.\n",
      "발사한 총알: 6\n",
      "1번째 탄창이며 7번째 총알입니다.\n",
      "발사한 총알: 7\n",
      "1번째 탄창이며 8번째 총알입니다.\n",
      "발사한 총알: 8\n",
      "1번째 탄창이며 9번째 총알입니다.\n",
      "발사한 총알: 9\n",
      "1번째 탄창이며 10번째 총알입니다.\n",
      "발사한 총알: 10\n",
      "1번째 탄창이며 11번째 총알입니다.\n",
      "발사한 총알: 11\n",
      "1번째 탄창이며 12번째 총알입니다.\n",
      "발사한 총알: 12\n",
      "2번째 탄창이며 1번째 총알입니다.\n",
      "발사한 총알: 13\n",
      "2번째 탄창이며 2번째 총알입니다.\n",
      "발사한 총알: 14\n",
      "2번째 탄창이며 3번째 총알입니다.\n",
      "발사한 총알: 15\n",
      "2번째 탄창이며 4번째 총알입니다.\n",
      "발사한 총알: 16\n",
      "2번째 탄창이며 5번째 총알입니다.\n",
      "발사한 총알: 17\n",
      "2번째 탄창이며 6번째 총알입니다.\n",
      "발사한 총알: 18\n",
      "2번째 탄창이며 7번째 총알입니다.\n",
      "발사한 총알: 19\n",
      "2번째 탄창이며 8번째 총알입니다.\n",
      "발사한 총알: 20\n",
      "2번째 탄창이며 9번째 총알입니다.\n",
      "발사한 총알: 21\n",
      "2번째 탄창이며 10번째 총알입니다.\n",
      "발사한 총알: 22\n",
      "2번째 탄창이며 11번째 총알입니다.\n",
      "발사한 총알: 23\n",
      "2번째 탄창이며 12번째 총알입니다.\n",
      "발사한 총알: 24\n"
     ]
    },
    {
     "ename": "NameError",
     "evalue": "name 'x' is not defined",
     "output_type": "error",
     "traceback": [
      "\u001b[1;31m---------------------------------------------------------------------------\u001b[0m",
      "\u001b[1;31mNameError\u001b[0m                                 Traceback (most recent call last)",
      "\u001b[1;32mc:\\Dev\\work_python\\practice01\\heukpna_hime\\04.practice04\\03.colob_practice_localglobal.ipynb Cell 2\u001b[0m line \u001b[0;36m1\n\u001b[0;32m     <a href='vscode-notebook-cell:/c%3A/Dev/work_python/practice01/heukpna_hime/04.practice04/03.colob_practice_localglobal.ipynb#W2sZmlsZQ%3D%3D?line=9'>10</a>\u001b[0m             \u001b[39mprint\u001b[39m(\u001b[39m'\u001b[39m\u001b[39m발사한 총알:\u001b[39m\u001b[39m'\u001b[39m, fire)\n\u001b[0;32m     <a href='vscode-notebook-cell:/c%3A/Dev/work_python/practice01/heukpna_hime/04.practice04/03.colob_practice_localglobal.ipynb#W2sZmlsZQ%3D%3D?line=11'>12</a>\u001b[0m gun(\u001b[39m0\u001b[39m) \u001b[39m#함수 호출, 0은 인자값  \u001b[39;00m\n\u001b[1;32m---> <a href='vscode-notebook-cell:/c%3A/Dev/work_python/practice01/heukpna_hime/04.practice04/03.colob_practice_localglobal.ipynb#W2sZmlsZQ%3D%3D?line=12'>13</a>\u001b[0m \u001b[39mprint\u001b[39m(x)    \n",
      "\u001b[1;31mNameError\u001b[0m: name 'x' is not defined"
     ]
    }
   ],
   "source": [
    "Box =2\n",
    "BULLET = 12 #글로벌 변수\n",
    "\n",
    "def gun(fire): #fire는 매개변수, 여기서부터 실행\n",
    "    x = 0 # x는 로컬 변수\n",
    "    for i in range(Box): #글로벌 현수는 함수 안에서도 사용 가능\n",
    "        for j in range(BULLET):\n",
    "            print(f\"{i+1}번째 탄창이며 {j+1}번째 총알입니다.\")\n",
    "            fire += 1\n",
    "            print('발사한 총알:', fire)\n",
    " \n",
    "gun(0) #함수 호출, 0은 인자값  \n",
    "print(x)   #로컬 변수는 함수 밖에서 사용 불가능 "
   ]
  },
  {
   "cell_type": "code",
   "execution_count": 14,
   "metadata": {},
   "outputs": [
    {
     "name": "stdout",
     "output_type": "stream",
     "text": [
      "22\n",
      "22\n"
     ]
    }
   ],
   "source": [
    "#로컬에서도 글로벌을 선언 가능 - global\n",
    "\n",
    "def f(): \n",
    "    global s\n",
    "     # 안에서 글로벌 변수를 만들 수 있다\n",
    "    s=22\n",
    "    print(s)\n",
    "f()\n",
    "print(s) "
   ]
  },
  {
   "cell_type": "code",
   "execution_count": 16,
   "metadata": {},
   "outputs": [
    {
     "name": "stdout",
     "output_type": "stream",
     "text": [
      "22\n",
      "100\n"
     ]
    }
   ],
   "source": [
    "s=100\n",
    "def f(): \n",
    "    s=22\n",
    "    print(s)\n",
    "f() #로컬 변수가 출력됨\n",
    "print(s)  #글로벌 변수가 출력됨"
   ]
  },
  {
   "cell_type": "markdown",
   "metadata": {},
   "source": [
    "## 람다 표현식"
   ]
  },
  {
   "cell_type": "code",
   "execution_count": 17,
   "metadata": {},
   "outputs": [
    {
     "name": "stdout",
     "output_type": "stream",
     "text": [
      "20\n"
     ]
    }
   ],
   "source": [
    "def plus_ten(x):\n",
    "    return x+10\n",
    "print(plus_ten(10))"
   ]
  },
  {
   "cell_type": "code",
   "execution_count": 20,
   "metadata": {},
   "outputs": [
    {
     "data": {
      "text/plain": [
       "20"
      ]
     },
     "execution_count": 20,
     "metadata": {},
     "output_type": "execute_result"
    }
   ],
   "source": [
    "plus_ten = lambda x: x+10  #입력이 x, 출력이 x+10\n",
    "\n",
    "plus_ten(10)"
   ]
  },
  {
   "cell_type": "code",
   "execution_count": 21,
   "metadata": {},
   "outputs": [
    {
     "data": {
      "text/plain": [
       "11"
      ]
     },
     "execution_count": 21,
     "metadata": {},
     "output_type": "execute_result"
    }
   ],
   "source": [
    "(lambda x: x+10)(1) #함수를 변수에 할당하지 않고 사용 가능"
   ]
  },
  {
   "cell_type": "code",
   "execution_count": 25,
   "metadata": {},
   "outputs": [
    {
     "name": "stdout",
     "output_type": "stream",
     "text": [
      "<map object at 0x00000238834FCD30>\n",
      "[11, 12, 13]\n",
      "[11, 12, 13]\n"
     ]
    }
   ],
   "source": [
    "#함수를 매개변수로 던지기 : map\n",
    "\n",
    "def plus_ten(x):\n",
    "    return x+10\n",
    "\n",
    "case1 = map(plus_ten, [1,2,3]) #map(함수, 리스트) - 리스트의 요소를 함수에 적용\n",
    "# map이라는 녀석은 함수를 입력으로 받는 함수다.\n",
    "case2 = list(map(plus_ten, [1,2,3])) #리스트로 변환\n",
    "case3 = list(map(lambda x: x+10, [1,2,3])) #람다식으로 변환\n",
    "\n",
    "print(case1)\n",
    "print(case2)\n",
    "print(case3)"
   ]
  },
  {
   "cell_type": "code",
   "execution_count": 26,
   "metadata": {},
   "outputs": [
    {
     "name": "stdout",
     "output_type": "stream",
     "text": [
      "30\n"
     ]
    }
   ],
   "source": [
    "#람다식에 값 2개 넣기\n",
    "f = lambda x,y: x+y\n",
    "print(f(10,20))"
   ]
  },
  {
   "cell_type": "code",
   "execution_count": 27,
   "metadata": {},
   "outputs": [
    {
     "name": "stdout",
     "output_type": "stream",
     "text": [
      "[5, 7, 9]\n"
     ]
    }
   ],
   "source": [
    "f = lambda a,b : a+b\n",
    "print(list(map(f, [1,2,3], [4,5,6])))"
   ]
  },
  {
   "cell_type": "code",
   "execution_count": 28,
   "metadata": {},
   "outputs": [
    {
     "name": "stdout",
     "output_type": "stream",
     "text": [
      "31\n"
     ]
    }
   ],
   "source": [
    "\n",
    "\n",
    "def add_1(a,b):\n",
    "    c=1\n",
    "    return a+b+c\n",
    "print(add_1(10,20))\n",
    "\n",
    "#lambda식에서는 로컬변수를 선언한 것을 사용할 수 없다.\n",
    "\n",
    "# lambda a,b: c=1; a+b+c #에러  def 안에서 변수 선언해서 쓸 수 있는데 lambda는 사용 불가.\n",
    "# 또한 lambda는 두개 변수 출력도 힘들다."
   ]
  },
  {
   "cell_type": "code",
   "execution_count": 8,
   "metadata": {},
   "outputs": [
    {
     "name": "stdout",
     "output_type": "stream",
     "text": [
      "[1, 4, 3, 8, 5]\n",
      "[1, 4, 3, 8, 5]\n"
     ]
    }
   ],
   "source": [
    "def func(x):\n",
    "    if x%2==0:\n",
    "        return x*2\n",
    "    else:\n",
    "        return x\n",
    "map(func, [1,2,3,4,5]) \n",
    "print(list(map(func, [1,2,3,4,5])) )#리스트로 변환   \n",
    "\n",
    "\n",
    "#이런 조건식을 람다식으로 변경하면\n",
    "f = lambda x: x*2 if x%2==0 else x    # 람다식으로 쓰면  :를 안써도 괜찮 , 순서대로 작성해주면 됨.\n",
    "print(list(map(f, [1,2,3,4,5])) )\n",
    "\n",
    "\n",
    "#추가, 람다표현식에서 if를 사용하면 반드시! else를 사용해줘야 합니다.\n",
    "# 함수문상에서 조건을 걸면 else가 생략가능하지만, 람다식으로 만들면 else 없이는 불가."
   ]
  },
  {
   "cell_type": "code",
   "execution_count": 9,
   "metadata": {},
   "outputs": [
    {
     "name": "stdout",
     "output_type": "stream",
     "text": [
      "[2, 6, 3, 4]\n",
      "[2, 6, 3, 4]\n"
     ]
    }
   ],
   "source": [
    "def func(x):\n",
    "    if x==1:\n",
    "        return 2*x\n",
    "    elif x==2:\n",
    "        return 3*x\n",
    "    else:\n",
    "        return x\n",
    "print(list(map(func, [1,2,3,4])))\n",
    "\n",
    "f= lambda x: 2*x if x==1 else (3*x if x==2 else x)  #elif는 람다식에서는 사용 불가 else를 쓰고 if~~이런식으로 표현해줘야 함.\n",
    "\n",
    "print(list(map(f, [1,2,3,4])))    "
   ]
  }
 ],
 "metadata": {
  "kernelspec": {
   "display_name": "pyenv311",
   "language": "python",
   "name": "python3"
  },
  "language_info": {
   "codemirror_mode": {
    "name": "ipython",
    "version": 3
   },
   "file_extension": ".py",
   "mimetype": "text/x-python",
   "name": "python",
   "nbconvert_exporter": "python",
   "pygments_lexer": "ipython3",
   "version": "3.11.5"
  }
 },
 "nbformat": 4,
 "nbformat_minor": 2
}
