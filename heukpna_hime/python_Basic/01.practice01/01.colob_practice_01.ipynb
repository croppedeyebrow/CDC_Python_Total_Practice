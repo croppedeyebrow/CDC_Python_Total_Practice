{
 "cells": [
  {
   "cell_type": "code",
   "execution_count": 1,
   "metadata": {},
   "outputs": [
    {
     "name": "stdout",
     "output_type": "stream",
     "text": [
      "개덥다 진심\n"
     ]
    }
   ],
   "source": [
    "print(\"개덥다 진심\")  # ctrl+enter 치면 현재 셀 실행 \n",
    " #shit+enter 하면 실행하고 다음 셀로 넘어감\n",
    " # alt+enter 치면 현재 셀 실행 후 다음 셀 추가\n",
    " # esc하면 방향키 위아래로 셀 왔다갔다. 엔터 치면 다시 코드 작성\n",
    " # 이모드에서 a하면 위에 셀, b하면 아래에 셀 만듬\n",
    " # ctrl + m d 하면 셀 삭제 ( ctrl+m, z, 는 셀 수준 실행 취소, ctrl+shift+y 는 셀 수준 다시 실행)\n",
    " # ctrl + z, ctrl+shift+z, ctrl+c, ctrl "
   ]
  },
  {
   "cell_type": "code",
   "execution_count": 3,
   "metadata": {},
   "outputs": [
    {
     "data": {
      "text/plain": [
       "2"
      ]
     },
     "execution_count": 3,
     "metadata": {},
     "output_type": "execute_result"
    }
   ],
   "source": [
    "int(2.9) #반올림은 아님, 소수점 아래 삭제!"
   ]
  },
  {
   "cell_type": "code",
   "execution_count": 4,
   "metadata": {},
   "outputs": [
    {
     "data": {
      "text/plain": [
       "1"
      ]
     },
     "execution_count": 4,
     "metadata": {},
     "output_type": "execute_result"
    }
   ],
   "source": [
    "5%2 # 반면에 이건 나머지를 알려준다. modulo연산"
   ]
  },
  {
   "cell_type": "code",
   "execution_count": 5,
   "metadata": {},
   "outputs": [
    {
     "data": {
      "text/plain": [
       "1024"
      ]
     },
     "execution_count": 5,
     "metadata": {},
     "output_type": "execute_result"
    }
   ],
   "source": [
    "2**10 #2의 10승"
   ]
  },
  {
   "cell_type": "code",
   "execution_count": 6,
   "metadata": {},
   "outputs": [
    {
     "name": "stdout",
     "output_type": "stream",
     "text": [
      "11\n",
      "a\n",
      "1\n"
     ]
    }
   ],
   "source": [
    "a=11 #a라는 변수에 11이라는 값을 '집어넣는다(할당한다)\n",
    "print(a) #11이 할당된 변수a를 출력\n",
    "print(\"a\")\n",
    "a=1 #11을 할당했던 곳에 1을 집어넣었으니 이젠 a에 1이 들어가있다.\n",
    "print(a)"
   ]
  },
  {
   "cell_type": "code",
   "execution_count": 7,
   "metadata": {},
   "outputs": [
    {
     "name": "stdout",
     "output_type": "stream",
     "text": [
      "Hello World\n"
     ]
    }
   ],
   "source": [
    "a=\"Hello World\"   #확실히 수학에서의 등호와는 다르다!\n",
    "print(a)"
   ]
  },
  {
   "cell_type": "code",
   "execution_count": 8,
   "metadata": {},
   "outputs": [
    {
     "ename": "SyntaxError",
     "evalue": "invalid decimal literal (2904960455.py, line 5)",
     "output_type": "error",
     "traceback": [
      "\u001b[1;36m  Cell \u001b[1;32mIn[8], line 5\u001b[1;36m\u001b[0m\n\u001b[1;33m    1a = 10 # 변수 이름은 숫자로 시작할 수 없다.\u001b[0m\n\u001b[1;37m    ^\u001b[0m\n\u001b[1;31mSyntaxError\u001b[0m\u001b[1;31m:\u001b[0m invalid decimal literal\n"
     ]
    }
   ],
   "source": [
    "a1 = 11\n",
    "a2 =22\n",
    "a3 =3\n",
    "\n",
    "1a = 10 # 변수 이름은 숫자로 시작할 수 없다."
   ]
  },
  {
   "cell_type": "code",
   "execution_count": 9,
   "metadata": {},
   "outputs": [
    {
     "name": "stdout",
     "output_type": "stream",
     "text": [
      "3\n",
      "4\n"
     ]
    }
   ],
   "source": [
    "a=3\n",
    "A=4   #대소문자 구분 가능\n",
    "print(a); print(A)  #한 줄에 쓰려면 ;로 구별"
   ]
  },
  {
   "cell_type": "code",
   "execution_count": 10,
   "metadata": {},
   "outputs": [],
   "source": [
    "#함수명과 같은 예약어에 변수할당 가능하지만, 실행금지\n",
    "#만약 했다면, 런타임 다시 실행.\n",
    "\n",
    "#함수명과 같은 예약어에 변수할당 가능하지만, 실행금지\n",
    "\n",
    "#변수명에 계산식같은거 넣는 것도 불가\n",
    "a**b =1 \n",
    "a-b =1\n",
    "a+b =1 "
   ]
  },
  {
   "cell_type": "code",
   "execution_count": 11,
   "metadata": {},
   "outputs": [
    {
     "name": "stdout",
     "output_type": "stream",
     "text": [
      "3\n"
     ]
    }
   ],
   "source": [
    "\n",
    "a=1; b=2\n",
    "c=a+b\n",
    "\n",
    "print(c)"
   ]
  },
  {
   "cell_type": "code",
   "execution_count": 15,
   "metadata": {},
   "outputs": [
    {
     "name": "stdout",
     "output_type": "stream",
     "text": [
      "27\n"
     ]
    }
   ],
   "source": [
    "#변수에 담긴 값 update, 재할당\n",
    "# 1이 었던 a가 6을 할당받는 update\n",
    "a= a+5\n",
    "print(a)"
   ]
  },
  {
   "cell_type": "code",
   "execution_count": 16,
   "metadata": {},
   "outputs": [
    {
     "name": "stdout",
     "output_type": "stream",
     "text": [
      "32\n"
     ]
    }
   ],
   "source": [
    "a +=5   #a=a+5와 동일\n",
    "\n",
    "print(a)"
   ]
  },
  {
   "cell_type": "code",
   "execution_count": 17,
   "metadata": {},
   "outputs": [
    {
     "name": "stdout",
     "output_type": "stream",
     "text": [
      "64\n"
     ]
    }
   ],
   "source": [
    "a *= 2 # a= a*2\n",
    "print(a)"
   ]
  },
  {
   "cell_type": "code",
   "execution_count": 18,
   "metadata": {},
   "outputs": [
    {
     "name": "stdout",
     "output_type": "stream",
     "text": [
      "32.0\n"
     ]
    }
   ],
   "source": [
    "a /=2 # a= a/2\n",
    "print(a)"
   ]
  }
 ],
 "metadata": {
  "kernelspec": {
   "display_name": "pyenv311",
   "language": "python",
   "name": "python3"
  },
  "language_info": {
   "codemirror_mode": {
    "name": "ipython",
    "version": 3
   },
   "file_extension": ".py",
   "mimetype": "text/x-python",
   "name": "python",
   "nbconvert_exporter": "python",
   "pygments_lexer": "ipython3",
   "version": "3.11.5"
  }
 },
 "nbformat": 4,
 "nbformat_minor": 2
}
