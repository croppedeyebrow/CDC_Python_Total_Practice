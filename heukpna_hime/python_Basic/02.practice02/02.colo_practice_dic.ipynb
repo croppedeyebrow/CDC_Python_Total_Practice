{
 "cells": [
  {
   "cell_type": "code",
   "execution_count": 1,
   "metadata": {},
   "outputs": [],
   "source": [
    "#딕셔너리  "
   ]
  },
  {
   "cell_type": "code",
   "execution_count": 2,
   "metadata": {},
   "outputs": [
    {
     "name": "stdout",
     "output_type": "stream",
     "text": [
      "{'A': 1, 'B': 2, 100: '5', 200: 'GG'}\n",
      "1 2 5 GG\n",
      "4\n",
      "dict_keys(['A', 'B', 100, 200])\n",
      "dict_values([1, 2, '5', 'GG'])\n",
      "dict_items([('A', 1), ('B', 2), (100, '5'), (200, 'GG')])\n"
     ]
    }
   ],
   "source": [
    "DIC1 = {\"A\": 1, \"B\":2, 100:\"5\", 200:\"GG\"}   #딕셔너리는 중괄호 #콜론(:)이 들어간다 \n",
    "# 키:값이고 숫자 문자 뭐든 키 혹은 값이 될 수 있다.\n",
    "# 키에는 수정할 수 없는 튜플은 가능하고, 리스트는 안된다\n",
    "# 값에는 튜플도 가능하고, 리스트도 가능하다\n",
    "print(DIC1)\n",
    "\n",
    "#딕셔너리의 인덱싱 : 키값으로 벨류 찾기.\n",
    "print(DIC1[\"A\"], DIC1[\"B\"], DIC1[100], DIC1[200])\n",
    "# 벨류값으로는 키값을 찾을 수 없다.\n",
    "\n",
    "\n",
    "# 딕셔너리의 len은 키값의 개수를 세거나, 쌍의 개수를 센다.\n",
    "print(len(DIC1))\n",
    "\n",
    "# 키값만 뽑기\n",
    "print(DIC1.keys())\n",
    "\n",
    "# 벨류값만 뽑기\n",
    "print(DIC1.values())\n",
    "\n",
    "#쌍으로 뽑기\n",
    "print(DIC1.items())"
   ]
  },
  {
   "cell_type": "code",
   "execution_count": 3,
   "metadata": {},
   "outputs": [
    {
     "name": "stdout",
     "output_type": "stream",
     "text": [
      "{'A': 1, 'B': 2, 'C': 3}\n",
      "[('A', 1), ('B', 2), ('C', 3)]\n"
     ]
    }
   ],
   "source": [
    "#딕셔너리로 형변환 dict\n",
    "\n",
    "#키-벨류 한번에 표기하는 zip [키 묶음 ], [벨류 묶음]\n",
    "\n",
    "\n",
    "b = list(zip([\"A\",\"B\",\"C\"],[1,2,3])) #list로 바꿔보면 이해하기 용이./ \n",
    "#결과를 보면 튜플상태로 묶여있음.\n",
    "a=dict(zip([\"A\",\"B\",\"C\"],[1,2,3]))\n",
    "\n",
    "print(a)\n",
    "print(b)\n"
   ]
  },
  {
   "cell_type": "code",
   "execution_count": 4,
   "metadata": {},
   "outputs": [
    {
     "name": "stdout",
     "output_type": "stream",
     "text": [
      "{'A': 1, 'B': 2, 'C': 3, 'D': 4}\n",
      "{'A': 5, 'B': 600, 'C': 72, 'D': 8}\n"
     ]
    }
   ],
   "source": [
    "#딕셔너리 벨류 값 재할당\n",
    "# 벨류값은 재할당이 가능하다.\n",
    "\n",
    "dic1 = {\"A\":1, \"B\":2, \"C\":3, \"D\":4}\n",
    "\n",
    "print(dic1)\n",
    "\n",
    "dic1[\"A\"] = 5; dic1[\"B\"] = 600; dic1[\"C\"] = 72; dic1[\"D\"] = 8\n",
    "\n",
    "print(dic1)"
   ]
  },
  {
   "cell_type": "code",
   "execution_count": 5,
   "metadata": {},
   "outputs": [
    {
     "name": "stdout",
     "output_type": "stream",
     "text": [
      "{'A': 1, 'B': 2, 'C': 3, 'D': 4}\n",
      "{'A': 5, 'B': 600, 'C': 72, 'D': 8}\n",
      "{'A': 5, 'B': 600, 'C': 72, 'D': 8, 'E': 1000}\n"
     ]
    }
   ],
   "source": [
    "#키값을 변경하는 것은 불가능하다. 키값은 수정할 수 없는 값이기 때문이다.\n",
    "#다만, 키값을 삭제하고 다시 추가하는 것은 가능하다. 맨 뒤쪽으로 추가된다. pop을 이용해서 삭제하고 추가하는 방법도 있다.\n",
    "#또한, 키값은 중복이 불가능하다. 중복이 되면 마지막 값으로 덮어씌워진다.\n",
    "#키값을 추가할 때는 딕셔너리명[\"키값\"] = 값 으로 추가한다.\n",
    "\n",
    "dic1 = {\"A\":1, \"B\":2, \"C\":3, \"D\":4}\n",
    "\n",
    "print(dic1)\n",
    "\n",
    "dic1[\"A\"] = 5; dic1[\"B\"] = 600; dic1[\"C\"] = 72; dic1[\"D\"] = 8\n",
    "\n",
    "print(dic1)\n",
    "\n",
    "dic1[\"E\"] = 1000\n",
    "\n",
    "print(dic1)"
   ]
  },
  {
   "cell_type": "code",
   "execution_count": 6,
   "metadata": {},
   "outputs": [
    {
     "name": "stdout",
     "output_type": "stream",
     "text": [
      "{'A': 1, 'B': 2, 'C': 3, 'D': 4}\n",
      "{'A': 5, 'B': 600, 'C': 72, 'D': 8}\n",
      "{'A': 5, 'B': 600, 'C': 72, 'D': 8, 'E': 1000}\n",
      "True\n",
      "False\n"
     ]
    }
   ],
   "source": [
    "\n",
    "\n",
    "dic1 = {\"A\":1, \"B\":2, \"C\":3, \"D\":4}\n",
    "print(dic1)\n",
    "\n",
    "dic1[\"A\"] = 5; dic1[\"B\"] = 600; dic1[\"C\"] = 72; dic1[\"D\"] = 8\n",
    "print(dic1)\n",
    "\n",
    "dic1[\"E\"] = 1000\n",
    "print(dic1)\n",
    "#딕셔너리 내에 존재 확인, in // 딕셔너리는 키가 중심/\n",
    "print(\"A\" in dic1)  #A라는 키가 있는가?\n",
    "print(\"F\" in dic1)  #F라는 키가 있는가?\n"
   ]
  },
  {
   "cell_type": "markdown",
   "metadata": {},
   "source": []
  }
 ],
 "metadata": {
  "kernelspec": {
   "display_name": "pyenv311",
   "language": "python",
   "name": "python3"
  },
  "language_info": {
   "codemirror_mode": {
    "name": "ipython",
    "version": 3
   },
   "file_extension": ".py",
   "mimetype": "text/x-python",
   "name": "python",
   "nbconvert_exporter": "python",
   "pygments_lexer": "ipython3",
   "version": "3.11.5"
  }
 },
 "nbformat": 4,
 "nbformat_minor": 2
}
