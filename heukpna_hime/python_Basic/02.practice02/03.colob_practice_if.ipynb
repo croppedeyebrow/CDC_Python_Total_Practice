{
 "cells": [
  {
   "cell_type": "code",
   "execution_count": 1,
   "metadata": {},
   "outputs": [],
   "source": [
    "#조건문 (if, elif, else)\n",
    "\n",
    "# : 을 사용하여 코드블럭을 구분한다.\n",
    "# 들여쓰기로 코드블럭을 구분한다."
   ]
  },
  {
   "cell_type": "code",
   "execution_count": 2,
   "metadata": {},
   "outputs": [
    {
     "name": "stdout",
     "output_type": "stream",
     "text": [
      "True\n",
      "False\n",
      "False\n"
     ]
    }
   ],
   "source": [
    "a=5\n",
    "\n",
    "print(a>3)\n",
    "print(a<3)\n",
    "print(a==3)"
   ]
  },
  {
   "cell_type": "code",
   "execution_count": 1,
   "metadata": {},
   "outputs": [
    {
     "name": "stdout",
     "output_type": "stream",
     "text": [
      "True\n",
      "False\n",
      "False\n",
      "3보다 크다\n",
      "5와 같습니다\n",
      "if문 밖으로 빠져나옴, 여기서 부터 계속 실행\n"
     ]
    }
   ],
   "source": [
    "a=5\n",
    "\n",
    "print(a>3)\n",
    "print(a<3)\n",
    "print(a==3)\n",
    "\n",
    "#조건문으로 만들면\n",
    "\n",
    "if a>3:\n",
    "    print(\"3보다 크다\")\n",
    "# : 을 사용하여 코드블럭을 구분한다.\n",
    "# 들여쓰기로 조건 이후에 코드블럭을 구분한다.\n",
    "# 조건이 맞으면 들여쓰기 된 코드블럭들이 실행된다.   다른언어들이 {}로 구분하는것과 달리, 파이썬은 :와 들여쓰기로 구분한다.\n",
    "\n",
    "\n",
    "#조건에 맞지 않으면, 오류가 아니라 실행자체를 안하고 패스한다.\n",
    "if a<3:\n",
    "    print(\"3보다 작다\")\n",
    "\n",
    "if a==5:\n",
    "    print(\"5와 같습니다\")\n",
    "print(\"if문 밖으로 빠져나옴, 여기서 부터 계속 실행\")"
   ]
  },
  {
   "cell_type": "code",
   "execution_count": 7,
   "metadata": {},
   "outputs": [
    {
     "name": "stdout",
     "output_type": "stream",
     "text": [
      "10보다 크다\n",
      "15입니다\n"
     ]
    }
   ],
   "source": [
    "#조건안에 들여쓰기에서 빠져나오지 않았다면, 계속 밑으로 진행\n",
    "x=15\n",
    "if x>10:\n",
    "    print(\"10보다 크다\")\n",
    "    if x==15:\n",
    "        print(\"15입니다\")\n",
    "    if x==20:\n",
    "        print(\"20입니다\")    \n",
    "        \n",
    "# if a=5:\n",
    "#     print(\"5를a에 넣는다면?\")        \n",
    "# 값을 할당하는 것은 불가능하다. 조건문은 참과 거짓을 판단하는 것이다.\n",
    "\n"
   ]
  },
  {
   "cell_type": "code",
   "execution_count": 3,
   "metadata": {},
   "outputs": [
    {
     "name": "stdout",
     "output_type": "stream",
     "text": [
      "10보다 크다(10이상)\n",
      "else도 들여쓰기 영역 모두 실행\n"
     ]
    }
   ],
   "source": [
    "# else 활용.  if 조건이 맞지 않을때 실행되는 코드블럭\n",
    "\n",
    "x =15\n",
    "\n",
    "if x<10:\n",
    "    print(\"10보다 작다(10미만)\")\n",
    "else:\n",
    "    print(\"10보다 크다(10이상)\")\n",
    "    print(\"else도 들여쓰기 영역 모두 실행\")        "
   ]
  },
  {
   "cell_type": "code",
   "execution_count": 4,
   "metadata": {},
   "outputs": [
    {
     "name": "stdout",
     "output_type": "stream",
     "text": [
      "여기 들어온다\n",
      "여기는 들어와야한다\n"
     ]
    }
   ],
   "source": [
    "if True:\n",
    "    print(\"여기 들어온다\")\n",
    "else:\n",
    "    print(\"여기는 안들어와야한다\") \n",
    "    \n",
    "if False:\n",
    "    print(\"여기는 안들어온다\")\n",
    "else:\n",
    "    print(\"여기는 들어와야한다\")           "
   ]
  },
  {
   "cell_type": "code",
   "execution_count": 12,
   "metadata": {},
   "outputs": [
    {
     "name": "stdout",
     "output_type": "stream",
     "text": [
      "0만 아니면 True 취급.\n",
      "문자열도 True 취급.\n",
      "비었으면 False취급으로 여기로 들어와야한다\n",
      "여기로 들어와야한다\n"
     ]
    }
   ],
   "source": [
    "if 1:\n",
    "    print(\"0만 아니면 True 취급.\")\n",
    "else:\n",
    "    print(\"여기는 안들어와야한다\") \n",
    "    \n",
    "    \n",
    "if \"배고파\":\n",
    "    print(\"문자열도 True 취급.\")\n",
    "else:\n",
    "    print(\"여기는 안들어와야한다\")\n",
    "    \n",
    "if \"\":\n",
    "    print(\"빈 문자열은 False 취급\")\n",
    "else:\n",
    "    print(\"비었으면 False취급으로 여기로 들어와야한다\")                    \n",
    "    \n",
    "if 0:\n",
    "    print(\"0은 False 취급\")\n",
    "else:\n",
    "    print(\"여기로 들어와야한다\")           \n",
    "\n",
    "#bool타입으로 조건을 판단할때, 0이면 False, 1이면 True로 판단한다.\n",
    "#파이썬에서는 if 문에서 10, -1은 True로 판정됩니다.\n",
    "# 파이썬에서 0, 빈 문자열 \"\", 빈 리스트 [], 빈 딕셔너리 {} 등을 제외한 모든 값은 True로 평가됩니다"
   ]
  },
  {
   "cell_type": "code",
   "execution_count": 13,
   "metadata": {},
   "outputs": [
    {
     "name": "stdout",
     "output_type": "stream",
     "text": [
      "True\n",
      "False\n",
      "True\n",
      "False\n"
     ]
    }
   ],
   "source": [
    "print(bool(1))\n",
    "print(bool(0))\n",
    "print(bool(\"Hello\"))\n",
    "print(bool(\"\"))"
   ]
  },
  {
   "cell_type": "code",
   "execution_count": 14,
   "metadata": {},
   "outputs": [
    {
     "name": "stdout",
     "output_type": "stream",
     "text": [
      "둘다 일치해야만 여기로 들어온다\n"
     ]
    }
   ],
   "source": [
    "#and 연산자\n",
    "# 둘다 True일때만 True\n",
    "\n",
    "a=1\n",
    "b=2\n",
    "\n",
    "if a>0 and b>0:\n",
    "    print(\"둘다 일치해야만 여기로 들어온다\")\n",
    "else:\n",
    "    print(\"둘중 하나라도 일치하지 않으면 여기로 들어온다\")    "
   ]
  },
  {
   "cell_type": "code",
   "execution_count": 15,
   "metadata": {},
   "outputs": [
    {
     "name": "stdout",
     "output_type": "stream",
     "text": [
      "둘중 하나라도 일치하지 않으면 여기로 들어온다\n"
     ]
    }
   ],
   "source": [
    "a=1\n",
    "b=-2\n",
    "\n",
    "if a>0 and b>0:\n",
    "    print(\"둘다 일치해야만 여기로 들어온다\")\n",
    "else:\n",
    "    print(\"둘중 하나라도 일치하지 않으면 여기로 들어온다\")    "
   ]
  },
  {
   "cell_type": "code",
   "execution_count": 16,
   "metadata": {},
   "outputs": [
    {
     "name": "stdout",
     "output_type": "stream",
     "text": [
      "둘다 일치하지 않으면 여기로 들어온다\n"
     ]
    }
   ],
   "source": [
    "#or 연산자\n",
    "# 둘중 하나만 True여도 True\n",
    "\n",
    "a = -1\n",
    "b= -1\n",
    "\n",
    "if a>0 or b>0:\n",
    "    print(\"둘중 하나라도 일치하면 여기로 들어온다\")\n",
    "else:\n",
    "    print(\"둘다 일치하지 않으면 여기로 들어온다\")        "
   ]
  },
  {
   "cell_type": "code",
   "execution_count": 17,
   "metadata": {},
   "outputs": [
    {
     "name": "stdout",
     "output_type": "stream",
     "text": [
      "둘중 하나라도 일치하면 여기로 들어온다\n"
     ]
    }
   ],
   "source": [
    "#or 연산자\n",
    "# 둘중 하나만 True여도 True\n",
    "\n",
    "a = -1\n",
    "b= 2\n",
    "\n",
    "if a>0 or b>0:\n",
    "    print(\"둘중 하나라도 일치하면 여기로 들어온다\")\n",
    "else:\n",
    "    print(\"둘다 일치하지 않으면 여기로 들어온다\")  "
   ]
  },
  {
   "cell_type": "code",
   "execution_count": 18,
   "metadata": {},
   "outputs": [
    {
     "name": "stdout",
     "output_type": "stream",
     "text": [
      "0보다 크고 20보다 작다\n"
     ]
    }
   ],
   "source": [
    "# 부등호로도 조건문을 사용할 수 있다.\n",
    "# 파이썬에서는 부등호를 연속으로 사용할 수 있다.\n",
    "x=15\n",
    "\n",
    "if 0<x<20:\n",
    "    print(\"0보다 크고 20보다 작다\")"
   ]
  },
  {
   "cell_type": "code",
   "execution_count": 19,
   "metadata": {},
   "outputs": [
    {
     "name": "stdout",
     "output_type": "stream",
     "text": [
      "0보다 작거나 20보다 크다\n"
     ]
    }
   ],
   "source": [
    "# 부등호로도 조건문을 사용할 수 있다.\n",
    "# 파이썬에서는 부등호를 연속으로 사용할 수 있다.\n",
    "x=25\n",
    "\n",
    "if 0<x<20:\n",
    "    print(\"0보다 크고 20보다 작다\")\n",
    "else:\n",
    "    print(\"0보다 작거나 20보다 크다\")    "
   ]
  },
  {
   "cell_type": "code",
   "execution_count": 20,
   "metadata": {},
   "outputs": [
    {
     "name": "stdout",
     "output_type": "stream",
     "text": [
      "20보다 크다\n"
     ]
    }
   ],
   "source": [
    "#elif\n",
    "# else if의 줄임말\n",
    "# 여러개의 조건을 판단할때 사용한다.\n",
    "# elif는 여러개 사용가능하다.\n",
    "# else는 마지막에 한번만 사용가능하다.\n",
    "\n",
    "x= 26\n",
    "\n",
    "if 0 < x < 20:\n",
    "    print(\"0보다 크고 20보다 작다\")\n",
    "elif x==20:\n",
    "    print(\"20입니다\")\n",
    "else:\n",
    "    print(\"20보다 크다\")    \n",
    "        \n",
    "\n",
    "\n"
   ]
  },
  {
   "cell_type": "code",
   "execution_count": null,
   "metadata": {},
   "outputs": [],
   "source": []
  }
 ],
 "metadata": {
  "kernelspec": {
   "display_name": "pyenv311",
   "language": "python",
   "name": "python3"
  },
  "language_info": {
   "codemirror_mode": {
    "name": "ipython",
    "version": 3
   },
   "file_extension": ".py",
   "mimetype": "text/x-python",
   "name": "python",
   "nbconvert_exporter": "python",
   "pygments_lexer": "ipython3",
   "version": "3.11.5"
  }
 },
 "nbformat": 4,
 "nbformat_minor": 2
}
