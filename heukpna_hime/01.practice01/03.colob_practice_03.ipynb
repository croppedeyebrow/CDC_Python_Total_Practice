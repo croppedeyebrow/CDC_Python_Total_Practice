{
 "cells": [
  {
   "cell_type": "code",
   "execution_count": 1,
   "metadata": {},
   "outputs": [],
   "source": [
    "##여러 개를 한 변수에 넣을 순 없을까? 리스트!##"
   ]
  },
  {
   "cell_type": "code",
   "execution_count": 2,
   "metadata": {},
   "outputs": [
    {
     "name": "stdout",
     "output_type": "stream",
     "text": [
      "[1, 2, 3]\n"
     ]
    }
   ],
   "source": [
    " c = [1,2,3]  #list라고 함  리스트는 []로 표시.\n",
    " print(c)"
   ]
  },
  {
   "cell_type": "code",
   "execution_count": 3,
   "metadata": {},
   "outputs": [
    {
     "name": "stdout",
     "output_type": "stream",
     "text": [
      "[1, 2, 3, 3, 4, 5]\n"
     ]
    }
   ],
   "source": [
    "c = [1,2,3]\n",
    "d = [3,4,5] \n",
    "print(c+d)  #리스트 끼리는 더하는게 아니고 쌓는다."
   ]
  },
  {
   "cell_type": "code",
   "execution_count": 4,
   "metadata": {},
   "outputs": [
    {
     "name": "stdout",
     "output_type": "stream",
     "text": [
      "[1, '졸려', 3]\n"
     ]
    }
   ],
   "source": [
    "c =[]  # 빈리스트\n",
    "c.append(1)    #append는 리스트에 추가\n",
    "c.append(\"졸려\")\n",
    "c.append(3)\n",
    "print(c)"
   ]
  },
  {
   "cell_type": "code",
   "execution_count": 5,
   "metadata": {},
   "outputs": [
    {
     "name": "stdout",
     "output_type": "stream",
     "text": [
      "[1]\n"
     ]
    }
   ],
   "source": [
    " a= []\n",
    "\n",
    " a = a+[1]  #리스트로 만들어서 쌓기\n",
    "\n",
    " print(a)"
   ]
  },
  {
   "cell_type": "code",
   "execution_count": 7,
   "metadata": {},
   "outputs": [
    {
     "name": "stdout",
     "output_type": "stream",
     "text": [
      "[1, '졸린디', 2]\n"
     ]
    }
   ],
   "source": [
    "a = []\n",
    "a += [1]\n",
    "a += [\"졸린디\"]\n",
    "a +=[2]\n",
    "print(a)"
   ]
  },
  {
   "cell_type": "code",
   "execution_count": 8,
   "metadata": {},
   "outputs": [
    {
     "name": "stdout",
     "output_type": "stream",
     "text": [
      "[1, 1.5, 1.8]\n"
     ]
    }
   ],
   "source": [
    "loss_history =[]\n",
    "loss = 1\n",
    "loss_history +=[loss]\n",
    "loss = 1.5\n",
    "loss_history +=[loss]\n",
    "loss = 1.8\n",
    "loss_history +=[loss]\n",
    "print(loss_history)"
   ]
  },
  {
   "cell_type": "code",
   "execution_count": 9,
   "metadata": {},
   "outputs": [],
   "source": [
    "#range는 반복문의 친구"
   ]
  },
  {
   "cell_type": "code",
   "execution_count": 10,
   "metadata": {},
   "outputs": [
    {
     "data": {
      "text/plain": [
       "range(0, 10)"
      ]
     },
     "execution_count": 10,
     "metadata": {},
     "output_type": "execute_result"
    }
   ],
   "source": [
    "range(10)"
   ]
  },
  {
   "cell_type": "code",
   "execution_count": 11,
   "metadata": {},
   "outputs": [
    {
     "data": {
      "text/plain": [
       "[0, 1, 2, 3, 4, 5, 6, 7, 8, 9]"
      ]
     },
     "execution_count": 11,
     "metadata": {},
     "output_type": "execute_result"
    }
   ],
   "source": [
    "range(10)\n",
    "list(range(10))"
   ]
  },
  {
   "cell_type": "code",
   "execution_count": 12,
   "metadata": {},
   "outputs": [
    {
     "name": "stdout",
     "output_type": "stream",
     "text": [
      "[1, 2, 3, 4, 5, 6, 7, 8, 9, 10]\n"
     ]
    }
   ],
   "source": [
    "b=list(range(1,11))   #  (시작값, -1 한게 끝값.)\n",
    "print(b)"
   ]
  },
  {
   "cell_type": "code",
   "execution_count": 14,
   "metadata": {},
   "outputs": [
    {
     "name": "stdout",
     "output_type": "stream",
     "text": [
      "[1, 2, 3, 4, 5, 6, 7, 8, 9, 10]\n",
      "[1, 3, 5, 7, 9]\n",
      "[10, 9, 8, 7, 6, 5, 4, 3, 2, 1]\n"
     ]
    }
   ],
   "source": [
    "b=list(range(1,11))   #  (시작값, -1 한게 끝값.)\n",
    "print(b)\n",
    "\n",
    "c=list(range(1,11,2))   # 1부터 시작 11미만,  2간격\n",
    "print(c)\n",
    "\n",
    "print(list(range(10,0,-1)))  # 10부터 0까지 -1간격"
   ]
  },
  {
   "cell_type": "code",
   "execution_count": 15,
   "metadata": {},
   "outputs": [],
   "source": [
    "#할당한 이후에 변동이 없는 튜플"
   ]
  },
  {
   "cell_type": "code",
   "execution_count": 16,
   "metadata": {},
   "outputs": [
    {
     "name": "stdout",
     "output_type": "stream",
     "text": [
      "<class 'tuple'>\n",
      "<class 'list'>\n"
     ]
    }
   ],
   "source": [
    "a = (1,\"z\",3) #튜플은 ()\n",
    "b = [1,2,3]\n",
    "print(type(a))\n",
    "print(type(b))"
   ]
  },
  {
   "cell_type": "code",
   "execution_count": 17,
   "metadata": {},
   "outputs": [
    {
     "name": "stdout",
     "output_type": "stream",
     "text": [
      "(0, 1, 2, 3, 4, 5, 6, 7, 8, 9)\n"
     ]
    }
   ],
   "source": [
    "b=tuple(range(10)) #range를 튜플로 변환\n",
    "print(b)"
   ]
  },
  {
   "cell_type": "code",
   "execution_count": 18,
   "metadata": {},
   "outputs": [
    {
     "name": "stdout",
     "output_type": "stream",
     "text": [
      "[0, 1, 2, 3, 4, 5, 6, 7, 8, 9]\n",
      "(0, 1, 2, 3, 4, 5, 6, 7, 8, 9)\n",
      "(0, 1, 2, 3, 4, 5, 6, 7, 8, 9)\n",
      "[0, 1, 2, 3, 4, 5, 6, 7, 8, 9]\n"
     ]
    }
   ],
   "source": [
    "a = list(range(10))\n",
    "b = tuple(range(10))\n",
    "\n",
    "\n",
    "print(a)\n",
    "print(b)\n",
    "\n",
    "c= tuple(a)  #리스트를 튜플로\n",
    "d = list(b)   # 튜플을 리스트로\n",
    "\n",
    "print(c)\n",
    "print(d)"
   ]
  },
  {
   "cell_type": "code",
   "execution_count": 19,
   "metadata": {},
   "outputs": [],
   "source": [
    "# in은 있냐?를 물어봄"
   ]
  },
  {
   "cell_type": "code",
   "execution_count": 21,
   "metadata": {},
   "outputs": [
    {
     "name": "stdout",
     "output_type": "stream",
     "text": [
      "True\n",
      "False\n",
      "True\n",
      "True\n"
     ]
    }
   ],
   "source": [
    " a = list(range(10))\n",
    " b=tuple(range(10))\n",
    "c= range(10)\n",
    "\n",
    "print(1 in a) #a에 1이 있냐?\n",
    "print(15 in b) #b에 15가 있냐?\n",
    "print( 15 not in b) #b에 15가 없냐?\n",
    "print( 5 in c) #c에 5가 있냐?"
   ]
  },
  {
   "cell_type": "code",
   "execution_count": 22,
   "metadata": {},
   "outputs": [
    {
     "name": "stdout",
     "output_type": "stream",
     "text": [
      "True\n",
      "False\n"
     ]
    }
   ],
   "source": [
    "s = \"hello\"\n",
    "\n",
    "print(\"h\" in s)\n",
    "print(\"H\" in s)"
   ]
  },
  {
   "cell_type": "code",
   "execution_count": 2,
   "metadata": {},
   "outputs": [
    {
     "name": "stdout",
     "output_type": "stream",
     "text": [
      "5\n",
      "hello\n",
      "['hello']\n",
      "1\n"
     ]
    }
   ],
   "source": [
    "s= \"hello\"\n",
    "s2 = [\"hello\"]\n",
    "print (len(s))\n",
    "#len()안에 문자열이 들어오면 문자의 개수를 알려주고\n",
    "#len()안에 리스트가 들어오면 리스트에 들어있는 항목의 개수를 알려준\n",
    "print(s)\n",
    "print(s2)\n",
    "print(len(s2)) # 왜 하나일까? 리스트의 길이를 알려주는 거라서"
   ]
  },
  {
   "cell_type": "code",
   "execution_count": 6,
   "metadata": {},
   "outputs": [
    {
     "name": "stdout",
     "output_type": "stream",
     "text": [
      "1\n",
      "2 3 1\n",
      "3\n",
      "3 2 1\n"
     ]
    }
   ],
   "source": [
    "#인덱스 순서에 맞게 출력\n",
    "#인덱스 순서는 0부터 시작\n",
    "a=[1,2,3]\n",
    "print(a[0])   # a[i] : i 번쨰의 값을 가리킴, 이런 것을 인덱싱이라고 함.\n",
    "print(a[1], a[2], a[0])\n",
    "\n",
    "#마지막 인덱스 출력\n",
    "print(a[-1])\n",
    "\n",
    "#역순으로 세는 것도 가능\n",
    "print(a[-1],a[-2], a[-3])"
   ]
  },
  {
   "cell_type": "code",
   "execution_count": 7,
   "metadata": {},
   "outputs": [
    {
     "name": "stdout",
     "output_type": "stream",
     "text": [
      "0 2 4\n"
     ]
    }
   ],
   "source": [
    "#range에서 인덱싱\n",
    "r=range(0,10,2)\n",
    "print(r[0], r[1],r[2])"
   ]
  },
  {
   "cell_type": "code",
   "execution_count": 9,
   "metadata": {},
   "outputs": [
    {
     "name": "stdout",
     "output_type": "stream",
     "text": [
      "[1, 2, 3]\n",
      "[3, 12, 7]\n"
     ]
    }
   ],
   "source": [
    "#인덱스를 이용한 값 변경\n",
    "\n",
    "a = [1,2,3]\n",
    "print(a)\n",
    "\n",
    "\n",
    "a[0] = 3\n",
    "a[1] = 12\n",
    "a[2] = 7\n",
    "\n",
    "print(a)"
   ]
  },
  {
   "cell_type": "code",
   "execution_count": 11,
   "metadata": {},
   "outputs": [],
   "source": [
    "#리스트는 이렇게 재할당이 가능[mutable]하지만, 튜플은 불가[immutable]"
   ]
  },
  {
   "cell_type": "code",
   "execution_count": 12,
   "metadata": {},
   "outputs": [
    {
     "name": "stdout",
     "output_type": "stream",
     "text": [
      "[1, 3]\n"
     ]
    }
   ],
   "source": [
    "#del, 삭제하기\n",
    "\n",
    "a = [1,2,3]\n",
    "del a[1]\n",
    "print(a)"
   ]
  },
  {
   "cell_type": "code",
   "execution_count": null,
   "metadata": {},
   "outputs": [],
   "source": []
  }
 ],
 "metadata": {
  "kernelspec": {
   "display_name": "pyenv311",
   "language": "python",
   "name": "python3"
  },
  "language_info": {
   "codemirror_mode": {
    "name": "ipython",
    "version": 3
   },
   "file_extension": ".py",
   "mimetype": "text/x-python",
   "name": "python",
   "nbconvert_exporter": "python",
   "pygments_lexer": "ipython3",
   "version": "3.11.5"
  }
 },
 "nbformat": 4,
 "nbformat_minor": 2
}
